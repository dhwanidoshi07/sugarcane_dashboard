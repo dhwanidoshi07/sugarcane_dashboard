{
 "cells": [
  {
   "cell_type": "markdown",
   "id": "85a70f70",
   "metadata": {},
   "source": [
    "Importing required modules"
   ]
  },
  {
   "cell_type": "code",
   "execution_count": 1,
   "id": "e0cdca4f-0249-4634-bc81-a66bb9698d59",
   "metadata": {},
   "outputs": [
    {
     "data": {
      "application/javascript": [
       "(function(root) {\n",
       "  function now() {\n",
       "    return new Date();\n",
       "  }\n",
       "\n",
       "  var force = true;\n",
       "\n",
       "  if (typeof root._bokeh_onload_callbacks === \"undefined\" || force === true) {\n",
       "    root._bokeh_onload_callbacks = [];\n",
       "    root._bokeh_is_loading = undefined;\n",
       "  }\n",
       "\n",
       "  if (typeof (root._bokeh_timeout) === \"undefined\" || force === true) {\n",
       "    root._bokeh_timeout = Date.now() + 5000;\n",
       "    root._bokeh_failed_load = false;\n",
       "  }\n",
       "\n",
       "  function run_callbacks() {\n",
       "    try {\n",
       "      root._bokeh_onload_callbacks.forEach(function(callback) {\n",
       "        if (callback != null)\n",
       "          callback();\n",
       "      });\n",
       "    } finally {\n",
       "      delete root._bokeh_onload_callbacks\n",
       "    }\n",
       "    console.debug(\"Bokeh: all callbacks have finished\");\n",
       "  }\n",
       "\n",
       "  function load_libs(css_urls, js_urls, js_modules, callback) {\n",
       "    if (css_urls == null) css_urls = [];\n",
       "    if (js_urls == null) js_urls = [];\n",
       "    if (js_modules == null) js_modules = [];\n",
       "\n",
       "    root._bokeh_onload_callbacks.push(callback);\n",
       "    if (root._bokeh_is_loading > 0) {\n",
       "      console.debug(\"Bokeh: BokehJS is being loaded, scheduling callback at\", now());\n",
       "      return null;\n",
       "    }\n",
       "    if (js_urls.length === 0 && js_modules.length === 0) {\n",
       "      run_callbacks();\n",
       "      return null;\n",
       "    }\n",
       "    console.debug(\"Bokeh: BokehJS not loaded, scheduling load and callback at\", now());\n",
       "\n",
       "    function on_load() {\n",
       "      root._bokeh_is_loading--;\n",
       "      if (root._bokeh_is_loading === 0) {\n",
       "        console.debug(\"Bokeh: all BokehJS libraries/stylesheets loaded\");\n",
       "        run_callbacks()\n",
       "      }\n",
       "    }\n",
       "\n",
       "    function on_error() {\n",
       "      console.error(\"failed to load \" + url);\n",
       "    }\n",
       "\n",
       "    for (var i = 0; i < css_urls.length; i++) {\n",
       "      var url = css_urls[i];\n",
       "      const element = document.createElement(\"link\");\n",
       "      element.onload = on_load;\n",
       "      element.onerror = on_error;\n",
       "      element.rel = \"stylesheet\";\n",
       "      element.type = \"text/css\";\n",
       "      element.href = url;\n",
       "      console.debug(\"Bokeh: injecting link tag for BokehJS stylesheet: \", url);\n",
       "      document.body.appendChild(element);\n",
       "    }\n",
       "\n",
       "    var skip = [];\n",
       "    if (window.requirejs) {\n",
       "      window.requirejs.config({'packages': {}, 'paths': {'tabulator': 'https://unpkg.com/tabulator-tables@4.9.3/dist/js/tabulator', 'moment': 'https://cdn.jsdelivr.net/npm/luxon/build/global/luxon.min', 'gridstack': 'https://cdn.jsdelivr.net/npm/gridstack@4.2.5/dist/gridstack-h5', 'notyf': 'https://cdn.jsdelivr.net/npm/notyf@3/notyf.min'}, 'shim': {'gridstack': {'exports': 'GridStack'}}});\n",
       "      require([\"tabulator\"], function(Tabulator) {\n",
       "\twindow.Tabulator = Tabulator\n",
       "\ton_load()\n",
       "      })\n",
       "      require([\"moment\"], function(moment) {\n",
       "\twindow.moment = moment\n",
       "\ton_load()\n",
       "      })\n",
       "      require([\"gridstack\"], function(GridStack) {\n",
       "\twindow.GridStack = GridStack\n",
       "\ton_load()\n",
       "      })\n",
       "      require([\"notyf\"], function() {\n",
       "\ton_load()\n",
       "      })\n",
       "      root._bokeh_is_loading = css_urls.length + 4;\n",
       "    } else {\n",
       "      root._bokeh_is_loading = css_urls.length + js_urls.length + js_modules.length;\n",
       "    }    if (((window['Tabulator'] !== undefined) && (!(window['Tabulator'] instanceof HTMLElement))) || window.requirejs) {\n",
       "      var urls = ['https://unpkg.com/tabulator-tables@4.9.3/dist/js/tabulator.js'];\n",
       "      for (var i = 0; i < urls.length; i++) {\n",
       "        skip.push(urls[i])\n",
       "      }\n",
       "    }    if (((window['moment'] !== undefined) && (!(window['moment'] instanceof HTMLElement))) || window.requirejs) {\n",
       "      var urls = ['https://cdn.jsdelivr.net/npm/luxon/build/global/luxon.min.js'];\n",
       "      for (var i = 0; i < urls.length; i++) {\n",
       "        skip.push(urls[i])\n",
       "      }\n",
       "    }    if (((window['GridStack'] !== undefined) && (!(window['GridStack'] instanceof HTMLElement))) || window.requirejs) {\n",
       "      var urls = ['https://cdn.jsdelivr.net/npm/gridstack@4.2.5/dist/gridstack-h5.js'];\n",
       "      for (var i = 0; i < urls.length; i++) {\n",
       "        skip.push(urls[i])\n",
       "      }\n",
       "    }    if (((window['Notyf'] !== undefined) && (!(window['Notyf'] instanceof HTMLElement))) || window.requirejs) {\n",
       "      var urls = ['https://cdn.jsdelivr.net/npm/notyf@3/notyf.min.js'];\n",
       "      for (var i = 0; i < urls.length; i++) {\n",
       "        skip.push(urls[i])\n",
       "      }\n",
       "    }    for (var i = 0; i < js_urls.length; i++) {\n",
       "      var url = js_urls[i];\n",
       "      if (skip.indexOf(url) >= 0) {\n",
       "\tif (!window.requirejs) {\n",
       "\t  on_load();\n",
       "\t}\n",
       "\tcontinue;\n",
       "      }\n",
       "      var element = document.createElement('script');\n",
       "      element.onload = on_load;\n",
       "      element.onerror = on_error;\n",
       "      element.async = false;\n",
       "      element.src = url;\n",
       "      console.debug(\"Bokeh: injecting script tag for BokehJS library: \", url);\n",
       "      document.head.appendChild(element);\n",
       "    }\n",
       "    for (var i = 0; i < js_modules.length; i++) {\n",
       "      var url = js_modules[i];\n",
       "      if (skip.indexOf(url) >= 0) {\n",
       "\tif (!window.requirejs) {\n",
       "\t  on_load();\n",
       "\t}\n",
       "\tcontinue;\n",
       "      }\n",
       "      var element = document.createElement('script');\n",
       "      element.onload = on_load;\n",
       "      element.onerror = on_error;\n",
       "      element.async = false;\n",
       "      element.src = url;\n",
       "      element.type = \"module\";\n",
       "      console.debug(\"Bokeh: injecting script tag for BokehJS library: \", url);\n",
       "      document.head.appendChild(element);\n",
       "    }\n",
       "    if (!js_urls.length && !js_modules.length) {\n",
       "      on_load()\n",
       "    }\n",
       "  };\n",
       "\n",
       "  function inject_raw_css(css) {\n",
       "    const element = document.createElement(\"style\");\n",
       "    element.appendChild(document.createTextNode(css));\n",
       "    document.body.appendChild(element);\n",
       "  }\n",
       "\n",
       "  var js_urls = [\"https://unpkg.com/tabulator-tables@4.9.3/dist/js/tabulator.js\", \"https://cdn.jsdelivr.net/npm/luxon/build/global/luxon.min.js\", \"https://cdn.bokeh.org/bokeh/release/bokeh-2.4.3.min.js\", \"https://cdn.bokeh.org/bokeh/release/bokeh-gl-2.4.3.min.js\", \"https://cdn.bokeh.org/bokeh/release/bokeh-widgets-2.4.3.min.js\", \"https://cdn.bokeh.org/bokeh/release/bokeh-tables-2.4.3.min.js\", \"https://cdn.bokeh.org/bokeh/release/bokeh-mathjax-2.4.3.min.js\", \"https://cdn.jsdelivr.net/npm/notyf@3/notyf.min.js\", \"https://unpkg.com/@holoviz/panel@0.13.1/dist/panel.min.js\"];\n",
       "  var js_modules = [];\n",
       "  var css_urls = [\"https://unpkg.com/tabulator-tables@4.9.3/dist/css/tabulator_simple.min.css\", \"https://cdn.jsdelivr.net/npm/notyf@3/notyf.min.css\", \"https://cdnjs.cloudflare.com/ajax/libs/font-awesome/5.15.1/css/all.min.css\", \"https://unpkg.com/@holoviz/panel@0.13.1/dist/css/debugger.css\", \"https://unpkg.com/@holoviz/panel@0.13.1/dist/css/alerts.css\", \"https://unpkg.com/@holoviz/panel@0.13.1/dist/css/card.css\", \"https://unpkg.com/@holoviz/panel@0.13.1/dist/css/widgets.css\", \"https://unpkg.com/@holoviz/panel@0.13.1/dist/css/markdown.css\", \"https://unpkg.com/@holoviz/panel@0.13.1/dist/css/json.css\", \"https://unpkg.com/@holoviz/panel@0.13.1/dist/css/loading.css\", \"https://unpkg.com/@holoviz/panel@0.13.1/dist/css/dataframe.css\"];\n",
       "  var inline_js = [    function(Bokeh) {\n",
       "      inject_raw_css(\"\\n    .bk.pn-loading.arcs:before {\\n      background-image: url(\\\"data:image/svg+xml;base64,PHN2ZyB4bWxucz0iaHR0cDovL3d3dy53My5vcmcvMjAwMC9zdmciIHhtbG5zOnhsaW5rPSJodHRwOi8vd3d3LnczLm9yZy8xOTk5L3hsaW5rIiBzdHlsZT0ibWFyZ2luOiBhdXRvOyBiYWNrZ3JvdW5kOiBub25lOyBkaXNwbGF5OiBibG9jazsgc2hhcGUtcmVuZGVyaW5nOiBhdXRvOyIgdmlld0JveD0iMCAwIDEwMCAxMDAiIHByZXNlcnZlQXNwZWN0UmF0aW89InhNaWRZTWlkIj4gIDxjaXJjbGUgY3g9IjUwIiBjeT0iNTAiIHI9IjMyIiBzdHJva2Utd2lkdGg9IjgiIHN0cm9rZT0iI2MzYzNjMyIgc3Ryb2tlLWRhc2hhcnJheT0iNTAuMjY1NDgyNDU3NDM2NjkgNTAuMjY1NDgyNDU3NDM2NjkiIGZpbGw9Im5vbmUiIHN0cm9rZS1saW5lY2FwPSJyb3VuZCI+ICAgIDxhbmltYXRlVHJhbnNmb3JtIGF0dHJpYnV0ZU5hbWU9InRyYW5zZm9ybSIgdHlwZT0icm90YXRlIiByZXBlYXRDb3VudD0iaW5kZWZpbml0ZSIgZHVyPSIxcyIga2V5VGltZXM9IjA7MSIgdmFsdWVzPSIwIDUwIDUwOzM2MCA1MCA1MCI+PC9hbmltYXRlVHJhbnNmb3JtPiAgPC9jaXJjbGU+PC9zdmc+\\\");\\n      background-size: auto calc(min(50%, 400px));\\n    }\\n    \");\n",
       "    },    function(Bokeh) {\n",
       "      Bokeh.set_log_level(\"info\");\n",
       "    },\n",
       "function(Bokeh) {} // ensure no trailing comma for IE\n",
       "  ];\n",
       "\n",
       "  function run_inline_js() {\n",
       "    if ((root.Bokeh !== undefined) || (force === true)) {\n",
       "      for (var i = 0; i < inline_js.length; i++) {\n",
       "        inline_js[i].call(root, root.Bokeh);\n",
       "      }} else if (Date.now() < root._bokeh_timeout) {\n",
       "      setTimeout(run_inline_js, 100);\n",
       "    } else if (!root._bokeh_failed_load) {\n",
       "      console.log(\"Bokeh: BokehJS failed to load within specified timeout.\");\n",
       "      root._bokeh_failed_load = true;\n",
       "    }\n",
       "  }\n",
       "\n",
       "  if (root._bokeh_is_loading === 0) {\n",
       "    console.debug(\"Bokeh: BokehJS loaded, going straight to plotting\");\n",
       "    run_inline_js();\n",
       "  } else {\n",
       "    load_libs(css_urls, js_urls, js_modules, function() {\n",
       "      console.debug(\"Bokeh: BokehJS plotting callback run at\", now());\n",
       "      run_inline_js();\n",
       "    });\n",
       "  }\n",
       "}(window));"
      ],
      "application/vnd.holoviews_load.v0+json": "(function(root) {\n  function now() {\n    return new Date();\n  }\n\n  var force = true;\n\n  if (typeof root._bokeh_onload_callbacks === \"undefined\" || force === true) {\n    root._bokeh_onload_callbacks = [];\n    root._bokeh_is_loading = undefined;\n  }\n\n  if (typeof (root._bokeh_timeout) === \"undefined\" || force === true) {\n    root._bokeh_timeout = Date.now() + 5000;\n    root._bokeh_failed_load = false;\n  }\n\n  function run_callbacks() {\n    try {\n      root._bokeh_onload_callbacks.forEach(function(callback) {\n        if (callback != null)\n          callback();\n      });\n    } finally {\n      delete root._bokeh_onload_callbacks\n    }\n    console.debug(\"Bokeh: all callbacks have finished\");\n  }\n\n  function load_libs(css_urls, js_urls, js_modules, callback) {\n    if (css_urls == null) css_urls = [];\n    if (js_urls == null) js_urls = [];\n    if (js_modules == null) js_modules = [];\n\n    root._bokeh_onload_callbacks.push(callback);\n    if (root._bokeh_is_loading > 0) {\n      console.debug(\"Bokeh: BokehJS is being loaded, scheduling callback at\", now());\n      return null;\n    }\n    if (js_urls.length === 0 && js_modules.length === 0) {\n      run_callbacks();\n      return null;\n    }\n    console.debug(\"Bokeh: BokehJS not loaded, scheduling load and callback at\", now());\n\n    function on_load() {\n      root._bokeh_is_loading--;\n      if (root._bokeh_is_loading === 0) {\n        console.debug(\"Bokeh: all BokehJS libraries/stylesheets loaded\");\n        run_callbacks()\n      }\n    }\n\n    function on_error() {\n      console.error(\"failed to load \" + url);\n    }\n\n    for (var i = 0; i < css_urls.length; i++) {\n      var url = css_urls[i];\n      const element = document.createElement(\"link\");\n      element.onload = on_load;\n      element.onerror = on_error;\n      element.rel = \"stylesheet\";\n      element.type = \"text/css\";\n      element.href = url;\n      console.debug(\"Bokeh: injecting link tag for BokehJS stylesheet: \", url);\n      document.body.appendChild(element);\n    }\n\n    var skip = [];\n    if (window.requirejs) {\n      window.requirejs.config({'packages': {}, 'paths': {'tabulator': 'https://unpkg.com/tabulator-tables@4.9.3/dist/js/tabulator', 'moment': 'https://cdn.jsdelivr.net/npm/luxon/build/global/luxon.min', 'gridstack': 'https://cdn.jsdelivr.net/npm/gridstack@4.2.5/dist/gridstack-h5', 'notyf': 'https://cdn.jsdelivr.net/npm/notyf@3/notyf.min'}, 'shim': {'gridstack': {'exports': 'GridStack'}}});\n      require([\"tabulator\"], function(Tabulator) {\n\twindow.Tabulator = Tabulator\n\ton_load()\n      })\n      require([\"moment\"], function(moment) {\n\twindow.moment = moment\n\ton_load()\n      })\n      require([\"gridstack\"], function(GridStack) {\n\twindow.GridStack = GridStack\n\ton_load()\n      })\n      require([\"notyf\"], function() {\n\ton_load()\n      })\n      root._bokeh_is_loading = css_urls.length + 4;\n    } else {\n      root._bokeh_is_loading = css_urls.length + js_urls.length + js_modules.length;\n    }    if (((window['Tabulator'] !== undefined) && (!(window['Tabulator'] instanceof HTMLElement))) || window.requirejs) {\n      var urls = ['https://unpkg.com/tabulator-tables@4.9.3/dist/js/tabulator.js'];\n      for (var i = 0; i < urls.length; i++) {\n        skip.push(urls[i])\n      }\n    }    if (((window['moment'] !== undefined) && (!(window['moment'] instanceof HTMLElement))) || window.requirejs) {\n      var urls = ['https://cdn.jsdelivr.net/npm/luxon/build/global/luxon.min.js'];\n      for (var i = 0; i < urls.length; i++) {\n        skip.push(urls[i])\n      }\n    }    if (((window['GridStack'] !== undefined) && (!(window['GridStack'] instanceof HTMLElement))) || window.requirejs) {\n      var urls = ['https://cdn.jsdelivr.net/npm/gridstack@4.2.5/dist/gridstack-h5.js'];\n      for (var i = 0; i < urls.length; i++) {\n        skip.push(urls[i])\n      }\n    }    if (((window['Notyf'] !== undefined) && (!(window['Notyf'] instanceof HTMLElement))) || window.requirejs) {\n      var urls = ['https://cdn.jsdelivr.net/npm/notyf@3/notyf.min.js'];\n      for (var i = 0; i < urls.length; i++) {\n        skip.push(urls[i])\n      }\n    }    for (var i = 0; i < js_urls.length; i++) {\n      var url = js_urls[i];\n      if (skip.indexOf(url) >= 0) {\n\tif (!window.requirejs) {\n\t  on_load();\n\t}\n\tcontinue;\n      }\n      var element = document.createElement('script');\n      element.onload = on_load;\n      element.onerror = on_error;\n      element.async = false;\n      element.src = url;\n      console.debug(\"Bokeh: injecting script tag for BokehJS library: \", url);\n      document.head.appendChild(element);\n    }\n    for (var i = 0; i < js_modules.length; i++) {\n      var url = js_modules[i];\n      if (skip.indexOf(url) >= 0) {\n\tif (!window.requirejs) {\n\t  on_load();\n\t}\n\tcontinue;\n      }\n      var element = document.createElement('script');\n      element.onload = on_load;\n      element.onerror = on_error;\n      element.async = false;\n      element.src = url;\n      element.type = \"module\";\n      console.debug(\"Bokeh: injecting script tag for BokehJS library: \", url);\n      document.head.appendChild(element);\n    }\n    if (!js_urls.length && !js_modules.length) {\n      on_load()\n    }\n  };\n\n  function inject_raw_css(css) {\n    const element = document.createElement(\"style\");\n    element.appendChild(document.createTextNode(css));\n    document.body.appendChild(element);\n  }\n\n  var js_urls = [\"https://unpkg.com/tabulator-tables@4.9.3/dist/js/tabulator.js\", \"https://cdn.jsdelivr.net/npm/luxon/build/global/luxon.min.js\", \"https://cdn.bokeh.org/bokeh/release/bokeh-2.4.3.min.js\", \"https://cdn.bokeh.org/bokeh/release/bokeh-gl-2.4.3.min.js\", \"https://cdn.bokeh.org/bokeh/release/bokeh-widgets-2.4.3.min.js\", \"https://cdn.bokeh.org/bokeh/release/bokeh-tables-2.4.3.min.js\", \"https://cdn.bokeh.org/bokeh/release/bokeh-mathjax-2.4.3.min.js\", \"https://cdn.jsdelivr.net/npm/notyf@3/notyf.min.js\", \"https://unpkg.com/@holoviz/panel@0.13.1/dist/panel.min.js\"];\n  var js_modules = [];\n  var css_urls = [\"https://unpkg.com/tabulator-tables@4.9.3/dist/css/tabulator_simple.min.css\", \"https://cdn.jsdelivr.net/npm/notyf@3/notyf.min.css\", \"https://cdnjs.cloudflare.com/ajax/libs/font-awesome/5.15.1/css/all.min.css\", \"https://unpkg.com/@holoviz/panel@0.13.1/dist/css/debugger.css\", \"https://unpkg.com/@holoviz/panel@0.13.1/dist/css/alerts.css\", \"https://unpkg.com/@holoviz/panel@0.13.1/dist/css/card.css\", \"https://unpkg.com/@holoviz/panel@0.13.1/dist/css/widgets.css\", \"https://unpkg.com/@holoviz/panel@0.13.1/dist/css/markdown.css\", \"https://unpkg.com/@holoviz/panel@0.13.1/dist/css/json.css\", \"https://unpkg.com/@holoviz/panel@0.13.1/dist/css/loading.css\", \"https://unpkg.com/@holoviz/panel@0.13.1/dist/css/dataframe.css\"];\n  var inline_js = [    function(Bokeh) {\n      inject_raw_css(\"\\n    .bk.pn-loading.arcs:before {\\n      background-image: url(\\\"data:image/svg+xml;base64,PHN2ZyB4bWxucz0iaHR0cDovL3d3dy53My5vcmcvMjAwMC9zdmciIHhtbG5zOnhsaW5rPSJodHRwOi8vd3d3LnczLm9yZy8xOTk5L3hsaW5rIiBzdHlsZT0ibWFyZ2luOiBhdXRvOyBiYWNrZ3JvdW5kOiBub25lOyBkaXNwbGF5OiBibG9jazsgc2hhcGUtcmVuZGVyaW5nOiBhdXRvOyIgdmlld0JveD0iMCAwIDEwMCAxMDAiIHByZXNlcnZlQXNwZWN0UmF0aW89InhNaWRZTWlkIj4gIDxjaXJjbGUgY3g9IjUwIiBjeT0iNTAiIHI9IjMyIiBzdHJva2Utd2lkdGg9IjgiIHN0cm9rZT0iI2MzYzNjMyIgc3Ryb2tlLWRhc2hhcnJheT0iNTAuMjY1NDgyNDU3NDM2NjkgNTAuMjY1NDgyNDU3NDM2NjkiIGZpbGw9Im5vbmUiIHN0cm9rZS1saW5lY2FwPSJyb3VuZCI+ICAgIDxhbmltYXRlVHJhbnNmb3JtIGF0dHJpYnV0ZU5hbWU9InRyYW5zZm9ybSIgdHlwZT0icm90YXRlIiByZXBlYXRDb3VudD0iaW5kZWZpbml0ZSIgZHVyPSIxcyIga2V5VGltZXM9IjA7MSIgdmFsdWVzPSIwIDUwIDUwOzM2MCA1MCA1MCI+PC9hbmltYXRlVHJhbnNmb3JtPiAgPC9jaXJjbGU+PC9zdmc+\\\");\\n      background-size: auto calc(min(50%, 400px));\\n    }\\n    \");\n    },    function(Bokeh) {\n      Bokeh.set_log_level(\"info\");\n    },\nfunction(Bokeh) {} // ensure no trailing comma for IE\n  ];\n\n  function run_inline_js() {\n    if ((root.Bokeh !== undefined) || (force === true)) {\n      for (var i = 0; i < inline_js.length; i++) {\n        inline_js[i].call(root, root.Bokeh);\n      }} else if (Date.now() < root._bokeh_timeout) {\n      setTimeout(run_inline_js, 100);\n    } else if (!root._bokeh_failed_load) {\n      console.log(\"Bokeh: BokehJS failed to load within specified timeout.\");\n      root._bokeh_failed_load = true;\n    }\n  }\n\n  if (root._bokeh_is_loading === 0) {\n    console.debug(\"Bokeh: BokehJS loaded, going straight to plotting\");\n    run_inline_js();\n  } else {\n    load_libs(css_urls, js_urls, js_modules, function() {\n      console.debug(\"Bokeh: BokehJS plotting callback run at\", now());\n      run_inline_js();\n    });\n  }\n}(window));"
     },
     "metadata": {},
     "output_type": "display_data"
    },
    {
     "data": {
      "application/javascript": [
       "\n",
       "if ((window.PyViz === undefined) || (window.PyViz instanceof HTMLElement)) {\n",
       "  window.PyViz = {comms: {}, comm_status:{}, kernels:{}, receivers: {}, plot_index: []}\n",
       "}\n",
       "\n",
       "\n",
       "    function JupyterCommManager() {\n",
       "    }\n",
       "\n",
       "    JupyterCommManager.prototype.register_target = function(plot_id, comm_id, msg_handler) {\n",
       "      if (window.comm_manager || ((window.Jupyter !== undefined) && (Jupyter.notebook.kernel != null))) {\n",
       "        var comm_manager = window.comm_manager || Jupyter.notebook.kernel.comm_manager;\n",
       "        comm_manager.register_target(comm_id, function(comm) {\n",
       "          comm.on_msg(msg_handler);\n",
       "        });\n",
       "      } else if ((plot_id in window.PyViz.kernels) && (window.PyViz.kernels[plot_id])) {\n",
       "        window.PyViz.kernels[plot_id].registerCommTarget(comm_id, function(comm) {\n",
       "          comm.onMsg = msg_handler;\n",
       "        });\n",
       "      } else if (typeof google != 'undefined' && google.colab.kernel != null) {\n",
       "        google.colab.kernel.comms.registerTarget(comm_id, (comm) => {\n",
       "          var messages = comm.messages[Symbol.asyncIterator]();\n",
       "          function processIteratorResult(result) {\n",
       "            var message = result.value;\n",
       "            console.log(message)\n",
       "            var content = {data: message.data, comm_id};\n",
       "            var buffers = []\n",
       "            for (var buffer of message.buffers || []) {\n",
       "              buffers.push(new DataView(buffer))\n",
       "            }\n",
       "            var metadata = message.metadata || {};\n",
       "            var msg = {content, buffers, metadata}\n",
       "            msg_handler(msg);\n",
       "            return messages.next().then(processIteratorResult);\n",
       "          }\n",
       "          return messages.next().then(processIteratorResult);\n",
       "        })\n",
       "      }\n",
       "    }\n",
       "\n",
       "    JupyterCommManager.prototype.get_client_comm = function(plot_id, comm_id, msg_handler) {\n",
       "      if (comm_id in window.PyViz.comms) {\n",
       "        return window.PyViz.comms[comm_id];\n",
       "      } else if (window.comm_manager || ((window.Jupyter !== undefined) && (Jupyter.notebook.kernel != null))) {\n",
       "        var comm_manager = window.comm_manager || Jupyter.notebook.kernel.comm_manager;\n",
       "        var comm = comm_manager.new_comm(comm_id, {}, {}, {}, comm_id);\n",
       "        if (msg_handler) {\n",
       "          comm.on_msg(msg_handler);\n",
       "        }\n",
       "      } else if ((plot_id in window.PyViz.kernels) && (window.PyViz.kernels[plot_id])) {\n",
       "        var comm = window.PyViz.kernels[plot_id].connectToComm(comm_id);\n",
       "        comm.open();\n",
       "        if (msg_handler) {\n",
       "          comm.onMsg = msg_handler;\n",
       "        }\n",
       "      } else if (typeof google != 'undefined' && google.colab.kernel != null) {\n",
       "        var comm_promise = google.colab.kernel.comms.open(comm_id)\n",
       "        comm_promise.then((comm) => {\n",
       "          window.PyViz.comms[comm_id] = comm;\n",
       "          if (msg_handler) {\n",
       "            var messages = comm.messages[Symbol.asyncIterator]();\n",
       "            function processIteratorResult(result) {\n",
       "              var message = result.value;\n",
       "              var content = {data: message.data};\n",
       "              var metadata = message.metadata || {comm_id};\n",
       "              var msg = {content, metadata}\n",
       "              msg_handler(msg);\n",
       "              return messages.next().then(processIteratorResult);\n",
       "            }\n",
       "            return messages.next().then(processIteratorResult);\n",
       "          }\n",
       "        }) \n",
       "        var sendClosure = (data, metadata, buffers, disposeOnDone) => {\n",
       "          return comm_promise.then((comm) => {\n",
       "            comm.send(data, metadata, buffers, disposeOnDone);\n",
       "          });\n",
       "        };\n",
       "        var comm = {\n",
       "          send: sendClosure\n",
       "        };\n",
       "      }\n",
       "      window.PyViz.comms[comm_id] = comm;\n",
       "      return comm;\n",
       "    }\n",
       "    window.PyViz.comm_manager = new JupyterCommManager();\n",
       "    \n",
       "\n",
       "\n",
       "var JS_MIME_TYPE = 'application/javascript';\n",
       "var HTML_MIME_TYPE = 'text/html';\n",
       "var EXEC_MIME_TYPE = 'application/vnd.holoviews_exec.v0+json';\n",
       "var CLASS_NAME = 'output';\n",
       "\n",
       "/**\n",
       " * Render data to the DOM node\n",
       " */\n",
       "function render(props, node) {\n",
       "  var div = document.createElement(\"div\");\n",
       "  var script = document.createElement(\"script\");\n",
       "  node.appendChild(div);\n",
       "  node.appendChild(script);\n",
       "}\n",
       "\n",
       "/**\n",
       " * Handle when a new output is added\n",
       " */\n",
       "function handle_add_output(event, handle) {\n",
       "  var output_area = handle.output_area;\n",
       "  var output = handle.output;\n",
       "  if ((output.data == undefined) || (!output.data.hasOwnProperty(EXEC_MIME_TYPE))) {\n",
       "    return\n",
       "  }\n",
       "  var id = output.metadata[EXEC_MIME_TYPE][\"id\"];\n",
       "  var toinsert = output_area.element.find(\".\" + CLASS_NAME.split(' ')[0]);\n",
       "  if (id !== undefined) {\n",
       "    var nchildren = toinsert.length;\n",
       "    var html_node = toinsert[nchildren-1].children[0];\n",
       "    html_node.innerHTML = output.data[HTML_MIME_TYPE];\n",
       "    var scripts = [];\n",
       "    var nodelist = html_node.querySelectorAll(\"script\");\n",
       "    for (var i in nodelist) {\n",
       "      if (nodelist.hasOwnProperty(i)) {\n",
       "        scripts.push(nodelist[i])\n",
       "      }\n",
       "    }\n",
       "\n",
       "    scripts.forEach( function (oldScript) {\n",
       "      var newScript = document.createElement(\"script\");\n",
       "      var attrs = [];\n",
       "      var nodemap = oldScript.attributes;\n",
       "      for (var j in nodemap) {\n",
       "        if (nodemap.hasOwnProperty(j)) {\n",
       "          attrs.push(nodemap[j])\n",
       "        }\n",
       "      }\n",
       "      attrs.forEach(function(attr) { newScript.setAttribute(attr.name, attr.value) });\n",
       "      newScript.appendChild(document.createTextNode(oldScript.innerHTML));\n",
       "      oldScript.parentNode.replaceChild(newScript, oldScript);\n",
       "    });\n",
       "    if (JS_MIME_TYPE in output.data) {\n",
       "      toinsert[nchildren-1].children[1].textContent = output.data[JS_MIME_TYPE];\n",
       "    }\n",
       "    output_area._hv_plot_id = id;\n",
       "    if ((window.Bokeh !== undefined) && (id in Bokeh.index)) {\n",
       "      window.PyViz.plot_index[id] = Bokeh.index[id];\n",
       "    } else {\n",
       "      window.PyViz.plot_index[id] = null;\n",
       "    }\n",
       "  } else if (output.metadata[EXEC_MIME_TYPE][\"server_id\"] !== undefined) {\n",
       "    var bk_div = document.createElement(\"div\");\n",
       "    bk_div.innerHTML = output.data[HTML_MIME_TYPE];\n",
       "    var script_attrs = bk_div.children[0].attributes;\n",
       "    for (var i = 0; i < script_attrs.length; i++) {\n",
       "      toinsert[toinsert.length - 1].childNodes[1].setAttribute(script_attrs[i].name, script_attrs[i].value);\n",
       "    }\n",
       "    // store reference to server id on output_area\n",
       "    output_area._bokeh_server_id = output.metadata[EXEC_MIME_TYPE][\"server_id\"];\n",
       "  }\n",
       "}\n",
       "\n",
       "/**\n",
       " * Handle when an output is cleared or removed\n",
       " */\n",
       "function handle_clear_output(event, handle) {\n",
       "  var id = handle.cell.output_area._hv_plot_id;\n",
       "  var server_id = handle.cell.output_area._bokeh_server_id;\n",
       "  if (((id === undefined) || !(id in PyViz.plot_index)) && (server_id !== undefined)) { return; }\n",
       "  var comm = window.PyViz.comm_manager.get_client_comm(\"hv-extension-comm\", \"hv-extension-comm\", function () {});\n",
       "  if (server_id !== null) {\n",
       "    comm.send({event_type: 'server_delete', 'id': server_id});\n",
       "    return;\n",
       "  } else if (comm !== null) {\n",
       "    comm.send({event_type: 'delete', 'id': id});\n",
       "  }\n",
       "  delete PyViz.plot_index[id];\n",
       "  if ((window.Bokeh !== undefined) & (id in window.Bokeh.index)) {\n",
       "    var doc = window.Bokeh.index[id].model.document\n",
       "    doc.clear();\n",
       "    const i = window.Bokeh.documents.indexOf(doc);\n",
       "    if (i > -1) {\n",
       "      window.Bokeh.documents.splice(i, 1);\n",
       "    }\n",
       "  }\n",
       "}\n",
       "\n",
       "/**\n",
       " * Handle kernel restart event\n",
       " */\n",
       "function handle_kernel_cleanup(event, handle) {\n",
       "  delete PyViz.comms[\"hv-extension-comm\"];\n",
       "  window.PyViz.plot_index = {}\n",
       "}\n",
       "\n",
       "/**\n",
       " * Handle update_display_data messages\n",
       " */\n",
       "function handle_update_output(event, handle) {\n",
       "  handle_clear_output(event, {cell: {output_area: handle.output_area}})\n",
       "  handle_add_output(event, handle)\n",
       "}\n",
       "\n",
       "function register_renderer(events, OutputArea) {\n",
       "  function append_mime(data, metadata, element) {\n",
       "    // create a DOM node to render to\n",
       "    var toinsert = this.create_output_subarea(\n",
       "    metadata,\n",
       "    CLASS_NAME,\n",
       "    EXEC_MIME_TYPE\n",
       "    );\n",
       "    this.keyboard_manager.register_events(toinsert);\n",
       "    // Render to node\n",
       "    var props = {data: data, metadata: metadata[EXEC_MIME_TYPE]};\n",
       "    render(props, toinsert[0]);\n",
       "    element.append(toinsert);\n",
       "    return toinsert\n",
       "  }\n",
       "\n",
       "  events.on('output_added.OutputArea', handle_add_output);\n",
       "  events.on('output_updated.OutputArea', handle_update_output);\n",
       "  events.on('clear_output.CodeCell', handle_clear_output);\n",
       "  events.on('delete.Cell', handle_clear_output);\n",
       "  events.on('kernel_ready.Kernel', handle_kernel_cleanup);\n",
       "\n",
       "  OutputArea.prototype.register_mime_type(EXEC_MIME_TYPE, append_mime, {\n",
       "    safe: true,\n",
       "    index: 0\n",
       "  });\n",
       "}\n",
       "\n",
       "if (window.Jupyter !== undefined) {\n",
       "  try {\n",
       "    var events = require('base/js/events');\n",
       "    var OutputArea = require('notebook/js/outputarea').OutputArea;\n",
       "    if (OutputArea.prototype.mime_types().indexOf(EXEC_MIME_TYPE) == -1) {\n",
       "      register_renderer(events, OutputArea);\n",
       "    }\n",
       "  } catch(err) {\n",
       "  }\n",
       "}\n"
      ],
      "application/vnd.holoviews_load.v0+json": "\nif ((window.PyViz === undefined) || (window.PyViz instanceof HTMLElement)) {\n  window.PyViz = {comms: {}, comm_status:{}, kernels:{}, receivers: {}, plot_index: []}\n}\n\n\n    function JupyterCommManager() {\n    }\n\n    JupyterCommManager.prototype.register_target = function(plot_id, comm_id, msg_handler) {\n      if (window.comm_manager || ((window.Jupyter !== undefined) && (Jupyter.notebook.kernel != null))) {\n        var comm_manager = window.comm_manager || Jupyter.notebook.kernel.comm_manager;\n        comm_manager.register_target(comm_id, function(comm) {\n          comm.on_msg(msg_handler);\n        });\n      } else if ((plot_id in window.PyViz.kernels) && (window.PyViz.kernels[plot_id])) {\n        window.PyViz.kernels[plot_id].registerCommTarget(comm_id, function(comm) {\n          comm.onMsg = msg_handler;\n        });\n      } else if (typeof google != 'undefined' && google.colab.kernel != null) {\n        google.colab.kernel.comms.registerTarget(comm_id, (comm) => {\n          var messages = comm.messages[Symbol.asyncIterator]();\n          function processIteratorResult(result) {\n            var message = result.value;\n            console.log(message)\n            var content = {data: message.data, comm_id};\n            var buffers = []\n            for (var buffer of message.buffers || []) {\n              buffers.push(new DataView(buffer))\n            }\n            var metadata = message.metadata || {};\n            var msg = {content, buffers, metadata}\n            msg_handler(msg);\n            return messages.next().then(processIteratorResult);\n          }\n          return messages.next().then(processIteratorResult);\n        })\n      }\n    }\n\n    JupyterCommManager.prototype.get_client_comm = function(plot_id, comm_id, msg_handler) {\n      if (comm_id in window.PyViz.comms) {\n        return window.PyViz.comms[comm_id];\n      } else if (window.comm_manager || ((window.Jupyter !== undefined) && (Jupyter.notebook.kernel != null))) {\n        var comm_manager = window.comm_manager || Jupyter.notebook.kernel.comm_manager;\n        var comm = comm_manager.new_comm(comm_id, {}, {}, {}, comm_id);\n        if (msg_handler) {\n          comm.on_msg(msg_handler);\n        }\n      } else if ((plot_id in window.PyViz.kernels) && (window.PyViz.kernels[plot_id])) {\n        var comm = window.PyViz.kernels[plot_id].connectToComm(comm_id);\n        comm.open();\n        if (msg_handler) {\n          comm.onMsg = msg_handler;\n        }\n      } else if (typeof google != 'undefined' && google.colab.kernel != null) {\n        var comm_promise = google.colab.kernel.comms.open(comm_id)\n        comm_promise.then((comm) => {\n          window.PyViz.comms[comm_id] = comm;\n          if (msg_handler) {\n            var messages = comm.messages[Symbol.asyncIterator]();\n            function processIteratorResult(result) {\n              var message = result.value;\n              var content = {data: message.data};\n              var metadata = message.metadata || {comm_id};\n              var msg = {content, metadata}\n              msg_handler(msg);\n              return messages.next().then(processIteratorResult);\n            }\n            return messages.next().then(processIteratorResult);\n          }\n        }) \n        var sendClosure = (data, metadata, buffers, disposeOnDone) => {\n          return comm_promise.then((comm) => {\n            comm.send(data, metadata, buffers, disposeOnDone);\n          });\n        };\n        var comm = {\n          send: sendClosure\n        };\n      }\n      window.PyViz.comms[comm_id] = comm;\n      return comm;\n    }\n    window.PyViz.comm_manager = new JupyterCommManager();\n    \n\n\nvar JS_MIME_TYPE = 'application/javascript';\nvar HTML_MIME_TYPE = 'text/html';\nvar EXEC_MIME_TYPE = 'application/vnd.holoviews_exec.v0+json';\nvar CLASS_NAME = 'output';\n\n/**\n * Render data to the DOM node\n */\nfunction render(props, node) {\n  var div = document.createElement(\"div\");\n  var script = document.createElement(\"script\");\n  node.appendChild(div);\n  node.appendChild(script);\n}\n\n/**\n * Handle when a new output is added\n */\nfunction handle_add_output(event, handle) {\n  var output_area = handle.output_area;\n  var output = handle.output;\n  if ((output.data == undefined) || (!output.data.hasOwnProperty(EXEC_MIME_TYPE))) {\n    return\n  }\n  var id = output.metadata[EXEC_MIME_TYPE][\"id\"];\n  var toinsert = output_area.element.find(\".\" + CLASS_NAME.split(' ')[0]);\n  if (id !== undefined) {\n    var nchildren = toinsert.length;\n    var html_node = toinsert[nchildren-1].children[0];\n    html_node.innerHTML = output.data[HTML_MIME_TYPE];\n    var scripts = [];\n    var nodelist = html_node.querySelectorAll(\"script\");\n    for (var i in nodelist) {\n      if (nodelist.hasOwnProperty(i)) {\n        scripts.push(nodelist[i])\n      }\n    }\n\n    scripts.forEach( function (oldScript) {\n      var newScript = document.createElement(\"script\");\n      var attrs = [];\n      var nodemap = oldScript.attributes;\n      for (var j in nodemap) {\n        if (nodemap.hasOwnProperty(j)) {\n          attrs.push(nodemap[j])\n        }\n      }\n      attrs.forEach(function(attr) { newScript.setAttribute(attr.name, attr.value) });\n      newScript.appendChild(document.createTextNode(oldScript.innerHTML));\n      oldScript.parentNode.replaceChild(newScript, oldScript);\n    });\n    if (JS_MIME_TYPE in output.data) {\n      toinsert[nchildren-1].children[1].textContent = output.data[JS_MIME_TYPE];\n    }\n    output_area._hv_plot_id = id;\n    if ((window.Bokeh !== undefined) && (id in Bokeh.index)) {\n      window.PyViz.plot_index[id] = Bokeh.index[id];\n    } else {\n      window.PyViz.plot_index[id] = null;\n    }\n  } else if (output.metadata[EXEC_MIME_TYPE][\"server_id\"] !== undefined) {\n    var bk_div = document.createElement(\"div\");\n    bk_div.innerHTML = output.data[HTML_MIME_TYPE];\n    var script_attrs = bk_div.children[0].attributes;\n    for (var i = 0; i < script_attrs.length; i++) {\n      toinsert[toinsert.length - 1].childNodes[1].setAttribute(script_attrs[i].name, script_attrs[i].value);\n    }\n    // store reference to server id on output_area\n    output_area._bokeh_server_id = output.metadata[EXEC_MIME_TYPE][\"server_id\"];\n  }\n}\n\n/**\n * Handle when an output is cleared or removed\n */\nfunction handle_clear_output(event, handle) {\n  var id = handle.cell.output_area._hv_plot_id;\n  var server_id = handle.cell.output_area._bokeh_server_id;\n  if (((id === undefined) || !(id in PyViz.plot_index)) && (server_id !== undefined)) { return; }\n  var comm = window.PyViz.comm_manager.get_client_comm(\"hv-extension-comm\", \"hv-extension-comm\", function () {});\n  if (server_id !== null) {\n    comm.send({event_type: 'server_delete', 'id': server_id});\n    return;\n  } else if (comm !== null) {\n    comm.send({event_type: 'delete', 'id': id});\n  }\n  delete PyViz.plot_index[id];\n  if ((window.Bokeh !== undefined) & (id in window.Bokeh.index)) {\n    var doc = window.Bokeh.index[id].model.document\n    doc.clear();\n    const i = window.Bokeh.documents.indexOf(doc);\n    if (i > -1) {\n      window.Bokeh.documents.splice(i, 1);\n    }\n  }\n}\n\n/**\n * Handle kernel restart event\n */\nfunction handle_kernel_cleanup(event, handle) {\n  delete PyViz.comms[\"hv-extension-comm\"];\n  window.PyViz.plot_index = {}\n}\n\n/**\n * Handle update_display_data messages\n */\nfunction handle_update_output(event, handle) {\n  handle_clear_output(event, {cell: {output_area: handle.output_area}})\n  handle_add_output(event, handle)\n}\n\nfunction register_renderer(events, OutputArea) {\n  function append_mime(data, metadata, element) {\n    // create a DOM node to render to\n    var toinsert = this.create_output_subarea(\n    metadata,\n    CLASS_NAME,\n    EXEC_MIME_TYPE\n    );\n    this.keyboard_manager.register_events(toinsert);\n    // Render to node\n    var props = {data: data, metadata: metadata[EXEC_MIME_TYPE]};\n    render(props, toinsert[0]);\n    element.append(toinsert);\n    return toinsert\n  }\n\n  events.on('output_added.OutputArea', handle_add_output);\n  events.on('output_updated.OutputArea', handle_update_output);\n  events.on('clear_output.CodeCell', handle_clear_output);\n  events.on('delete.Cell', handle_clear_output);\n  events.on('kernel_ready.Kernel', handle_kernel_cleanup);\n\n  OutputArea.prototype.register_mime_type(EXEC_MIME_TYPE, append_mime, {\n    safe: true,\n    index: 0\n  });\n}\n\nif (window.Jupyter !== undefined) {\n  try {\n    var events = require('base/js/events');\n    var OutputArea = require('notebook/js/outputarea').OutputArea;\n    if (OutputArea.prototype.mime_types().indexOf(EXEC_MIME_TYPE) == -1) {\n      register_renderer(events, OutputArea);\n    }\n  } catch(err) {\n  }\n}\n"
     },
     "metadata": {},
     "output_type": "display_data"
    },
    {
     "data": {
      "text/html": [
       "<style>.bk-root, .bk-root .bk:before, .bk-root .bk:after {\n",
       "  font-family: var(--jp-ui-font-size1);\n",
       "  font-size: var(--jp-ui-font-size1);\n",
       "  color: var(--jp-ui-font-color1);\n",
       "}\n",
       "</style>"
      ]
     },
     "metadata": {},
     "output_type": "display_data"
    }
   ],
   "source": [
    "import pandas as pd\n",
    "import numpy as np\n",
    "import panel as pn\n",
    "pn.extension('tabulator')\n",
    "import hvplot.pandas"
   ]
  },
  {
   "cell_type": "markdown",
   "id": "46b63535",
   "metadata": {},
   "source": [
    "Reading the dataset after it has been processed and cleaned."
   ]
  },
  {
   "cell_type": "code",
   "execution_count": 2,
   "id": "89be1bf9-ccfc-4926-acca-6015099285a0",
   "metadata": {},
   "outputs": [],
   "source": [
    "df = pd.read_csv(\"cleanData.csv\")"
   ]
  },
  {
   "cell_type": "code",
   "execution_count": 3,
   "id": "f4076e26-b1b9-4fa2-a5e8-3bca9f6dc415",
   "metadata": {},
   "outputs": [
    {
     "data": {
      "text/html": [
       "<div>\n",
       "<style scoped>\n",
       "    .dataframe tbody tr th:only-of-type {\n",
       "        vertical-align: middle;\n",
       "    }\n",
       "\n",
       "    .dataframe tbody tr th {\n",
       "        vertical-align: top;\n",
       "    }\n",
       "\n",
       "    .dataframe thead th {\n",
       "        text-align: right;\n",
       "    }\n",
       "</style>\n",
       "<table border=\"1\" class=\"dataframe\">\n",
       "  <thead>\n",
       "    <tr style=\"text-align: right;\">\n",
       "      <th></th>\n",
       "      <th>year</th>\n",
       "      <th>area</th>\n",
       "      <th>production</th>\n",
       "      <th>productivity</th>\n",
       "      <th>caneCrushed</th>\n",
       "      <th>sugar</th>\n",
       "      <th>sugarRecovery</th>\n",
       "      <th>sugarFactories</th>\n",
       "      <th>state</th>\n",
       "    </tr>\n",
       "  </thead>\n",
       "  <tbody>\n",
       "    <tr>\n",
       "      <th>0</th>\n",
       "      <td>2000.0</td>\n",
       "      <td>4316.0</td>\n",
       "      <td>4316.0</td>\n",
       "      <td>4316.0</td>\n",
       "      <td>4316.0</td>\n",
       "      <td>4316.0</td>\n",
       "      <td>4316.0</td>\n",
       "      <td>4316.0</td>\n",
       "      <td>allOverIndia</td>\n",
       "    </tr>\n",
       "    <tr>\n",
       "      <th>1</th>\n",
       "      <td>2001.0</td>\n",
       "      <td>4411.0</td>\n",
       "      <td>4411.0</td>\n",
       "      <td>4411.0</td>\n",
       "      <td>4411.0</td>\n",
       "      <td>4411.0</td>\n",
       "      <td>4411.0</td>\n",
       "      <td>4411.0</td>\n",
       "      <td>allOverIndia</td>\n",
       "    </tr>\n",
       "    <tr>\n",
       "      <th>2</th>\n",
       "      <td>2002.0</td>\n",
       "      <td>4520.0</td>\n",
       "      <td>4520.0</td>\n",
       "      <td>4520.0</td>\n",
       "      <td>4520.0</td>\n",
       "      <td>4520.0</td>\n",
       "      <td>4520.0</td>\n",
       "      <td>4520.0</td>\n",
       "      <td>allOverIndia</td>\n",
       "    </tr>\n",
       "    <tr>\n",
       "      <th>3</th>\n",
       "      <td>2003.0</td>\n",
       "      <td>3938.0</td>\n",
       "      <td>3938.0</td>\n",
       "      <td>3938.0</td>\n",
       "      <td>3938.0</td>\n",
       "      <td>3938.0</td>\n",
       "      <td>3938.0</td>\n",
       "      <td>3938.0</td>\n",
       "      <td>allOverIndia</td>\n",
       "    </tr>\n",
       "    <tr>\n",
       "      <th>4</th>\n",
       "      <td>2004.0</td>\n",
       "      <td>3662.0</td>\n",
       "      <td>3662.0</td>\n",
       "      <td>3662.0</td>\n",
       "      <td>3662.0</td>\n",
       "      <td>3662.0</td>\n",
       "      <td>3662.0</td>\n",
       "      <td>3662.0</td>\n",
       "      <td>allOverIndia</td>\n",
       "    </tr>\n",
       "  </tbody>\n",
       "</table>\n",
       "</div>"
      ],
      "text/plain": [
       "     year    area  production  productivity  caneCrushed   sugar  \\\n",
       "0  2000.0  4316.0      4316.0        4316.0       4316.0  4316.0   \n",
       "1  2001.0  4411.0      4411.0        4411.0       4411.0  4411.0   \n",
       "2  2002.0  4520.0      4520.0        4520.0       4520.0  4520.0   \n",
       "3  2003.0  3938.0      3938.0        3938.0       3938.0  3938.0   \n",
       "4  2004.0  3662.0      3662.0        3662.0       3662.0  3662.0   \n",
       "\n",
       "   sugarRecovery  sugarFactories         state  \n",
       "0         4316.0          4316.0  allOverIndia  \n",
       "1         4411.0          4411.0  allOverIndia  \n",
       "2         4520.0          4520.0  allOverIndia  \n",
       "3         3938.0          3938.0  allOverIndia  \n",
       "4         3662.0          3662.0  allOverIndia  "
      ]
     },
     "execution_count": 3,
     "metadata": {},
     "output_type": "execute_result"
    }
   ],
   "source": [
    "df.head()"
   ]
  },
  {
   "cell_type": "code",
   "execution_count": 4,
   "id": "2b6bbab4-6325-4050-842c-180e25a638bb",
   "metadata": {},
   "outputs": [
    {
     "data": {
      "text/plain": [
       "Index(['year', 'area', 'production', 'productivity', 'caneCrushed', 'sugar',\n",
       "       'sugarRecovery', 'sugarFactories', 'state'],\n",
       "      dtype='object')"
      ]
     },
     "execution_count": 4,
     "metadata": {},
     "output_type": "execute_result"
    }
   ],
   "source": [
    "df.columns"
   ]
  },
  {
   "cell_type": "markdown",
   "id": "14cdef9d",
   "metadata": {},
   "source": [
    "Forming a new interactive dataframe for the dashboard"
   ]
  },
  {
   "cell_type": "code",
   "execution_count": 5,
   "id": "958705e4-ee67-424e-8127-9253c01a75d3",
   "metadata": {},
   "outputs": [],
   "source": [
    "idf = df.interactive()"
   ]
  },
  {
   "cell_type": "markdown",
   "id": "89f1d1d5",
   "metadata": {},
   "source": [
    "Year Slider"
   ]
  },
  {
   "cell_type": "code",
   "execution_count": 6,
   "id": "b5d90d09-c3c8-4601-ad87-d3627d280ff9",
   "metadata": {},
   "outputs": [],
   "source": [
    "year_slider = pn.widgets.IntSlider(name = \"Year slider\", start = 1950, end = 2021, step = 2 )"
   ]
  },
  {
   "cell_type": "code",
   "execution_count": 7,
   "id": "4ec4c7ad-511d-4047-80c3-8a70b29b6be2",
   "metadata": {},
   "outputs": [
    {
     "data": {},
     "metadata": {},
     "output_type": "display_data"
    },
    {
     "data": {
      "application/vnd.holoviews_exec.v0+json": "",
      "text/html": [
       "<div id='1002'>\n",
       "  <div class=\"bk-root\" id=\"52a2a7b9-0e38-4c0b-bf1d-4cf5adf6ce14\" data-root-id=\"1002\"></div>\n",
       "</div>\n",
       "<script type=\"application/javascript\">(function(root) {\n",
       "  function embed_document(root) {\n",
       "    var docs_json = {\"bf450516-c54a-4df0-8f58-a20483bd80c3\":{\"defs\":[{\"extends\":null,\"module\":null,\"name\":\"ReactiveHTML1\",\"overrides\":[],\"properties\":[]},{\"extends\":null,\"module\":null,\"name\":\"FlexBox1\",\"overrides\":[],\"properties\":[{\"default\":\"flex-start\",\"kind\":null,\"name\":\"align_content\"},{\"default\":\"flex-start\",\"kind\":null,\"name\":\"align_items\"},{\"default\":\"row\",\"kind\":null,\"name\":\"flex_direction\"},{\"default\":\"wrap\",\"kind\":null,\"name\":\"flex_wrap\"},{\"default\":\"flex-start\",\"kind\":null,\"name\":\"justify_content\"}]},{\"extends\":null,\"module\":null,\"name\":\"GridStack1\",\"overrides\":[],\"properties\":[{\"default\":\"warn\",\"kind\":null,\"name\":\"mode\"},{\"default\":null,\"kind\":null,\"name\":\"ncols\"},{\"default\":null,\"kind\":null,\"name\":\"nrows\"},{\"default\":true,\"kind\":null,\"name\":\"allow_resize\"},{\"default\":true,\"kind\":null,\"name\":\"allow_drag\"},{\"default\":[],\"kind\":null,\"name\":\"state\"}]},{\"extends\":null,\"module\":null,\"name\":\"click1\",\"overrides\":[],\"properties\":[{\"default\":\"\",\"kind\":null,\"name\":\"terminal_output\"},{\"default\":\"\",\"kind\":null,\"name\":\"debug_name\"},{\"default\":0,\"kind\":null,\"name\":\"clears\"}]},{\"extends\":null,\"module\":null,\"name\":\"NotificationAreaBase1\",\"overrides\":[],\"properties\":[{\"default\":\"bottom-right\",\"kind\":null,\"name\":\"position\"},{\"default\":0,\"kind\":null,\"name\":\"_clear\"}]},{\"extends\":null,\"module\":null,\"name\":\"NotificationArea1\",\"overrides\":[],\"properties\":[{\"default\":[],\"kind\":null,\"name\":\"notifications\"},{\"default\":\"bottom-right\",\"kind\":null,\"name\":\"position\"},{\"default\":0,\"kind\":null,\"name\":\"_clear\"},{\"default\":[{\"background\":\"#ffc107\",\"icon\":{\"className\":\"fas fa-exclamation-triangle\",\"color\":\"white\",\"tagName\":\"i\"},\"type\":\"warning\"},{\"background\":\"#007bff\",\"icon\":{\"className\":\"fas fa-info-circle\",\"color\":\"white\",\"tagName\":\"i\"},\"type\":\"info\"}],\"kind\":null,\"name\":\"types\"}]},{\"extends\":null,\"module\":null,\"name\":\"Notification\",\"overrides\":[],\"properties\":[{\"default\":null,\"kind\":null,\"name\":\"background\"},{\"default\":3000,\"kind\":null,\"name\":\"duration\"},{\"default\":null,\"kind\":null,\"name\":\"icon\"},{\"default\":\"\",\"kind\":null,\"name\":\"message\"},{\"default\":null,\"kind\":null,\"name\":\"notification_type\"},{\"default\":false,\"kind\":null,\"name\":\"_destroyed\"}]},{\"extends\":null,\"module\":null,\"name\":\"TemplateActions1\",\"overrides\":[],\"properties\":[{\"default\":0,\"kind\":null,\"name\":\"open_modal\"},{\"default\":0,\"kind\":null,\"name\":\"close_modal\"}]},{\"extends\":null,\"module\":null,\"name\":\"MaterialTemplateActions1\",\"overrides\":[],\"properties\":[{\"default\":0,\"kind\":null,\"name\":\"open_modal\"},{\"default\":0,\"kind\":null,\"name\":\"close_modal\"}]}],\"roots\":{\"references\":[{\"attributes\":{\"reload\":false},\"id\":\"1004\",\"type\":\"panel.models.location.Location\"},{\"attributes\":{\"end\":2021,\"margin\":[5,10,5,10],\"start\":1950,\"step\":2,\"title\":\"Year slider\",\"value\":1950},\"id\":\"1002\",\"type\":\"Slider\"},{\"attributes\":{\"client_comm_id\":\"c0b8b868bbb945f598cc2bf0fd8fe97c\",\"comm_id\":\"bd1e3ddac9f746c7bf42eb1efb8a9d9f\",\"plot_id\":\"1002\"},\"id\":\"1003\",\"type\":\"panel.models.comm_manager.CommManager\"}],\"root_ids\":[\"1002\",\"1003\",\"1004\"]},\"title\":\"Bokeh Application\",\"version\":\"2.4.3\"}};\n",
       "    var render_items = [{\"docid\":\"bf450516-c54a-4df0-8f58-a20483bd80c3\",\"root_ids\":[\"1002\"],\"roots\":{\"1002\":\"52a2a7b9-0e38-4c0b-bf1d-4cf5adf6ce14\"}}];\n",
       "    root.Bokeh.embed.embed_items_notebook(docs_json, render_items);\n",
       "  }\n",
       "  if (root.Bokeh !== undefined && root.Bokeh.Panel !== undefined && ( root['Tabulator'] !== undefined)) {\n",
       "    embed_document(root);\n",
       "  } else {\n",
       "    var attempts = 0;\n",
       "    var timer = setInterval(function(root) {\n",
       "      if (root.Bokeh !== undefined && root.Bokeh.Panel !== undefined && (root['Tabulator'] !== undefined)) {\n",
       "        clearInterval(timer);\n",
       "        embed_document(root);\n",
       "      } else if (document.readyState == \"complete\") {\n",
       "        attempts++;\n",
       "        if (attempts > 200) {\n",
       "          clearInterval(timer);\n",
       "          console.log(\"Bokeh: ERROR: Unable to run BokehJS code because BokehJS library is missing\");\n",
       "        }\n",
       "      }\n",
       "    }, 25, root)\n",
       "  }\n",
       "})(window);</script>"
      ],
      "text/plain": [
       "IntSlider(end=2021, name='Year slider', start=1950, step=2, value=1950)"
      ]
     },
     "execution_count": 7,
     "metadata": {
      "application/vnd.holoviews_exec.v0+json": {
       "id": "1002"
      }
     },
     "output_type": "execute_result"
    }
   ],
   "source": [
    "year_slider"
   ]
  },
  {
   "cell_type": "markdown",
   "id": "6083677f",
   "metadata": {},
   "source": [
    "Getting names of all states "
   ]
  },
  {
   "cell_type": "code",
   "execution_count": 8,
   "id": "8a417917-0932-4c25-b78c-8bf101a57724",
   "metadata": {},
   "outputs": [
    {
     "data": {
      "text/plain": [
       "array(['allOverIndia', 'andhraPradesh', 'assam', 'bihar', 'chhattisgarh',\n",
       "       'gujrat', 'haryana', 'karnataka', 'kerala', 'maha', 'orrisa',\n",
       "       'punjab', 'rajasthan', 'tamilNadu', 'telangana', 'uttarPradesh',\n",
       "       'uttarakhand', 'westBengal'], dtype=object)"
      ]
     },
     "execution_count": 8,
     "metadata": {},
     "output_type": "execute_result"
    }
   ],
   "source": [
    "df['state'].unique()"
   ]
  },
  {
   "cell_type": "code",
   "execution_count": 9,
   "id": "a564912f-4506-40b4-990b-e8b31bcc21f5",
   "metadata": {},
   "outputs": [],
   "source": [
    "states = ['andhraPradesh', 'assam', 'bihar', 'chhattisgarh','gujrat', 'haryana', 'karnataka', 'kerala', 'maha', 'orrisa','punjab', 'rajasthan', 'tamilNadu', 'telangana', 'uttarPradesh','uttarakhand', 'westBengal']"
   ]
  },
  {
   "cell_type": "markdown",
   "id": "e895ef6b",
   "metadata": {},
   "source": [
    "Plot 1  - Line plot of sugar, sugarFactories and sugarRecovery over the years by states"
   ]
  },
  {
   "cell_type": "markdown",
   "id": "ed473744",
   "metadata": {},
   "source": [
    "X axis - Year\n",
    "Y axis - The attribute which is being plot"
   ]
  },
  {
   "cell_type": "code",
   "execution_count": 10,
   "id": "d4597428-b026-4588-935c-ebdccb759421",
   "metadata": {},
   "outputs": [],
   "source": [
    "yaxis_sugar = pn.widgets.RadioButtonGroup(name = 'Y axis',\n",
    "                                         options = ['sugar','sugarFactories','sugarRecovery'],\n",
    "                                         button_type = 'success')"
   ]
  },
  {
   "cell_type": "markdown",
   "id": "5fff272c",
   "metadata": {},
   "source": [
    "setting a stream or pipeline of data which only filters the sugar, sugarFactories and sugarRecovery attributes by year and state."
   ]
  },
  {
   "cell_type": "code",
   "execution_count": 11,
   "id": "11120852-921a-4e70-90c3-4a8a0a066b1d",
   "metadata": {},
   "outputs": [],
   "source": [
    "sugarPipeline = ( \n",
    "    idf[\n",
    "        (idf.year <= year_slider) & (idf.state.isin(states))\n",
    "    ]\n",
    "    .groupby(['state','year'])[yaxis_sugar].mean()\n",
    "    .to_frame()\n",
    "    .reset_index()\n",
    "    .sort_values(by = \"year\")\n",
    "    .reset_index(drop=True)\n",
    "\n",
    "\n",
    ")\n"
   ]
  },
  {
   "cell_type": "markdown",
   "id": "7d705beb",
   "metadata": {},
   "source": [
    "connecting the pipeline and plot in notebook"
   ]
  },
  {
   "cell_type": "code",
   "execution_count": 12,
   "id": "5b6da8c8-703d-48fb-a74f-353ff87a9903",
   "metadata": {},
   "outputs": [],
   "source": [
    "sugar_plot = sugarPipeline.hvplot(x = 'year',by = 'state', y = yaxis_sugar,line_width=2,title = \"Sugar by state\")"
   ]
  },
  {
   "cell_type": "code",
   "execution_count": 13,
   "id": "9c220478-2429-4860-9cf3-e205bef8c064",
   "metadata": {},
   "outputs": [
    {
     "data": {},
     "metadata": {},
     "output_type": "display_data"
    },
    {
     "data": {},
     "metadata": {},
     "output_type": "display_data"
    },
    {
     "data": {
      "application/vnd.holoviews_exec.v0+json": "",
      "text/html": [
       "<div id='1005'>\n",
       "  <div class=\"bk-root\" id=\"cdb1ddb1-d558-4689-a719-8d89a3a04122\" data-root-id=\"1005\"></div>\n",
       "</div>\n",
       "<script type=\"application/javascript\">(function(root) {\n",
       "  function embed_document(root) {\n",
       "    var docs_json = {\"a9c3a115-04af-4de8-a6b0-931e1c6ea712\":{\"defs\":[{\"extends\":null,\"module\":null,\"name\":\"ReactiveHTML1\",\"overrides\":[],\"properties\":[]},{\"extends\":null,\"module\":null,\"name\":\"FlexBox1\",\"overrides\":[],\"properties\":[{\"default\":\"flex-start\",\"kind\":null,\"name\":\"align_content\"},{\"default\":\"flex-start\",\"kind\":null,\"name\":\"align_items\"},{\"default\":\"row\",\"kind\":null,\"name\":\"flex_direction\"},{\"default\":\"wrap\",\"kind\":null,\"name\":\"flex_wrap\"},{\"default\":\"flex-start\",\"kind\":null,\"name\":\"justify_content\"}]},{\"extends\":null,\"module\":null,\"name\":\"GridStack1\",\"overrides\":[],\"properties\":[{\"default\":\"warn\",\"kind\":null,\"name\":\"mode\"},{\"default\":null,\"kind\":null,\"name\":\"ncols\"},{\"default\":null,\"kind\":null,\"name\":\"nrows\"},{\"default\":true,\"kind\":null,\"name\":\"allow_resize\"},{\"default\":true,\"kind\":null,\"name\":\"allow_drag\"},{\"default\":[],\"kind\":null,\"name\":\"state\"}]},{\"extends\":null,\"module\":null,\"name\":\"click1\",\"overrides\":[],\"properties\":[{\"default\":\"\",\"kind\":null,\"name\":\"terminal_output\"},{\"default\":\"\",\"kind\":null,\"name\":\"debug_name\"},{\"default\":0,\"kind\":null,\"name\":\"clears\"}]},{\"extends\":null,\"module\":null,\"name\":\"NotificationAreaBase1\",\"overrides\":[],\"properties\":[{\"default\":\"bottom-right\",\"kind\":null,\"name\":\"position\"},{\"default\":0,\"kind\":null,\"name\":\"_clear\"}]},{\"extends\":null,\"module\":null,\"name\":\"NotificationArea1\",\"overrides\":[],\"properties\":[{\"default\":[],\"kind\":null,\"name\":\"notifications\"},{\"default\":\"bottom-right\",\"kind\":null,\"name\":\"position\"},{\"default\":0,\"kind\":null,\"name\":\"_clear\"},{\"default\":[{\"background\":\"#ffc107\",\"icon\":{\"className\":\"fas fa-exclamation-triangle\",\"color\":\"white\",\"tagName\":\"i\"},\"type\":\"warning\"},{\"background\":\"#007bff\",\"icon\":{\"className\":\"fas fa-info-circle\",\"color\":\"white\",\"tagName\":\"i\"},\"type\":\"info\"}],\"kind\":null,\"name\":\"types\"}]},{\"extends\":null,\"module\":null,\"name\":\"Notification\",\"overrides\":[],\"properties\":[{\"default\":null,\"kind\":null,\"name\":\"background\"},{\"default\":3000,\"kind\":null,\"name\":\"duration\"},{\"default\":null,\"kind\":null,\"name\":\"icon\"},{\"default\":\"\",\"kind\":null,\"name\":\"message\"},{\"default\":null,\"kind\":null,\"name\":\"notification_type\"},{\"default\":false,\"kind\":null,\"name\":\"_destroyed\"}]},{\"extends\":null,\"module\":null,\"name\":\"TemplateActions1\",\"overrides\":[],\"properties\":[{\"default\":0,\"kind\":null,\"name\":\"open_modal\"},{\"default\":0,\"kind\":null,\"name\":\"close_modal\"}]},{\"extends\":null,\"module\":null,\"name\":\"MaterialTemplateActions1\",\"overrides\":[],\"properties\":[{\"default\":0,\"kind\":null,\"name\":\"open_modal\"},{\"default\":0,\"kind\":null,\"name\":\"close_modal\"}]}],\"roots\":{\"references\":[{\"attributes\":{\"coordinates\":null,\"data_source\":{\"id\":\"1130\"},\"glyph\":{\"id\":\"1133\"},\"group\":null,\"hover_glyph\":null,\"muted_glyph\":{\"id\":\"1135\"},\"nonselection_glyph\":{\"id\":\"1134\"},\"selection_glyph\":{\"id\":\"1155\"},\"view\":{\"id\":\"1137\"}},\"id\":\"1136\",\"type\":\"GlyphRenderer\"},{\"attributes\":{},\"id\":\"1045\",\"type\":\"PanTool\"},{\"attributes\":{\"axis\":{\"id\":\"1040\"},\"coordinates\":null,\"dimension\":1,\"grid_line_color\":null,\"group\":null,\"ticker\":null},\"id\":\"1043\",\"type\":\"Grid\"},{\"attributes\":{\"children\":[{\"id\":\"1008\"},{\"id\":\"1011\"}],\"margin\":[0,0,0,0],\"name\":\"Row01808\"},\"id\":\"1007\",\"type\":\"Row\"},{\"attributes\":{},\"id\":\"1059\",\"type\":\"AllLabels\"},{\"attributes\":{\"coordinates\":null,\"data_source\":{\"id\":\"1354\"},\"glyph\":{\"id\":\"1357\"},\"group\":null,\"hover_glyph\":null,\"muted_glyph\":{\"id\":\"1359\"},\"nonselection_glyph\":{\"id\":\"1358\"},\"selection_glyph\":{\"id\":\"1393\"},\"view\":{\"id\":\"1361\"}},\"id\":\"1360\",\"type\":\"GlyphRenderer\"},{\"attributes\":{\"axis_label\":\"sugar\",\"coordinates\":null,\"formatter\":{\"id\":\"1061\"},\"group\":null,\"major_label_policy\":{\"id\":\"1062\"},\"ticker\":{\"id\":\"1041\"}},\"id\":\"1040\",\"type\":\"LinearAxis\"},{\"attributes\":{\"line_color\":\"#e5ae38\",\"line_width\":2,\"x\":{\"field\":\"year\"},\"y\":{\"field\":\"sugar\"}},\"id\":\"1129\",\"type\":\"Line\"},{\"attributes\":{},\"id\":\"1041\",\"type\":\"BasicTicker\"},{\"attributes\":{\"line_alpha\":0.2,\"line_color\":\"#6d904f\",\"line_width\":2,\"x\":{\"field\":\"year\"},\"y\":{\"field\":\"sugar\"}},\"id\":\"1135\",\"type\":\"Line\"},{\"attributes\":{},\"id\":\"1046\",\"type\":\"WheelZoomTool\"},{\"attributes\":{\"line_color\":\"#6d904f\",\"line_width\":2,\"x\":{\"field\":\"year\"},\"y\":{\"field\":\"sugar\"}},\"id\":\"1133\",\"type\":\"Line\"},{\"attributes\":{\"line_color\":\"#e377c2\",\"line_width\":2,\"x\":{\"field\":\"year\"},\"y\":{\"field\":\"sugar\"}},\"id\":\"1353\",\"type\":\"Line\"},{\"attributes\":{},\"id\":\"1044\",\"type\":\"SaveTool\"},{\"attributes\":{\"children\":[{\"id\":\"1009\"},{\"id\":\"1010\"}],\"margin\":[0,0,0,0],\"name\":\"Column01803\"},\"id\":\"1008\",\"type\":\"Column\"},{\"attributes\":{\"line_alpha\":0.2,\"line_color\":\"#8c564b\",\"line_width\":2,\"x\":{\"field\":\"year\"},\"y\":{\"field\":\"sugar\"}},\"id\":\"1359\",\"type\":\"Line\"},{\"attributes\":{\"overlay\":{\"id\":\"1049\"}},\"id\":\"1047\",\"type\":\"BoxZoomTool\"},{\"attributes\":{},\"id\":\"1215\",\"type\":\"Selection\"},{\"attributes\":{\"data\":{\"state\":[\"karnataka\"],\"sugar\":{\"__ndarray__\":\"AAAAAAAARUA=\",\"dtype\":\"float64\",\"order\":\"little\",\"shape\":[1]},\"year\":{\"__ndarray__\":\"AAAAAAB4nkA=\",\"dtype\":\"float64\",\"order\":\"little\",\"shape\":[1]}},\"selected\":{\"id\":\"1185\"},\"selection_policy\":{\"id\":\"1209\"}},\"id\":\"1184\",\"type\":\"ColumnDataSource\"},{\"attributes\":{},\"id\":\"1048\",\"type\":\"ResetTool\"},{\"attributes\":{\"line_alpha\":0.1,\"line_color\":\"#6d904f\",\"line_width\":2,\"x\":{\"field\":\"year\"},\"y\":{\"field\":\"sugar\"}},\"id\":\"1134\",\"type\":\"Line\"},{\"attributes\":{\"line_color\":\"#8c564b\",\"line_width\":2,\"x\":{\"field\":\"year\"},\"y\":{\"field\":\"sugar\"}},\"id\":\"1357\",\"type\":\"Line\"},{\"attributes\":{\"bottom_units\":\"screen\",\"coordinates\":null,\"fill_alpha\":0.5,\"fill_color\":\"lightgrey\",\"group\":null,\"left_units\":\"screen\",\"level\":\"overlay\",\"line_alpha\":1.0,\"line_color\":\"black\",\"line_dash\":[4,4],\"line_width\":2,\"right_units\":\"screen\",\"syncable\":false,\"top_units\":\"screen\"},\"id\":\"1049\",\"type\":\"BoxAnnotation\"},{\"attributes\":{\"line_alpha\":0.2,\"line_color\":\"#30a2da\",\"line_width\":2,\"x\":{\"field\":\"year\"},\"y\":{\"field\":\"sugar\"}},\"id\":\"1441\",\"type\":\"Line\"},{\"attributes\":{\"data\":{\"state\":[\"westBengal\"],\"sugar\":{\"__ndarray__\":\"AAAAAAAAMkA=\",\"dtype\":\"float64\",\"order\":\"little\",\"shape\":[1]},\"year\":{\"__ndarray__\":\"AAAAAAB4nkA=\",\"dtype\":\"float64\",\"order\":\"little\",\"shape\":[1]}},\"selected\":{\"id\":\"1437\"},\"selection_policy\":{\"id\":\"1475\"}},\"id\":\"1436\",\"type\":\"ColumnDataSource\"},{\"attributes\":{\"line_alpha\":0.1,\"line_color\":\"#8c564b\",\"line_width\":2,\"x\":{\"field\":\"year\"},\"y\":{\"field\":\"sugar\"}},\"id\":\"1358\",\"type\":\"Line\"},{\"attributes\":{},\"id\":\"1078\",\"type\":\"UnionRenderers\"},{\"attributes\":{},\"id\":\"1131\",\"type\":\"Selection\"},{\"attributes\":{\"source\":{\"id\":\"1130\"}},\"id\":\"1137\",\"type\":\"CDSView\"},{\"attributes\":{\"coordinates\":null,\"data_source\":{\"id\":\"1436\"},\"glyph\":{\"id\":\"1439\"},\"group\":null,\"hover_glyph\":null,\"muted_glyph\":{\"id\":\"1441\"},\"nonselection_glyph\":{\"id\":\"1440\"},\"selection_glyph\":{\"id\":\"1479\"},\"view\":{\"id\":\"1443\"}},\"id\":\"1442\",\"type\":\"GlyphRenderer\"},{\"attributes\":{\"line_color\":\"#8b8b8b\",\"line_width\":2,\"x\":{\"field\":\"year\"},\"y\":{\"field\":\"sugar\"}},\"id\":\"1159\",\"type\":\"Line\"},{\"attributes\":{\"label\":{\"value\":\"gujrat\"},\"renderers\":[{\"id\":\"1136\"}]},\"id\":\"1154\",\"type\":\"LegendItem\"},{\"attributes\":{},\"id\":\"1355\",\"type\":\"Selection\"},{\"attributes\":{\"line_alpha\":0.2,\"line_color\":\"#8b8b8b\",\"line_width\":2,\"x\":{\"field\":\"year\"},\"y\":{\"field\":\"sugar\"}},\"id\":\"1161\",\"type\":\"Line\"},{\"attributes\":{\"line_alpha\":0.1,\"line_color\":\"#30a2da\",\"line_width\":2,\"x\":{\"field\":\"year\"},\"y\":{\"field\":\"sugar\"}},\"id\":\"1440\",\"type\":\"Line\"},{\"attributes\":{\"source\":{\"id\":\"1354\"}},\"id\":\"1361\",\"type\":\"CDSView\"},{\"attributes\":{\"line_color\":\"#bcbd22\",\"line_width\":2,\"x\":{\"field\":\"year\"},\"y\":{\"field\":\"sugar\"}},\"id\":\"1397\",\"type\":\"Line\"},{\"attributes\":{},\"id\":\"1151\",\"type\":\"UnionRenderers\"},{\"attributes\":{\"line_color\":\"#30a2da\",\"line_width\":2,\"x\":{\"field\":\"year\"},\"y\":{\"field\":\"sugar\"}},\"id\":\"1066\",\"type\":\"Line\"},{\"attributes\":{\"label\":{\"value\":\"tamilNadu\"},\"renderers\":[{\"id\":\"1360\"}]},\"id\":\"1392\",\"type\":\"LegendItem\"},{\"attributes\":{\"margin\":[5,5,5,5],\"name\":\"HSpacer01807\",\"sizing_mode\":\"stretch_width\"},\"id\":\"1011\",\"type\":\"Spacer\"},{\"attributes\":{\"line_alpha\":0.2,\"line_color\":\"#bcbd22\",\"line_width\":2,\"x\":{\"field\":\"year\"},\"y\":{\"field\":\"sugar\"}},\"id\":\"1399\",\"type\":\"Line\"},{\"attributes\":{\"tools\":[{\"id\":\"1014\"},{\"id\":\"1044\"},{\"id\":\"1045\"},{\"id\":\"1046\"},{\"id\":\"1047\"},{\"id\":\"1048\"}]},\"id\":\"1050\",\"type\":\"Toolbar\"},{\"attributes\":{},\"id\":\"1389\",\"type\":\"UnionRenderers\"},{\"attributes\":{\"coordinates\":null,\"data_source\":{\"id\":\"1063\"},\"glyph\":{\"id\":\"1066\"},\"group\":null,\"hover_glyph\":null,\"muted_glyph\":{\"id\":\"1068\"},\"nonselection_glyph\":{\"id\":\"1067\"},\"selection_glyph\":{\"id\":\"1083\"},\"view\":{\"id\":\"1070\"}},\"id\":\"1069\",\"type\":\"GlyphRenderer\"},{\"attributes\":{\"line_alpha\":0.1,\"line_color\":\"#8b8b8b\",\"line_width\":2,\"x\":{\"field\":\"year\"},\"y\":{\"field\":\"sugar\"}},\"id\":\"1160\",\"type\":\"Line\"},{\"attributes\":{\"line_color\":\"#6d904f\",\"line_width\":2,\"x\":{\"field\":\"year\"},\"y\":{\"field\":\"sugar\"}},\"id\":\"1155\",\"type\":\"Line\"},{\"attributes\":{\"data\":{\"state\":[\"andhraPradesh\"],\"sugar\":{\"__ndarray__\":\"AAAAAAAAUkA=\",\"dtype\":\"float64\",\"order\":\"little\",\"shape\":[1]},\"year\":{\"__ndarray__\":\"AAAAAAB4nkA=\",\"dtype\":\"float64\",\"order\":\"little\",\"shape\":[1]}},\"selected\":{\"id\":\"1064\"},\"selection_policy\":{\"id\":\"1078\"}},\"id\":\"1063\",\"type\":\"ColumnDataSource\"},{\"attributes\":{\"data\":{\"state\":[\"haryana\"],\"sugar\":{\"__ndarray__\":\"AAAAAAAAJEA=\",\"dtype\":\"float64\",\"order\":\"little\",\"shape\":[1]},\"year\":{\"__ndarray__\":\"AAAAAAB4nkA=\",\"dtype\":\"float64\",\"order\":\"little\",\"shape\":[1]}},\"selected\":{\"id\":\"1157\"},\"selection_policy\":{\"id\":\"1179\"}},\"id\":\"1156\",\"type\":\"ColumnDataSource\"},{\"attributes\":{\"data\":{\"state\":[\"assam\"],\"sugar\":{\"__ndarray__\":\"AAAAAAAAN0A=\",\"dtype\":\"float64\",\"order\":\"little\",\"shape\":[1]},\"year\":{\"__ndarray__\":\"AAAAAAB4nkA=\",\"dtype\":\"float64\",\"order\":\"little\",\"shape\":[1]}},\"selected\":{\"id\":\"1085\"},\"selection_policy\":{\"id\":\"1101\"}},\"id\":\"1084\",\"type\":\"ColumnDataSource\"},{\"attributes\":{\"line_alpha\":0.1,\"line_color\":\"#bcbd22\",\"line_width\":2,\"x\":{\"field\":\"year\"},\"y\":{\"field\":\"sugar\"}},\"id\":\"1398\",\"type\":\"Line\"},{\"attributes\":{},\"id\":\"1061\",\"type\":\"BasicTickFormatter\"},{\"attributes\":{\"line_color\":\"#8c564b\",\"line_width\":2,\"x\":{\"field\":\"year\"},\"y\":{\"field\":\"sugar\"}},\"id\":\"1393\",\"type\":\"Line\"},{\"attributes\":{},\"id\":\"1062\",\"type\":\"AllLabels\"},{\"attributes\":{\"data\":{\"state\":[\"uttarPradesh\"],\"sugar\":{\"__ndarray__\":\"AAAAAACwj0A=\",\"dtype\":\"float64\",\"order\":\"little\",\"shape\":[1]},\"year\":{\"__ndarray__\":\"AAAAAAB4nkA=\",\"dtype\":\"float64\",\"order\":\"little\",\"shape\":[1]}},\"selected\":{\"id\":\"1395\"},\"selection_policy\":{\"id\":\"1431\"}},\"id\":\"1394\",\"type\":\"ColumnDataSource\"},{\"attributes\":{},\"id\":\"1157\",\"type\":\"Selection\"},{\"attributes\":{\"client_comm_id\":\"25a4faca17994ca58ee455ccc5364e8a\",\"comm_id\":\"f320ffd1881f44dbbf5a39915171ed92\",\"plot_id\":\"1005\"},\"id\":\"1616\",\"type\":\"panel.models.comm_manager.CommManager\"},{\"attributes\":{\"coordinates\":null,\"data_source\":{\"id\":\"1156\"},\"glyph\":{\"id\":\"1159\"},\"group\":null,\"hover_glyph\":null,\"muted_glyph\":{\"id\":\"1161\"},\"nonselection_glyph\":{\"id\":\"1160\"},\"selection_glyph\":{\"id\":\"1183\"},\"view\":{\"id\":\"1163\"}},\"id\":\"1162\",\"type\":\"GlyphRenderer\"},{\"attributes\":{\"line_alpha\":0.1,\"line_color\":\"#fc4f30\",\"line_width\":2,\"x\":{\"field\":\"year\"},\"y\":{\"field\":\"sugar\"}},\"id\":\"1088\",\"type\":\"Line\"},{\"attributes\":{\"children\":[{\"id\":\"1007\"},{\"id\":\"1027\"}],\"margin\":[0,0,0,0],\"name\":\"Column01814\"},\"id\":\"1006\",\"type\":\"Column\"},{\"attributes\":{\"line_alpha\":0.2,\"line_color\":\"#fc4f30\",\"line_width\":2,\"x\":{\"field\":\"year\"},\"y\":{\"field\":\"sugar\"}},\"id\":\"1089\",\"type\":\"Line\"},{\"attributes\":{\"source\":{\"id\":\"1156\"}},\"id\":\"1163\",\"type\":\"CDSView\"},{\"attributes\":{\"line_color\":\"#30a2da\",\"line_width\":2,\"x\":{\"field\":\"year\"},\"y\":{\"field\":\"sugar\"}},\"id\":\"1083\",\"type\":\"Line\"},{\"attributes\":{\"label\":{\"value\":\"haryana\"},\"renderers\":[{\"id\":\"1162\"}]},\"id\":\"1182\",\"type\":\"LegendItem\"},{\"attributes\":{\"click_policy\":\"mute\",\"coordinates\":null,\"group\":null,\"items\":[{\"id\":\"1082\"},{\"id\":\"1104\"},{\"id\":\"1128\"},{\"id\":\"1154\"},{\"id\":\"1182\"},{\"id\":\"1212\"},{\"id\":\"1244\"},{\"id\":\"1278\"},{\"id\":\"1314\"},{\"id\":\"1352\"},{\"id\":\"1392\"},{\"id\":\"1434\"},{\"id\":\"1478\"}],\"location\":[0,0],\"title\":\"state\"},\"id\":\"1081\",\"type\":\"Legend\"},{\"attributes\":{\"line_alpha\":0.2,\"line_color\":\"#30a2da\",\"line_width\":2,\"x\":{\"field\":\"year\"},\"y\":{\"field\":\"sugar\"}},\"id\":\"1068\",\"type\":\"Line\"},{\"attributes\":{\"label\":{\"value\":\"andhraPradesh\"},\"renderers\":[{\"id\":\"1069\"}]},\"id\":\"1082\",\"type\":\"LegendItem\"},{\"attributes\":{},\"id\":\"1179\",\"type\":\"UnionRenderers\"},{\"attributes\":{},\"id\":\"1431\",\"type\":\"UnionRenderers\"},{\"attributes\":{\"data\":{\"state\":[\"bihar\"],\"sugar\":{\"__ndarray__\":\"AAAAAADAZEA=\",\"dtype\":\"float64\",\"order\":\"little\",\"shape\":[1]},\"year\":{\"__ndarray__\":\"AAAAAAB4nkA=\",\"dtype\":\"float64\",\"order\":\"little\",\"shape\":[1]}},\"selected\":{\"id\":\"1107\"},\"selection_policy\":{\"id\":\"1125\"}},\"id\":\"1106\",\"type\":\"ColumnDataSource\"},{\"attributes\":{},\"id\":\"1064\",\"type\":\"Selection\"},{\"attributes\":{\"source\":{\"id\":\"1063\"}},\"id\":\"1070\",\"type\":\"CDSView\"},{\"attributes\":{\"line_color\":\"#30a2da\",\"line_width\":2,\"x\":{\"field\":\"year\"},\"y\":{\"field\":\"sugar\"}},\"id\":\"1439\",\"type\":\"Line\"},{\"attributes\":{},\"id\":\"1395\",\"type\":\"Selection\"},{\"attributes\":{\"coordinates\":null,\"data_source\":{\"id\":\"1394\"},\"glyph\":{\"id\":\"1397\"},\"group\":null,\"hover_glyph\":null,\"muted_glyph\":{\"id\":\"1399\"},\"nonselection_glyph\":{\"id\":\"1398\"},\"selection_glyph\":{\"id\":\"1435\"},\"view\":{\"id\":\"1401\"}},\"id\":\"1400\",\"type\":\"GlyphRenderer\"},{\"attributes\":{\"source\":{\"id\":\"1084\"}},\"id\":\"1091\",\"type\":\"CDSView\"},{\"attributes\":{\"end\":2021,\"margin\":[5,10,5,10],\"start\":1950,\"step\":2,\"title\":\"Year slider\",\"value\":1950},\"id\":\"1009\",\"type\":\"Slider\"},{\"attributes\":{\"source\":{\"id\":\"1394\"}},\"id\":\"1401\",\"type\":\"CDSView\"},{\"attributes\":{},\"id\":\"1085\",\"type\":\"Selection\"},{\"attributes\":{\"label\":{\"value\":\"uttarPradesh\"},\"renderers\":[{\"id\":\"1400\"}]},\"id\":\"1434\",\"type\":\"LegendItem\"},{\"attributes\":{\"label\":{\"value\":\"assam\"},\"renderers\":[{\"id\":\"1090\"}]},\"id\":\"1104\",\"type\":\"LegendItem\"},{\"attributes\":{},\"id\":\"1058\",\"type\":\"BasicTickFormatter\"},{\"attributes\":{\"line_color\":\"#fc4f30\",\"line_width\":2,\"x\":{\"field\":\"year\"},\"y\":{\"field\":\"sugar\"}},\"id\":\"1087\",\"type\":\"Line\"},{\"attributes\":{\"active\":0,\"button_type\":\"success\",\"labels\":[\"sugar\",\"sugarFactories\",\"sugarRecovery\"],\"margin\":[5,10,5,10]},\"id\":\"1010\",\"type\":\"RadioButtonGroup\"},{\"attributes\":{\"line_alpha\":0.1,\"line_color\":\"#30a2da\",\"line_width\":2,\"x\":{\"field\":\"year\"},\"y\":{\"field\":\"sugar\"}},\"id\":\"1067\",\"type\":\"Line\"},{\"attributes\":{\"children\":[{\"id\":\"1006\"}],\"margin\":[0,0,0,0],\"name\":\"Row01815\"},\"id\":\"1005\",\"type\":\"Row\"},{\"attributes\":{\"coordinates\":null,\"data_source\":{\"id\":\"1084\"},\"glyph\":{\"id\":\"1087\"},\"group\":null,\"hover_glyph\":null,\"muted_glyph\":{\"id\":\"1089\"},\"nonselection_glyph\":{\"id\":\"1088\"},\"selection_glyph\":{\"id\":\"1105\"},\"view\":{\"id\":\"1091\"}},\"id\":\"1090\",\"type\":\"GlyphRenderer\"},{\"attributes\":{\"line_alpha\":0.2,\"line_color\":\"#1f77b4\",\"line_width\":2,\"x\":{\"field\":\"year\"},\"y\":{\"field\":\"sugar\"}},\"id\":\"1285\",\"type\":\"Line\"},{\"attributes\":{\"line_color\":\"#9467bd\",\"line_width\":2,\"x\":{\"field\":\"year\"},\"y\":{\"field\":\"sugar\"}},\"id\":\"1245\",\"type\":\"Line\"},{\"attributes\":{\"data\":{\"state\":[\"tamilNadu\"],\"sugar\":{\"__ndarray__\":\"AAAAAAAASUA=\",\"dtype\":\"float64\",\"order\":\"little\",\"shape\":[1]},\"year\":{\"__ndarray__\":\"AAAAAAB4nkA=\",\"dtype\":\"float64\",\"order\":\"little\",\"shape\":[1]}},\"selected\":{\"id\":\"1355\"},\"selection_policy\":{\"id\":\"1389\"}},\"id\":\"1354\",\"type\":\"ColumnDataSource\"},{\"attributes\":{\"line_alpha\":0.1,\"line_color\":\"#1f77b4\",\"line_width\":2,\"x\":{\"field\":\"year\"},\"y\":{\"field\":\"sugar\"}},\"id\":\"1284\",\"type\":\"Line\"},{\"attributes\":{\"label\":{\"value\":\"maha\"},\"renderers\":[{\"id\":\"1220\"}]},\"id\":\"1244\",\"type\":\"LegendItem\"},{\"attributes\":{},\"id\":\"1101\",\"type\":\"UnionRenderers\"},{\"attributes\":{\"coordinates\":null,\"data_source\":{\"id\":\"1280\"},\"glyph\":{\"id\":\"1283\"},\"group\":null,\"hover_glyph\":null,\"muted_glyph\":{\"id\":\"1285\"},\"nonselection_glyph\":{\"id\":\"1284\"},\"selection_glyph\":{\"id\":\"1315\"},\"view\":{\"id\":\"1287\"}},\"id\":\"1286\",\"type\":\"GlyphRenderer\"},{\"attributes\":{\"line_color\":\"#1f77b4\",\"line_width\":2,\"x\":{\"field\":\"year\"},\"y\":{\"field\":\"sugar\"}},\"id\":\"1283\",\"type\":\"Line\"},{\"attributes\":{},\"id\":\"1241\",\"type\":\"UnionRenderers\"},{\"attributes\":{\"source\":{\"id\":\"1280\"}},\"id\":\"1287\",\"type\":\"CDSView\"},{\"attributes\":{\"line_color\":\"#e377c2\",\"line_width\":2,\"x\":{\"field\":\"year\"},\"y\":{\"field\":\"sugar\"}},\"id\":\"1319\",\"type\":\"Line\"},{\"attributes\":{\"label\":{\"value\":\"punjab\"},\"renderers\":[{\"id\":\"1286\"}]},\"id\":\"1314\",\"type\":\"LegendItem\"},{\"attributes\":{\"line_alpha\":0.2,\"line_color\":\"#e377c2\",\"line_width\":2,\"x\":{\"field\":\"year\"},\"y\":{\"field\":\"sugar\"}},\"id\":\"1321\",\"type\":\"Line\"},{\"attributes\":{\"line_color\":\"#8b8b8b\",\"line_width\":2,\"x\":{\"field\":\"year\"},\"y\":{\"field\":\"sugar\"}},\"id\":\"1183\",\"type\":\"Line\"},{\"attributes\":{},\"id\":\"1311\",\"type\":\"UnionRenderers\"},{\"attributes\":{\"line_color\":\"#17becf\",\"line_width\":2,\"x\":{\"field\":\"year\"},\"y\":{\"field\":\"sugar\"}},\"id\":\"1187\",\"type\":\"Line\"},{\"attributes\":{\"label\":{\"value\":\"westBengal\"},\"renderers\":[{\"id\":\"1442\"}]},\"id\":\"1478\",\"type\":\"LegendItem\"},{\"attributes\":{\"label\":{\"value\":\"karnataka\"},\"renderers\":[{\"id\":\"1190\"}]},\"id\":\"1212\",\"type\":\"LegendItem\"},{\"attributes\":{\"line_alpha\":0.2,\"line_color\":\"#17becf\",\"line_width\":2,\"x\":{\"field\":\"year\"},\"y\":{\"field\":\"sugar\"}},\"id\":\"1189\",\"type\":\"Line\"},{\"attributes\":{\"line_color\":\"#bcbd22\",\"line_width\":2,\"x\":{\"field\":\"year\"},\"y\":{\"field\":\"sugar\"}},\"id\":\"1435\",\"type\":\"Line\"},{\"attributes\":{\"end\":1114.4,\"reset_end\":1114.4,\"reset_start\":-90.4,\"start\":-90.4,\"tags\":[[[\"sugar\",\"sugar\",null]]]},\"id\":\"1013\",\"type\":\"Range1d\"},{\"attributes\":{\"line_alpha\":0.1,\"line_color\":\"#17becf\",\"line_width\":2,\"x\":{\"field\":\"year\"},\"y\":{\"field\":\"sugar\"}},\"id\":\"1188\",\"type\":\"Line\"},{\"attributes\":{\"line_alpha\":0.1,\"line_color\":\"#d62728\",\"line_width\":2,\"x\":{\"field\":\"year\"},\"y\":{\"field\":\"sugar\"}},\"id\":\"1250\",\"type\":\"Line\"},{\"attributes\":{\"end\":1951.0,\"reset_end\":1951.0,\"reset_start\":1949.0,\"start\":1949.0,\"tags\":[[[\"year\",\"year\",null]]]},\"id\":\"1012\",\"type\":\"Range1d\"},{\"attributes\":{\"source\":{\"id\":\"1436\"}},\"id\":\"1443\",\"type\":\"CDSView\"},{\"attributes\":{},\"id\":\"1185\",\"type\":\"Selection\"},{\"attributes\":{},\"id\":\"1032\",\"type\":\"LinearScale\"},{\"attributes\":{\"coordinates\":null,\"data_source\":{\"id\":\"1184\"},\"glyph\":{\"id\":\"1187\"},\"group\":null,\"hover_glyph\":null,\"muted_glyph\":{\"id\":\"1189\"},\"nonselection_glyph\":{\"id\":\"1188\"},\"selection_glyph\":{\"id\":\"1213\"},\"view\":{\"id\":\"1191\"}},\"id\":\"1190\",\"type\":\"GlyphRenderer\"},{\"attributes\":{\"coordinates\":null,\"data_source\":{\"id\":\"1106\"},\"glyph\":{\"id\":\"1109\"},\"group\":null,\"hover_glyph\":null,\"muted_glyph\":{\"id\":\"1111\"},\"nonselection_glyph\":{\"id\":\"1110\"},\"selection_glyph\":{\"id\":\"1129\"},\"view\":{\"id\":\"1113\"}},\"id\":\"1112\",\"type\":\"GlyphRenderer\"},{\"attributes\":{\"source\":{\"id\":\"1184\"}},\"id\":\"1191\",\"type\":\"CDSView\"},{\"attributes\":{\"coordinates\":null,\"data_source\":{\"id\":\"1246\"},\"glyph\":{\"id\":\"1249\"},\"group\":null,\"hover_glyph\":null,\"muted_glyph\":{\"id\":\"1251\"},\"nonselection_glyph\":{\"id\":\"1250\"},\"selection_glyph\":{\"id\":\"1279\"},\"view\":{\"id\":\"1253\"}},\"id\":\"1252\",\"type\":\"GlyphRenderer\"},{\"attributes\":{\"line_color\":\"#17becf\",\"line_width\":2,\"x\":{\"field\":\"year\"},\"y\":{\"field\":\"sugar\"}},\"id\":\"1213\",\"type\":\"Line\"},{\"attributes\":{},\"id\":\"1034\",\"type\":\"LinearScale\"},{\"attributes\":{\"line_color\":\"#fc4f30\",\"line_width\":2,\"x\":{\"field\":\"year\"},\"y\":{\"field\":\"sugar\"}},\"id\":\"1105\",\"type\":\"Line\"},{\"attributes\":{},\"id\":\"1247\",\"type\":\"Selection\"},{\"attributes\":{\"line_alpha\":0.1,\"line_color\":\"#9467bd\",\"line_width\":2,\"x\":{\"field\":\"year\"},\"y\":{\"field\":\"sugar\"}},\"id\":\"1218\",\"type\":\"Line\"},{\"attributes\":{\"callback\":null,\"renderers\":[{\"id\":\"1069\"},{\"id\":\"1090\"},{\"id\":\"1112\"},{\"id\":\"1136\"},{\"id\":\"1162\"},{\"id\":\"1190\"},{\"id\":\"1220\"},{\"id\":\"1252\"},{\"id\":\"1286\"},{\"id\":\"1322\"},{\"id\":\"1360\"},{\"id\":\"1400\"},{\"id\":\"1442\"}],\"tags\":[\"hv_created\"],\"tooltips\":[[\"state\",\"@{state}\"],[\"year\",\"@{year}\"],[\"sugar\",\"@{sugar}\"]]},\"id\":\"1014\",\"type\":\"HoverTool\"},{\"attributes\":{\"below\":[{\"id\":\"1036\"}],\"center\":[{\"id\":\"1039\"},{\"id\":\"1043\"}],\"height\":300,\"left\":[{\"id\":\"1040\"}],\"margin\":[5,5,5,5],\"min_border_bottom\":10,\"min_border_left\":10,\"min_border_right\":10,\"min_border_top\":10,\"renderers\":[{\"id\":\"1069\"},{\"id\":\"1090\"},{\"id\":\"1112\"},{\"id\":\"1136\"},{\"id\":\"1162\"},{\"id\":\"1190\"},{\"id\":\"1220\"},{\"id\":\"1252\"},{\"id\":\"1286\"},{\"id\":\"1322\"},{\"id\":\"1360\"},{\"id\":\"1400\"},{\"id\":\"1442\"}],\"right\":[{\"id\":\"1081\"}],\"sizing_mode\":\"fixed\",\"title\":{\"id\":\"1028\"},\"toolbar\":{\"id\":\"1050\"},\"width\":700,\"x_range\":{\"id\":\"1012\"},\"x_scale\":{\"id\":\"1032\"},\"y_range\":{\"id\":\"1013\"},\"y_scale\":{\"id\":\"1034\"}},\"id\":\"1027\",\"subtype\":\"Figure\",\"type\":\"Plot\"},{\"attributes\":{\"line_alpha\":0.2,\"line_color\":\"#e5ae38\",\"line_width\":2,\"x\":{\"field\":\"year\"},\"y\":{\"field\":\"sugar\"}},\"id\":\"1111\",\"type\":\"Line\"},{\"attributes\":{},\"id\":\"1209\",\"type\":\"UnionRenderers\"},{\"attributes\":{\"axis\":{\"id\":\"1036\"},\"coordinates\":null,\"grid_line_color\":null,\"group\":null,\"ticker\":null},\"id\":\"1039\",\"type\":\"Grid\"},{\"attributes\":{\"data\":{\"state\":[\"rajasthan\"],\"sugar\":{\"__ndarray__\":\"AAAAAAAAMUA=\",\"dtype\":\"float64\",\"order\":\"little\",\"shape\":[1]},\"year\":{\"__ndarray__\":\"AAAAAAB4nkA=\",\"dtype\":\"float64\",\"order\":\"little\",\"shape\":[1]}},\"selected\":{\"id\":\"1317\"},\"selection_policy\":{\"id\":\"1349\"}},\"id\":\"1316\",\"type\":\"ColumnDataSource\"},{\"attributes\":{\"line_color\":\"#e5ae38\",\"line_width\":2,\"x\":{\"field\":\"year\"},\"y\":{\"field\":\"sugar\"}},\"id\":\"1109\",\"type\":\"Line\"},{\"attributes\":{\"line_alpha\":0.2,\"line_color\":\"#d62728\",\"line_width\":2,\"x\":{\"field\":\"year\"},\"y\":{\"field\":\"sugar\"}},\"id\":\"1251\",\"type\":\"Line\"},{\"attributes\":{},\"id\":\"1437\",\"type\":\"Selection\"},{\"attributes\":{\"source\":{\"id\":\"1246\"}},\"id\":\"1253\",\"type\":\"CDSView\"},{\"attributes\":{\"line_alpha\":0.1,\"line_color\":\"#e377c2\",\"line_width\":2,\"x\":{\"field\":\"year\"},\"y\":{\"field\":\"sugar\"}},\"id\":\"1320\",\"type\":\"Line\"},{\"attributes\":{\"data\":{\"state\":[\"gujrat\"],\"sugar\":{\"__ndarray__\":\"AAAAAAAAJEA=\",\"dtype\":\"float64\",\"order\":\"little\",\"shape\":[1]},\"year\":{\"__ndarray__\":\"AAAAAAB4nkA=\",\"dtype\":\"float64\",\"order\":\"little\",\"shape\":[1]}},\"selected\":{\"id\":\"1131\"},\"selection_policy\":{\"id\":\"1151\"}},\"id\":\"1130\",\"type\":\"ColumnDataSource\"},{\"attributes\":{\"source\":{\"id\":\"1316\"}},\"id\":\"1323\",\"type\":\"CDSView\"},{\"attributes\":{\"line_color\":\"#d62728\",\"line_width\":2,\"x\":{\"field\":\"year\"},\"y\":{\"field\":\"sugar\"}},\"id\":\"1249\",\"type\":\"Line\"},{\"attributes\":{},\"id\":\"1475\",\"type\":\"UnionRenderers\"},{\"attributes\":{\"line_alpha\":0.1,\"line_color\":\"#e5ae38\",\"line_width\":2,\"x\":{\"field\":\"year\"},\"y\":{\"field\":\"sugar\"}},\"id\":\"1110\",\"type\":\"Line\"},{\"attributes\":{\"line_color\":\"#1f77b4\",\"line_width\":2,\"x\":{\"field\":\"year\"},\"y\":{\"field\":\"sugar\"}},\"id\":\"1315\",\"type\":\"Line\"},{\"attributes\":{\"label\":{\"value\":\"orrisa\"},\"renderers\":[{\"id\":\"1252\"}]},\"id\":\"1278\",\"type\":\"LegendItem\"},{\"attributes\":{},\"id\":\"1281\",\"type\":\"Selection\"},{\"attributes\":{},\"id\":\"1275\",\"type\":\"UnionRenderers\"},{\"attributes\":{\"coordinates\":null,\"data_source\":{\"id\":\"1316\"},\"glyph\":{\"id\":\"1319\"},\"group\":null,\"hover_glyph\":null,\"muted_glyph\":{\"id\":\"1321\"},\"nonselection_glyph\":{\"id\":\"1320\"},\"selection_glyph\":{\"id\":\"1353\"},\"view\":{\"id\":\"1323\"}},\"id\":\"1322\",\"type\":\"GlyphRenderer\"},{\"attributes\":{},\"id\":\"1107\",\"type\":\"Selection\"},{\"attributes\":{\"source\":{\"id\":\"1106\"}},\"id\":\"1113\",\"type\":\"CDSView\"},{\"attributes\":{\"label\":{\"value\":\"bihar\"},\"renderers\":[{\"id\":\"1112\"}]},\"id\":\"1128\",\"type\":\"LegendItem\"},{\"attributes\":{},\"id\":\"1125\",\"type\":\"UnionRenderers\"},{\"attributes\":{},\"id\":\"1317\",\"type\":\"Selection\"},{\"attributes\":{},\"id\":\"1349\",\"type\":\"UnionRenderers\"},{\"attributes\":{\"data\":{\"state\":[\"orrisa\"],\"sugar\":{\"__ndarray__\":\"AAAAAAAAOEA=\",\"dtype\":\"float64\",\"order\":\"little\",\"shape\":[1]},\"year\":{\"__ndarray__\":\"AAAAAAB4nkA=\",\"dtype\":\"float64\",\"order\":\"little\",\"shape\":[1]}},\"selected\":{\"id\":\"1247\"},\"selection_policy\":{\"id\":\"1275\"}},\"id\":\"1246\",\"type\":\"ColumnDataSource\"},{\"attributes\":{\"label\":{\"value\":\"rajasthan\"},\"renderers\":[{\"id\":\"1322\"}]},\"id\":\"1352\",\"type\":\"LegendItem\"},{\"attributes\":{\"line_alpha\":0.2,\"line_color\":\"#9467bd\",\"line_width\":2,\"x\":{\"field\":\"year\"},\"y\":{\"field\":\"sugar\"}},\"id\":\"1219\",\"type\":\"Line\"},{\"attributes\":{\"line_color\":\"#30a2da\",\"line_width\":2,\"x\":{\"field\":\"year\"},\"y\":{\"field\":\"sugar\"}},\"id\":\"1479\",\"type\":\"Line\"},{\"attributes\":{\"data\":{\"state\":[\"maha\"],\"sugar\":{\"__ndarray__\":\"AAAAAADAUkA=\",\"dtype\":\"float64\",\"order\":\"little\",\"shape\":[1]},\"year\":{\"__ndarray__\":\"AAAAAAB4nkA=\",\"dtype\":\"float64\",\"order\":\"little\",\"shape\":[1]}},\"selected\":{\"id\":\"1215\"},\"selection_policy\":{\"id\":\"1241\"}},\"id\":\"1214\",\"type\":\"ColumnDataSource\"},{\"attributes\":{\"line_color\":\"#9467bd\",\"line_width\":2,\"x\":{\"field\":\"year\"},\"y\":{\"field\":\"sugar\"}},\"id\":\"1217\",\"type\":\"Line\"},{\"attributes\":{\"line_color\":\"#d62728\",\"line_width\":2,\"x\":{\"field\":\"year\"},\"y\":{\"field\":\"sugar\"}},\"id\":\"1279\",\"type\":\"Line\"},{\"attributes\":{},\"id\":\"1037\",\"type\":\"BasicTicker\"},{\"attributes\":{\"source\":{\"id\":\"1214\"}},\"id\":\"1221\",\"type\":\"CDSView\"},{\"attributes\":{\"coordinates\":null,\"data_source\":{\"id\":\"1214\"},\"glyph\":{\"id\":\"1217\"},\"group\":null,\"hover_glyph\":null,\"muted_glyph\":{\"id\":\"1219\"},\"nonselection_glyph\":{\"id\":\"1218\"},\"selection_glyph\":{\"id\":\"1245\"},\"view\":{\"id\":\"1221\"}},\"id\":\"1220\",\"type\":\"GlyphRenderer\"},{\"attributes\":{\"data\":{\"state\":[\"punjab\"],\"sugar\":{\"__ndarray__\":\"AAAAAADgYkA=\",\"dtype\":\"float64\",\"order\":\"little\",\"shape\":[1]},\"year\":{\"__ndarray__\":\"AAAAAAB4nkA=\",\"dtype\":\"float64\",\"order\":\"little\",\"shape\":[1]}},\"selected\":{\"id\":\"1281\"},\"selection_policy\":{\"id\":\"1311\"}},\"id\":\"1280\",\"type\":\"ColumnDataSource\"},{\"attributes\":{\"axis_label\":\"year\",\"coordinates\":null,\"formatter\":{\"id\":\"1058\"},\"group\":null,\"major_label_policy\":{\"id\":\"1059\"},\"ticker\":{\"id\":\"1037\"}},\"id\":\"1036\",\"type\":\"LinearAxis\"},{\"attributes\":{\"coordinates\":null,\"group\":null,\"text\":\"Sugar by state\",\"text_color\":\"black\",\"text_font_size\":\"12pt\"},\"id\":\"1028\",\"type\":\"Title\"}],\"root_ids\":[\"1005\",\"1616\"]},\"title\":\"Bokeh Application\",\"version\":\"2.4.3\"}};\n",
       "    var render_items = [{\"docid\":\"a9c3a115-04af-4de8-a6b0-931e1c6ea712\",\"root_ids\":[\"1005\"],\"roots\":{\"1005\":\"cdb1ddb1-d558-4689-a719-8d89a3a04122\"}}];\n",
       "    root.Bokeh.embed.embed_items_notebook(docs_json, render_items);\n",
       "  }\n",
       "  if (root.Bokeh !== undefined && root.Bokeh.Panel !== undefined && ( root['Tabulator'] !== undefined)) {\n",
       "    embed_document(root);\n",
       "  } else {\n",
       "    var attempts = 0;\n",
       "    var timer = setInterval(function(root) {\n",
       "      if (root.Bokeh !== undefined && root.Bokeh.Panel !== undefined && (root['Tabulator'] !== undefined)) {\n",
       "        clearInterval(timer);\n",
       "        embed_document(root);\n",
       "      } else if (document.readyState == \"complete\") {\n",
       "        attempts++;\n",
       "        if (attempts > 200) {\n",
       "          clearInterval(timer);\n",
       "          console.log(\"Bokeh: ERROR: Unable to run BokehJS code because BokehJS library is missing\");\n",
       "        }\n",
       "      }\n",
       "    }, 25, root)\n",
       "  }\n",
       "})(window);</script>"
      ],
      "text/plain": [
       "<hvplot.interactive.Interactive at 0x132f28be0>"
      ]
     },
     "execution_count": 13,
     "metadata": {
      "application/vnd.holoviews_exec.v0+json": {
       "id": "1005"
      }
     },
     "output_type": "execute_result"
    }
   ],
   "source": [
    "sugar_plot"
   ]
  },
  {
   "cell_type": "markdown",
   "id": "596215cf",
   "metadata": {},
   "source": [
    "using the same pipepline preparing a table"
   ]
  },
  {
   "cell_type": "code",
   "execution_count": 14,
   "id": "a9abfe20-ae85-44a8-8131-dbc1154f6cbb",
   "metadata": {},
   "outputs": [],
   "source": [
    "sugar_table = sugarPipeline.pipe(pn.widgets.Tabulator,pagination ='remote',page_size = 10, sizing_mode = 'stretch_width')"
   ]
  },
  {
   "cell_type": "code",
   "execution_count": 15,
   "id": "7874baa5-9191-43d2-aa23-d90b63ad3e34",
   "metadata": {},
   "outputs": [
    {
     "data": {},
     "metadata": {},
     "output_type": "display_data"
    },
    {
     "data": {
      "application/vnd.holoviews_exec.v0+json": "",
      "text/html": [
       "<div id='1787'>\n",
       "  <div class=\"bk-root\" id=\"6f3d47b2-1c1b-4931-a966-3095da1a0d0a\" data-root-id=\"1787\"></div>\n",
       "</div>\n",
       "<script type=\"application/javascript\">(function(root) {\n",
       "  function embed_document(root) {\n",
       "    var docs_json = {\"9d425d8d-1d9b-4885-ae70-65e86621e6ee\":{\"defs\":[{\"extends\":null,\"module\":null,\"name\":\"ReactiveHTML1\",\"overrides\":[],\"properties\":[]},{\"extends\":null,\"module\":null,\"name\":\"FlexBox1\",\"overrides\":[],\"properties\":[{\"default\":\"flex-start\",\"kind\":null,\"name\":\"align_content\"},{\"default\":\"flex-start\",\"kind\":null,\"name\":\"align_items\"},{\"default\":\"row\",\"kind\":null,\"name\":\"flex_direction\"},{\"default\":\"wrap\",\"kind\":null,\"name\":\"flex_wrap\"},{\"default\":\"flex-start\",\"kind\":null,\"name\":\"justify_content\"}]},{\"extends\":null,\"module\":null,\"name\":\"GridStack1\",\"overrides\":[],\"properties\":[{\"default\":\"warn\",\"kind\":null,\"name\":\"mode\"},{\"default\":null,\"kind\":null,\"name\":\"ncols\"},{\"default\":null,\"kind\":null,\"name\":\"nrows\"},{\"default\":true,\"kind\":null,\"name\":\"allow_resize\"},{\"default\":true,\"kind\":null,\"name\":\"allow_drag\"},{\"default\":[],\"kind\":null,\"name\":\"state\"}]},{\"extends\":null,\"module\":null,\"name\":\"click1\",\"overrides\":[],\"properties\":[{\"default\":\"\",\"kind\":null,\"name\":\"terminal_output\"},{\"default\":\"\",\"kind\":null,\"name\":\"debug_name\"},{\"default\":0,\"kind\":null,\"name\":\"clears\"}]},{\"extends\":null,\"module\":null,\"name\":\"NotificationAreaBase1\",\"overrides\":[],\"properties\":[{\"default\":\"bottom-right\",\"kind\":null,\"name\":\"position\"},{\"default\":0,\"kind\":null,\"name\":\"_clear\"}]},{\"extends\":null,\"module\":null,\"name\":\"NotificationArea1\",\"overrides\":[],\"properties\":[{\"default\":[],\"kind\":null,\"name\":\"notifications\"},{\"default\":\"bottom-right\",\"kind\":null,\"name\":\"position\"},{\"default\":0,\"kind\":null,\"name\":\"_clear\"},{\"default\":[{\"background\":\"#ffc107\",\"icon\":{\"className\":\"fas fa-exclamation-triangle\",\"color\":\"white\",\"tagName\":\"i\"},\"type\":\"warning\"},{\"background\":\"#007bff\",\"icon\":{\"className\":\"fas fa-info-circle\",\"color\":\"white\",\"tagName\":\"i\"},\"type\":\"info\"}],\"kind\":null,\"name\":\"types\"}]},{\"extends\":null,\"module\":null,\"name\":\"Notification\",\"overrides\":[],\"properties\":[{\"default\":null,\"kind\":null,\"name\":\"background\"},{\"default\":3000,\"kind\":null,\"name\":\"duration\"},{\"default\":null,\"kind\":null,\"name\":\"icon\"},{\"default\":\"\",\"kind\":null,\"name\":\"message\"},{\"default\":null,\"kind\":null,\"name\":\"notification_type\"},{\"default\":false,\"kind\":null,\"name\":\"_destroyed\"}]},{\"extends\":null,\"module\":null,\"name\":\"TemplateActions1\",\"overrides\":[],\"properties\":[{\"default\":0,\"kind\":null,\"name\":\"open_modal\"},{\"default\":0,\"kind\":null,\"name\":\"close_modal\"}]},{\"extends\":null,\"module\":null,\"name\":\"MaterialTemplateActions1\",\"overrides\":[],\"properties\":[{\"default\":0,\"kind\":null,\"name\":\"open_modal\"},{\"default\":0,\"kind\":null,\"name\":\"close_modal\"}]}],\"roots\":{\"references\":[{\"attributes\":{\"active\":0,\"button_type\":\"success\",\"labels\":[\"sugar\",\"sugarFactories\",\"sugarRecovery\"],\"margin\":[5,10,5,10]},\"id\":\"1792\",\"type\":\"RadioButtonGroup\"},{\"attributes\":{\"indices\":[]},\"id\":\"1796\",\"type\":\"Selection\"},{\"attributes\":{},\"id\":\"1809\",\"type\":\"NumberEditor\"},{\"attributes\":{\"format\":\"0,0.0[00000]\",\"text_align\":\"right\"},\"id\":\"1813\",\"type\":\"NumberFormatter\"},{\"attributes\":{},\"id\":\"1814\",\"type\":\"NumberEditor\"},{\"attributes\":{\"columns\":[{\"id\":\"1800\"},{\"id\":\"1805\"},{\"id\":\"1810\"},{\"id\":\"1815\"}],\"configuration\":{\"columns\":[{\"field\":\"index\"},{\"field\":\"state\"},{\"field\":\"year\"},{\"field\":\"sugar\"}],\"dataTree\":false,\"selectable\":true},\"indexes\":[\"index\"],\"layout\":\"fit_data_table\",\"margin\":[5,10,5,10],\"max_page\":2,\"name\":\"\",\"page\":1,\"page_size\":10,\"pagination\":\"remote\",\"select_mode\":true,\"selectable_rows\":null,\"sizing_mode\":\"stretch_width\",\"source\":{\"id\":\"1795\"},\"styles\":{\"data\":{},\"id\":\"1578c53520bf4b619c96d4eaa5baf201\"},\"subscribed_events\":[\"table-edit\",\"cell-click\"]},\"id\":\"1818\",\"type\":\"panel.models.tabulator.DataTabulator\"},{\"attributes\":{},\"id\":\"1804\",\"type\":\"StringEditor\"},{\"attributes\":{\"children\":[{\"id\":\"1791\"},{\"id\":\"1792\"}],\"margin\":[0,0,0,0],\"name\":\"Column02414\"},\"id\":\"1790\",\"type\":\"Column\"},{\"attributes\":{},\"id\":\"1803\",\"type\":\"StringFormatter\"},{\"attributes\":{},\"id\":\"1799\",\"type\":\"CellEditor\"},{\"attributes\":{\"client_comm_id\":\"64081f9b78a1410e8ce673e062d9d23c\",\"comm_id\":\"d5eeaceda56a41f7a0c669b3657eb1fe\",\"plot_id\":\"1787\"},\"id\":\"1826\",\"type\":\"panel.models.comm_manager.CommManager\"},{\"attributes\":{\"editor\":{\"id\":\"1804\"},\"field\":\"state\",\"formatter\":{\"id\":\"1803\"},\"title\":\"state\",\"width\":0},\"id\":\"1805\",\"type\":\"TableColumn\"},{\"attributes\":{\"children\":[{\"id\":\"1790\"},{\"id\":\"1793\"}],\"margin\":[0,0,0,0],\"name\":\"Row02444\"},\"id\":\"1789\",\"type\":\"Row\"},{\"attributes\":{\"children\":[{\"id\":\"1818\"}],\"margin\":[0,0,0,0],\"name\":\"Row02419\"},\"id\":\"1794\",\"type\":\"Row\"},{\"attributes\":{\"editor\":{\"id\":\"1809\"},\"field\":\"year\",\"formatter\":{\"id\":\"1808\"},\"title\":\"year\",\"width\":0},\"id\":\"1810\",\"type\":\"TableColumn\"},{\"attributes\":{},\"id\":\"1820\",\"type\":\"UnionRenderers\"},{\"attributes\":{\"margin\":[5,5,5,5],\"name\":\"HSpacer02443\",\"sizing_mode\":\"stretch_width\"},\"id\":\"1793\",\"type\":\"Spacer\"},{\"attributes\":{\"children\":[{\"id\":\"1788\"}],\"margin\":[0,0,0,0],\"name\":\"Row02446\"},\"id\":\"1787\",\"type\":\"Row\"},{\"attributes\":{\"editor\":{\"id\":\"1799\"},\"field\":\"index\",\"formatter\":{\"id\":\"1797\"},\"title\":\"index\",\"width\":0},\"id\":\"1800\",\"type\":\"TableColumn\"},{\"attributes\":{\"end\":2021,\"margin\":[5,10,5,10],\"start\":1950,\"step\":2,\"title\":\"Year slider\",\"value\":1950},\"id\":\"1791\",\"type\":\"Slider\"},{\"attributes\":{\"editor\":{\"id\":\"1814\"},\"field\":\"sugar\",\"formatter\":{\"id\":\"1813\"},\"title\":\"sugar\",\"width\":0},\"id\":\"1815\",\"type\":\"TableColumn\"},{\"attributes\":{\"text_align\":\"left\"},\"id\":\"1797\",\"type\":\"NumberFormatter\"},{\"attributes\":{\"children\":[{\"id\":\"1789\"},{\"id\":\"1794\"}],\"margin\":[0,0,0,0],\"name\":\"Column02445\"},\"id\":\"1788\",\"type\":\"Column\"},{\"attributes\":{\"format\":\"0,0.0[00000]\",\"text_align\":\"right\"},\"id\":\"1808\",\"type\":\"NumberFormatter\"},{\"attributes\":{\"data\":{\"index\":[0,1,2,3,4,5,6,7,8,9],\"state\":[\"andhraPradesh\",\"assam\",\"bihar\",\"gujrat\",\"haryana\",\"karnataka\",\"maha\",\"orrisa\",\"punjab\",\"rajasthan\"],\"sugar\":{\"__ndarray__\":\"AAAAAAAAUkAAAAAAAAA3QAAAAAAAwGRAAAAAAAAAJEAAAAAAAAAkQAAAAAAAAEVAAAAAAADAUkAAAAAAAAA4QAAAAAAA4GJAAAAAAAAAMUA=\",\"dtype\":\"float64\",\"order\":\"little\",\"shape\":[10]},\"year\":{\"__ndarray__\":\"AAAAAAB4nkAAAAAAAHieQAAAAAAAeJ5AAAAAAAB4nkAAAAAAAHieQAAAAAAAeJ5AAAAAAAB4nkAAAAAAAHieQAAAAAAAeJ5AAAAAAAB4nkA=\",\"dtype\":\"float64\",\"order\":\"little\",\"shape\":[10]}},\"selected\":{\"id\":\"1796\"},\"selection_policy\":{\"id\":\"1820\"}},\"id\":\"1795\",\"type\":\"ColumnDataSource\"}],\"root_ids\":[\"1787\",\"1826\"]},\"title\":\"Bokeh Application\",\"version\":\"2.4.3\"}};\n",
       "    var render_items = [{\"docid\":\"9d425d8d-1d9b-4885-ae70-65e86621e6ee\",\"root_ids\":[\"1787\"],\"roots\":{\"1787\":\"6f3d47b2-1c1b-4931-a966-3095da1a0d0a\"}}];\n",
       "    root.Bokeh.embed.embed_items_notebook(docs_json, render_items);\n",
       "  }\n",
       "  if (root.Bokeh !== undefined && root.Bokeh.Panel !== undefined && ( root['Tabulator'] !== undefined)) {\n",
       "    embed_document(root);\n",
       "  } else {\n",
       "    var attempts = 0;\n",
       "    var timer = setInterval(function(root) {\n",
       "      if (root.Bokeh !== undefined && root.Bokeh.Panel !== undefined && (root['Tabulator'] !== undefined)) {\n",
       "        clearInterval(timer);\n",
       "        embed_document(root);\n",
       "      } else if (document.readyState == \"complete\") {\n",
       "        attempts++;\n",
       "        if (attempts > 200) {\n",
       "          clearInterval(timer);\n",
       "          console.log(\"Bokeh: ERROR: Unable to run BokehJS code because BokehJS library is missing\");\n",
       "        }\n",
       "      }\n",
       "    }, 25, root)\n",
       "  }\n",
       "})(window);</script>"
      ],
      "text/plain": [
       "<hvplot.interactive.Interactive at 0x133b7b2e0>"
      ]
     },
     "execution_count": 15,
     "metadata": {
      "application/vnd.holoviews_exec.v0+json": {
       "id": "1787"
      }
     },
     "output_type": "execute_result"
    }
   ],
   "source": [
    "sugar_table"
   ]
  },
  {
   "cell_type": "markdown",
   "id": "896281cc",
   "metadata": {},
   "source": [
    "Plot 2 - Scatter plot - Area vs Production "
   ]
  },
  {
   "cell_type": "markdown",
   "id": "93b759b6",
   "metadata": {},
   "source": [
    "Creating a pipeline for data used in scatter plot - area vs production"
   ]
  },
  {
   "cell_type": "code",
   "execution_count": 16,
   "id": "e20b6bcc-8de5-47e4-8e59-e4d3f6e4b467",
   "metadata": {},
   "outputs": [],
   "source": [
    "area_vs_production_scatterplot_pipeline = (\n",
    "    idf [\n",
    "        ((idf.year == year_slider) & (idf.state.isin(states)))\n",
    "        \n",
    "    ]\n",
    "    .groupby(['state','year','production'])['area'].mean()\n",
    "    .to_frame()\n",
    "    .reset_index()\n",
    "    .sort_values(by = \"year\")\n",
    "    .reset_index(drop=True)\n",
    ")"
   ]
  },
  {
   "cell_type": "code",
   "execution_count": 17,
   "id": "de24288c-7517-4171-9fb9-1d9751a5018a",
   "metadata": {},
   "outputs": [
    {
     "data": {},
     "metadata": {},
     "output_type": "display_data"
    },
    {
     "data": {
      "application/vnd.holoviews_exec.v0+json": "",
      "text/html": [
       "<div id='1837'>\n",
       "  <div class=\"bk-root\" id=\"467240fe-6230-4f37-b211-c9990e4a7de7\" data-root-id=\"1837\"></div>\n",
       "</div>\n",
       "<script type=\"application/javascript\">(function(root) {\n",
       "  function embed_document(root) {\n",
       "    var docs_json = {\"cd162a6d-f780-41fb-a33d-997342f0ce32\":{\"defs\":[{\"extends\":null,\"module\":null,\"name\":\"ReactiveHTML1\",\"overrides\":[],\"properties\":[]},{\"extends\":null,\"module\":null,\"name\":\"FlexBox1\",\"overrides\":[],\"properties\":[{\"default\":\"flex-start\",\"kind\":null,\"name\":\"align_content\"},{\"default\":\"flex-start\",\"kind\":null,\"name\":\"align_items\"},{\"default\":\"row\",\"kind\":null,\"name\":\"flex_direction\"},{\"default\":\"wrap\",\"kind\":null,\"name\":\"flex_wrap\"},{\"default\":\"flex-start\",\"kind\":null,\"name\":\"justify_content\"}]},{\"extends\":null,\"module\":null,\"name\":\"GridStack1\",\"overrides\":[],\"properties\":[{\"default\":\"warn\",\"kind\":null,\"name\":\"mode\"},{\"default\":null,\"kind\":null,\"name\":\"ncols\"},{\"default\":null,\"kind\":null,\"name\":\"nrows\"},{\"default\":true,\"kind\":null,\"name\":\"allow_resize\"},{\"default\":true,\"kind\":null,\"name\":\"allow_drag\"},{\"default\":[],\"kind\":null,\"name\":\"state\"}]},{\"extends\":null,\"module\":null,\"name\":\"click1\",\"overrides\":[],\"properties\":[{\"default\":\"\",\"kind\":null,\"name\":\"terminal_output\"},{\"default\":\"\",\"kind\":null,\"name\":\"debug_name\"},{\"default\":0,\"kind\":null,\"name\":\"clears\"}]},{\"extends\":null,\"module\":null,\"name\":\"NotificationAreaBase1\",\"overrides\":[],\"properties\":[{\"default\":\"bottom-right\",\"kind\":null,\"name\":\"position\"},{\"default\":0,\"kind\":null,\"name\":\"_clear\"}]},{\"extends\":null,\"module\":null,\"name\":\"NotificationArea1\",\"overrides\":[],\"properties\":[{\"default\":[],\"kind\":null,\"name\":\"notifications\"},{\"default\":\"bottom-right\",\"kind\":null,\"name\":\"position\"},{\"default\":0,\"kind\":null,\"name\":\"_clear\"},{\"default\":[{\"background\":\"#ffc107\",\"icon\":{\"className\":\"fas fa-exclamation-triangle\",\"color\":\"white\",\"tagName\":\"i\"},\"type\":\"warning\"},{\"background\":\"#007bff\",\"icon\":{\"className\":\"fas fa-info-circle\",\"color\":\"white\",\"tagName\":\"i\"},\"type\":\"info\"}],\"kind\":null,\"name\":\"types\"}]},{\"extends\":null,\"module\":null,\"name\":\"Notification\",\"overrides\":[],\"properties\":[{\"default\":null,\"kind\":null,\"name\":\"background\"},{\"default\":3000,\"kind\":null,\"name\":\"duration\"},{\"default\":null,\"kind\":null,\"name\":\"icon\"},{\"default\":\"\",\"kind\":null,\"name\":\"message\"},{\"default\":null,\"kind\":null,\"name\":\"notification_type\"},{\"default\":false,\"kind\":null,\"name\":\"_destroyed\"}]},{\"extends\":null,\"module\":null,\"name\":\"TemplateActions1\",\"overrides\":[],\"properties\":[{\"default\":0,\"kind\":null,\"name\":\"open_modal\"},{\"default\":0,\"kind\":null,\"name\":\"close_modal\"}]},{\"extends\":null,\"module\":null,\"name\":\"MaterialTemplateActions1\",\"overrides\":[],\"properties\":[{\"default\":0,\"kind\":null,\"name\":\"open_modal\"},{\"default\":0,\"kind\":null,\"name\":\"close_modal\"}]}],\"roots\":{\"references\":[{\"attributes\":{\"margin\":[5,5,5,5],\"name\":\"DataFrame03102\",\"text\":\"&lt;table border=&quot;0&quot; class=&quot;dataframe panel-df&quot;&gt;\\n  &lt;thead&gt;\\n    &lt;tr style=&quot;text-align: right;&quot;&gt;\\n      &lt;th&gt;&lt;/th&gt;\\n      &lt;th&gt;state&lt;/th&gt;\\n      &lt;th&gt;year&lt;/th&gt;\\n      &lt;th&gt;production&lt;/th&gt;\\n      &lt;th&gt;area&lt;/th&gt;\\n    &lt;/tr&gt;\\n  &lt;/thead&gt;\\n  &lt;tbody&gt;\\n    &lt;tr&gt;\\n      &lt;th&gt;0&lt;/th&gt;\\n      &lt;td&gt;andhraPradesh&lt;/td&gt;\\n      &lt;td&gt;1950.0&lt;/td&gt;\\n      &lt;td&gt;72.0&lt;/td&gt;\\n      &lt;td&gt;72.0&lt;/td&gt;\\n    &lt;/tr&gt;\\n    &lt;tr&gt;\\n      &lt;th&gt;1&lt;/th&gt;\\n      &lt;td&gt;assam&lt;/td&gt;\\n      &lt;td&gt;1950.0&lt;/td&gt;\\n      &lt;td&gt;23.0&lt;/td&gt;\\n      &lt;td&gt;23.0&lt;/td&gt;\\n    &lt;/tr&gt;\\n    &lt;tr&gt;\\n      &lt;th&gt;2&lt;/th&gt;\\n      &lt;td&gt;bihar&lt;/td&gt;\\n      &lt;td&gt;1950.0&lt;/td&gt;\\n      &lt;td&gt;166.0&lt;/td&gt;\\n      &lt;td&gt;166.0&lt;/td&gt;\\n    &lt;/tr&gt;\\n    &lt;tr&gt;\\n      &lt;th&gt;3&lt;/th&gt;\\n      &lt;td&gt;gujrat&lt;/td&gt;\\n      &lt;td&gt;1950.0&lt;/td&gt;\\n      &lt;td&gt;10.0&lt;/td&gt;\\n      &lt;td&gt;10.0&lt;/td&gt;\\n    &lt;/tr&gt;\\n    &lt;tr&gt;\\n      &lt;th&gt;4&lt;/th&gt;\\n      &lt;td&gt;haryana&lt;/td&gt;\\n      &lt;td&gt;1950.0&lt;/td&gt;\\n      &lt;td&gt;10.0&lt;/td&gt;\\n      &lt;td&gt;10.0&lt;/td&gt;\\n    &lt;/tr&gt;\\n    &lt;tr&gt;\\n      &lt;th&gt;5&lt;/th&gt;\\n      &lt;td&gt;karnataka&lt;/td&gt;\\n      &lt;td&gt;1950.0&lt;/td&gt;\\n      &lt;td&gt;42.0&lt;/td&gt;\\n      &lt;td&gt;42.0&lt;/td&gt;\\n    &lt;/tr&gt;\\n    &lt;tr&gt;\\n      &lt;th&gt;6&lt;/th&gt;\\n      &lt;td&gt;maha&lt;/td&gt;\\n      &lt;td&gt;1950.0&lt;/td&gt;\\n      &lt;td&gt;75.0&lt;/td&gt;\\n      &lt;td&gt;75.0&lt;/td&gt;\\n    &lt;/tr&gt;\\n    &lt;tr&gt;\\n      &lt;th&gt;7&lt;/th&gt;\\n      &lt;td&gt;orrisa&lt;/td&gt;\\n      &lt;td&gt;1950.0&lt;/td&gt;\\n      &lt;td&gt;24.0&lt;/td&gt;\\n      &lt;td&gt;24.0&lt;/td&gt;\\n    &lt;/tr&gt;\\n    &lt;tr&gt;\\n      &lt;th&gt;8&lt;/th&gt;\\n      &lt;td&gt;punjab&lt;/td&gt;\\n      &lt;td&gt;1950.0&lt;/td&gt;\\n      &lt;td&gt;151.0&lt;/td&gt;\\n      &lt;td&gt;151.0&lt;/td&gt;\\n    &lt;/tr&gt;\\n    &lt;tr&gt;\\n      &lt;th&gt;9&lt;/th&gt;\\n      &lt;td&gt;rajasthan&lt;/td&gt;\\n      &lt;td&gt;1950.0&lt;/td&gt;\\n      &lt;td&gt;17.0&lt;/td&gt;\\n      &lt;td&gt;17.0&lt;/td&gt;\\n    &lt;/tr&gt;\\n    &lt;tr&gt;\\n      &lt;th&gt;10&lt;/th&gt;\\n      &lt;td&gt;tamilNadu&lt;/td&gt;\\n      &lt;td&gt;1950.0&lt;/td&gt;\\n      &lt;td&gt;50.0&lt;/td&gt;\\n      &lt;td&gt;50.0&lt;/td&gt;\\n    &lt;/tr&gt;\\n    &lt;tr&gt;\\n      &lt;th&gt;11&lt;/th&gt;\\n      &lt;td&gt;uttarPradesh&lt;/td&gt;\\n      &lt;td&gt;1950.0&lt;/td&gt;\\n      &lt;td&gt;1014.0&lt;/td&gt;\\n      &lt;td&gt;1014.0&lt;/td&gt;\\n    &lt;/tr&gt;\\n    &lt;tr&gt;\\n      &lt;th&gt;12&lt;/th&gt;\\n      &lt;td&gt;westBengal&lt;/td&gt;\\n      &lt;td&gt;1950.0&lt;/td&gt;\\n      &lt;td&gt;18.0&lt;/td&gt;\\n      &lt;td&gt;18.0&lt;/td&gt;\\n    &lt;/tr&gt;\\n  &lt;/tbody&gt;\\n&lt;/table&gt;\"},\"id\":\"1844\",\"type\":\"panel.models.markup.HTML\"},{\"attributes\":{\"children\":[{\"id\":\"1838\"}],\"margin\":[0,0,0,0],\"name\":\"Row03107\"},\"id\":\"1837\",\"type\":\"Row\"},{\"attributes\":{\"children\":[{\"id\":\"1841\"}],\"margin\":[0,0,0,0],\"name\":\"Column03074\"},\"id\":\"1840\",\"type\":\"Column\"},{\"attributes\":{\"children\":[{\"id\":\"1844\"}],\"margin\":[0,0,0,0],\"name\":\"Row03079\"},\"id\":\"1843\",\"type\":\"Row\"},{\"attributes\":{\"children\":[{\"id\":\"1839\"},{\"id\":\"1843\"}],\"margin\":[0,0,0,0],\"name\":\"Column03106\"},\"id\":\"1838\",\"type\":\"Column\"},{\"attributes\":{\"children\":[{\"id\":\"1840\"},{\"id\":\"1842\"}],\"margin\":[0,0,0,0],\"name\":\"Row03105\"},\"id\":\"1839\",\"type\":\"Row\"},{\"attributes\":{\"end\":2021,\"margin\":[5,10,5,10],\"start\":1950,\"step\":2,\"title\":\"Year slider\",\"value\":1950},\"id\":\"1841\",\"type\":\"Slider\"},{\"attributes\":{\"client_comm_id\":\"3c98f339513a4e2297e8133f7cd7868a\",\"comm_id\":\"46571e9d592f4253a9a0423121aa14b4\",\"plot_id\":\"1837\"},\"id\":\"1845\",\"type\":\"panel.models.comm_manager.CommManager\"},{\"attributes\":{\"margin\":[5,5,5,5],\"name\":\"HSpacer03104\",\"sizing_mode\":\"stretch_width\"},\"id\":\"1842\",\"type\":\"Spacer\"}],\"root_ids\":[\"1837\",\"1845\"]},\"title\":\"Bokeh Application\",\"version\":\"2.4.3\"}};\n",
       "    var render_items = [{\"docid\":\"cd162a6d-f780-41fb-a33d-997342f0ce32\",\"root_ids\":[\"1837\"],\"roots\":{\"1837\":\"467240fe-6230-4f37-b211-c9990e4a7de7\"}}];\n",
       "    root.Bokeh.embed.embed_items_notebook(docs_json, render_items);\n",
       "  }\n",
       "  if (root.Bokeh !== undefined && root.Bokeh.Panel !== undefined && ( root['Tabulator'] !== undefined)) {\n",
       "    embed_document(root);\n",
       "  } else {\n",
       "    var attempts = 0;\n",
       "    var timer = setInterval(function(root) {\n",
       "      if (root.Bokeh !== undefined && root.Bokeh.Panel !== undefined && (root['Tabulator'] !== undefined)) {\n",
       "        clearInterval(timer);\n",
       "        embed_document(root);\n",
       "      } else if (document.readyState == \"complete\") {\n",
       "        attempts++;\n",
       "        if (attempts > 200) {\n",
       "          clearInterval(timer);\n",
       "          console.log(\"Bokeh: ERROR: Unable to run BokehJS code because BokehJS library is missing\");\n",
       "        }\n",
       "      }\n",
       "    }, 25, root)\n",
       "  }\n",
       "})(window);</script>"
      ],
      "text/plain": [
       "<hvplot.interactive.Interactive at 0x132e96d60>"
      ]
     },
     "execution_count": 17,
     "metadata": {
      "application/vnd.holoviews_exec.v0+json": {
       "id": "1837"
      }
     },
     "output_type": "execute_result"
    }
   ],
   "source": [
    "area_vs_production_scatterplot_pipeline"
   ]
  },
  {
   "cell_type": "markdown",
   "id": "888f1a86",
   "metadata": {},
   "source": [
    "Connecting pipeline and notebook using scatterplot "
   ]
  },
  {
   "cell_type": "code",
   "execution_count": 18,
   "id": "2e86a313-4836-46d8-a743-a58cd9f4e441",
   "metadata": {},
   "outputs": [],
   "source": [
    "area_vs_production_scatterplot = area_vs_production_scatterplot_pipeline.hvplot(x = 'production',y = 'area',by='state',size=80,kind='scatter',alpha=0.7,legend=False,height=500,width=500)"
   ]
  },
  {
   "cell_type": "code",
   "execution_count": 19,
   "id": "08464740-079a-4957-b474-290f8a089967",
   "metadata": {},
   "outputs": [
    {
     "data": {},
     "metadata": {},
     "output_type": "display_data"
    },
    {
     "data": {},
     "metadata": {},
     "output_type": "display_data"
    },
    {
     "data": {
      "application/vnd.holoviews_exec.v0+json": "",
      "text/html": [
       "<div id='1846'>\n",
       "  <div class=\"bk-root\" id=\"bace2c91-1902-444f-9242-ca947a379839\" data-root-id=\"1846\"></div>\n",
       "</div>\n",
       "<script type=\"application/javascript\">(function(root) {\n",
       "  function embed_document(root) {\n",
       "    var docs_json = {\"7fccd698-7e8e-48ef-83f9-0f8f092793cf\":{\"defs\":[{\"extends\":null,\"module\":null,\"name\":\"ReactiveHTML1\",\"overrides\":[],\"properties\":[]},{\"extends\":null,\"module\":null,\"name\":\"FlexBox1\",\"overrides\":[],\"properties\":[{\"default\":\"flex-start\",\"kind\":null,\"name\":\"align_content\"},{\"default\":\"flex-start\",\"kind\":null,\"name\":\"align_items\"},{\"default\":\"row\",\"kind\":null,\"name\":\"flex_direction\"},{\"default\":\"wrap\",\"kind\":null,\"name\":\"flex_wrap\"},{\"default\":\"flex-start\",\"kind\":null,\"name\":\"justify_content\"}]},{\"extends\":null,\"module\":null,\"name\":\"GridStack1\",\"overrides\":[],\"properties\":[{\"default\":\"warn\",\"kind\":null,\"name\":\"mode\"},{\"default\":null,\"kind\":null,\"name\":\"ncols\"},{\"default\":null,\"kind\":null,\"name\":\"nrows\"},{\"default\":true,\"kind\":null,\"name\":\"allow_resize\"},{\"default\":true,\"kind\":null,\"name\":\"allow_drag\"},{\"default\":[],\"kind\":null,\"name\":\"state\"}]},{\"extends\":null,\"module\":null,\"name\":\"click1\",\"overrides\":[],\"properties\":[{\"default\":\"\",\"kind\":null,\"name\":\"terminal_output\"},{\"default\":\"\",\"kind\":null,\"name\":\"debug_name\"},{\"default\":0,\"kind\":null,\"name\":\"clears\"}]},{\"extends\":null,\"module\":null,\"name\":\"NotificationAreaBase1\",\"overrides\":[],\"properties\":[{\"default\":\"bottom-right\",\"kind\":null,\"name\":\"position\"},{\"default\":0,\"kind\":null,\"name\":\"_clear\"}]},{\"extends\":null,\"module\":null,\"name\":\"NotificationArea1\",\"overrides\":[],\"properties\":[{\"default\":[],\"kind\":null,\"name\":\"notifications\"},{\"default\":\"bottom-right\",\"kind\":null,\"name\":\"position\"},{\"default\":0,\"kind\":null,\"name\":\"_clear\"},{\"default\":[{\"background\":\"#ffc107\",\"icon\":{\"className\":\"fas fa-exclamation-triangle\",\"color\":\"white\",\"tagName\":\"i\"},\"type\":\"warning\"},{\"background\":\"#007bff\",\"icon\":{\"className\":\"fas fa-info-circle\",\"color\":\"white\",\"tagName\":\"i\"},\"type\":\"info\"}],\"kind\":null,\"name\":\"types\"}]},{\"extends\":null,\"module\":null,\"name\":\"Notification\",\"overrides\":[],\"properties\":[{\"default\":null,\"kind\":null,\"name\":\"background\"},{\"default\":3000,\"kind\":null,\"name\":\"duration\"},{\"default\":null,\"kind\":null,\"name\":\"icon\"},{\"default\":\"\",\"kind\":null,\"name\":\"message\"},{\"default\":null,\"kind\":null,\"name\":\"notification_type\"},{\"default\":false,\"kind\":null,\"name\":\"_destroyed\"}]},{\"extends\":null,\"module\":null,\"name\":\"TemplateActions1\",\"overrides\":[],\"properties\":[{\"default\":0,\"kind\":null,\"name\":\"open_modal\"},{\"default\":0,\"kind\":null,\"name\":\"close_modal\"}]},{\"extends\":null,\"module\":null,\"name\":\"MaterialTemplateActions1\",\"overrides\":[],\"properties\":[{\"default\":0,\"kind\":null,\"name\":\"open_modal\"},{\"default\":0,\"kind\":null,\"name\":\"close_modal\"}]}],\"roots\":{\"references\":[{\"attributes\":{\"angle\":{\"value\":0.0},\"fill_alpha\":{\"value\":0.7},\"fill_color\":{\"value\":\"#e377c2\"},\"hatch_alpha\":{\"value\":0.7},\"hatch_color\":{\"value\":\"#e377c2\"},\"hatch_scale\":{\"value\":12.0},\"hatch_weight\":{\"value\":1.0},\"line_alpha\":{\"value\":0.7},\"line_cap\":{\"value\":\"butt\"},\"line_color\":{\"value\":\"#e377c2\"},\"line_dash\":{\"value\":[]},\"line_dash_offset\":{\"value\":0},\"line_join\":{\"value\":\"bevel\"},\"line_width\":{\"value\":1},\"marker\":{\"value\":\"circle\"},\"size\":{\"value\":8.94427190999916},\"x\":{\"field\":\"production\"},\"y\":{\"field\":\"area\"}},\"id\":\"1993\",\"type\":\"Scatter\"},{\"attributes\":{\"callback\":null,\"renderers\":[{\"id\":\"1910\"},{\"id\":\"1919\"},{\"id\":\"1928\"},{\"id\":\"1937\"},{\"id\":\"1946\"},{\"id\":\"1955\"},{\"id\":\"1964\"},{\"id\":\"1973\"},{\"id\":\"1982\"},{\"id\":\"1991\"},{\"id\":\"2000\"},{\"id\":\"2009\"},{\"id\":\"2018\"}],\"tags\":[\"hv_created\"],\"tooltips\":[[\"state\",\"@{state}\"],[\"production\",\"@{production}\"],[\"area\",\"@{area}\"]]},\"id\":\"1855\",\"type\":\"HoverTool\"},{\"attributes\":{},\"id\":\"1995\",\"type\":\"Selection\"},{\"attributes\":{},\"id\":\"2048\",\"type\":\"UnionRenderers\"},{\"attributes\":{\"angle\":{\"value\":0.0},\"fill_alpha\":{\"value\":0.7},\"fill_color\":{\"value\":\"#d62728\"},\"hatch_alpha\":{\"value\":0.7},\"hatch_color\":{\"value\":\"#d62728\"},\"hatch_scale\":{\"value\":12.0},\"hatch_weight\":{\"value\":1.0},\"line_alpha\":{\"value\":0.7},\"line_cap\":{\"value\":\"butt\"},\"line_color\":{\"value\":\"#d62728\"},\"line_dash\":{\"value\":[]},\"line_dash_offset\":{\"value\":0},\"line_join\":{\"value\":\"bevel\"},\"line_width\":{\"value\":1},\"marker\":{\"value\":\"circle\"},\"size\":{\"value\":8.94427190999916},\"x\":{\"field\":\"production\"},\"y\":{\"field\":\"area\"}},\"id\":\"1975\",\"type\":\"Scatter\"},{\"attributes\":{\"fill_alpha\":{\"value\":0.7},\"fill_color\":{\"value\":\"#8c564b\"},\"hatch_alpha\":{\"value\":0.7},\"hatch_color\":{\"value\":\"#8c564b\"},\"line_alpha\":{\"value\":0.7},\"line_color\":{\"value\":\"#8c564b\"},\"size\":{\"value\":8.94427190999916},\"x\":{\"field\":\"production\"},\"y\":{\"field\":\"area\"}},\"id\":\"1997\",\"type\":\"Scatter\"},{\"attributes\":{\"fill_alpha\":{\"value\":0.7},\"fill_color\":{\"value\":\"#d62728\"},\"hatch_alpha\":{\"value\":0.1},\"hatch_color\":{\"value\":\"#d62728\"},\"line_alpha\":{\"value\":0.7},\"line_color\":{\"value\":\"#d62728\"},\"size\":{\"value\":8.94427190999916},\"x\":{\"field\":\"production\"},\"y\":{\"field\":\"area\"}},\"id\":\"1971\",\"type\":\"Scatter\"},{\"attributes\":{\"fill_alpha\":{\"value\":0.2},\"fill_color\":{\"value\":\"#bcbd22\"},\"hatch_alpha\":{\"value\":0.2},\"hatch_color\":{\"value\":\"#bcbd22\"},\"line_alpha\":{\"value\":0.2},\"line_color\":{\"value\":\"#bcbd22\"},\"size\":{\"value\":8.94427190999916},\"x\":{\"field\":\"production\"},\"y\":{\"field\":\"area\"}},\"id\":\"2008\",\"type\":\"Scatter\"},{\"attributes\":{},\"id\":\"2028\",\"type\":\"UnionRenderers\"},{\"attributes\":{\"fill_alpha\":{\"value\":0.2},\"fill_color\":{\"value\":\"#d62728\"},\"hatch_alpha\":{\"value\":0.2},\"hatch_color\":{\"value\":\"#d62728\"},\"line_alpha\":{\"value\":0.2},\"line_color\":{\"value\":\"#d62728\"},\"size\":{\"value\":8.94427190999916},\"x\":{\"field\":\"production\"},\"y\":{\"field\":\"area\"}},\"id\":\"1972\",\"type\":\"Scatter\"},{\"attributes\":{\"coordinates\":null,\"data_source\":{\"id\":\"1994\"},\"glyph\":{\"id\":\"1997\"},\"group\":null,\"hover_glyph\":null,\"muted_glyph\":{\"id\":\"1999\"},\"nonselection_glyph\":{\"id\":\"1998\"},\"selection_glyph\":{\"id\":\"2002\"},\"view\":{\"id\":\"2001\"}},\"id\":\"2000\",\"type\":\"GlyphRenderer\"},{\"attributes\":{},\"id\":\"1977\",\"type\":\"Selection\"},{\"attributes\":{\"source\":{\"id\":\"2003\"}},\"id\":\"2010\",\"type\":\"CDSView\"},{\"attributes\":{},\"id\":\"2050\",\"type\":\"UnionRenderers\"},{\"attributes\":{\"fill_alpha\":{\"value\":0.7},\"fill_color\":{\"value\":\"#1f77b4\"},\"hatch_alpha\":{\"value\":0.7},\"hatch_color\":{\"value\":\"#1f77b4\"},\"line_alpha\":{\"value\":0.7},\"line_color\":{\"value\":\"#1f77b4\"},\"size\":{\"value\":8.94427190999916},\"x\":{\"field\":\"production\"},\"y\":{\"field\":\"area\"}},\"id\":\"1979\",\"type\":\"Scatter\"},{\"attributes\":{\"source\":{\"id\":\"1994\"}},\"id\":\"2001\",\"type\":\"CDSView\"},{\"attributes\":{\"data\":{\"area\":{\"__ndarray__\":\"AAAAAAAAMkA=\",\"dtype\":\"float64\",\"order\":\"little\",\"shape\":[1]},\"production\":{\"__ndarray__\":\"AAAAAAAAMkA=\",\"dtype\":\"float64\",\"order\":\"little\",\"shape\":[1]},\"state\":[\"westBengal\"]},\"selected\":{\"id\":\"2013\"},\"selection_policy\":{\"id\":\"2052\"}},\"id\":\"2012\",\"type\":\"ColumnDataSource\"},{\"attributes\":{\"fill_alpha\":{\"value\":0.7},\"fill_color\":{\"value\":\"#8c564b\"},\"hatch_alpha\":{\"value\":0.1},\"hatch_color\":{\"value\":\"#8c564b\"},\"line_alpha\":{\"value\":0.7},\"line_color\":{\"value\":\"#8c564b\"},\"size\":{\"value\":8.94427190999916},\"x\":{\"field\":\"production\"},\"y\":{\"field\":\"area\"}},\"id\":\"1998\",\"type\":\"Scatter\"},{\"attributes\":{\"data\":{\"area\":{\"__ndarray__\":\"AAAAAAAASUA=\",\"dtype\":\"float64\",\"order\":\"little\",\"shape\":[1]},\"production\":{\"__ndarray__\":\"AAAAAAAASUA=\",\"dtype\":\"float64\",\"order\":\"little\",\"shape\":[1]},\"state\":[\"tamilNadu\"]},\"selected\":{\"id\":\"1995\"},\"selection_policy\":{\"id\":\"2048\"}},\"id\":\"1994\",\"type\":\"ColumnDataSource\"},{\"attributes\":{},\"id\":\"2030\",\"type\":\"UnionRenderers\"},{\"attributes\":{\"coordinates\":null,\"data_source\":{\"id\":\"1976\"},\"glyph\":{\"id\":\"1979\"},\"group\":null,\"hover_glyph\":null,\"muted_glyph\":{\"id\":\"1981\"},\"nonselection_glyph\":{\"id\":\"1980\"},\"selection_glyph\":{\"id\":\"1984\"},\"view\":{\"id\":\"1983\"}},\"id\":\"1982\",\"type\":\"GlyphRenderer\"},{\"attributes\":{\"fill_alpha\":{\"value\":0.2},\"fill_color\":{\"value\":\"#8c564b\"},\"hatch_alpha\":{\"value\":0.2},\"hatch_color\":{\"value\":\"#8c564b\"},\"line_alpha\":{\"value\":0.2},\"line_color\":{\"value\":\"#8c564b\"},\"size\":{\"value\":8.94427190999916},\"x\":{\"field\":\"production\"},\"y\":{\"field\":\"area\"}},\"id\":\"1999\",\"type\":\"Scatter\"},{\"attributes\":{\"angle\":{\"value\":0.0},\"fill_alpha\":{\"value\":0.7},\"fill_color\":{\"value\":\"#8c564b\"},\"hatch_alpha\":{\"value\":0.7},\"hatch_color\":{\"value\":\"#8c564b\"},\"hatch_scale\":{\"value\":12.0},\"hatch_weight\":{\"value\":1.0},\"line_alpha\":{\"value\":0.7},\"line_cap\":{\"value\":\"butt\"},\"line_color\":{\"value\":\"#8c564b\"},\"line_dash\":{\"value\":[]},\"line_dash_offset\":{\"value\":0},\"line_join\":{\"value\":\"bevel\"},\"line_width\":{\"value\":1},\"marker\":{\"value\":\"circle\"},\"size\":{\"value\":8.94427190999916},\"x\":{\"field\":\"production\"},\"y\":{\"field\":\"area\"}},\"id\":\"2002\",\"type\":\"Scatter\"},{\"attributes\":{\"fill_alpha\":{\"value\":0.7},\"fill_color\":{\"value\":\"#bcbd22\"},\"hatch_alpha\":{\"value\":0.1},\"hatch_color\":{\"value\":\"#bcbd22\"},\"line_alpha\":{\"value\":0.7},\"line_color\":{\"value\":\"#bcbd22\"},\"size\":{\"value\":8.94427190999916},\"x\":{\"field\":\"production\"},\"y\":{\"field\":\"area\"}},\"id\":\"2007\",\"type\":\"Scatter\"},{\"attributes\":{},\"id\":\"2052\",\"type\":\"UnionRenderers\"},{\"attributes\":{\"angle\":{\"value\":0.0},\"fill_alpha\":{\"value\":0.7},\"fill_color\":{\"value\":\"#bcbd22\"},\"hatch_alpha\":{\"value\":0.7},\"hatch_color\":{\"value\":\"#bcbd22\"},\"hatch_scale\":{\"value\":12.0},\"hatch_weight\":{\"value\":1.0},\"line_alpha\":{\"value\":0.7},\"line_cap\":{\"value\":\"butt\"},\"line_color\":{\"value\":\"#bcbd22\"},\"line_dash\":{\"value\":[]},\"line_dash_offset\":{\"value\":0},\"line_join\":{\"value\":\"bevel\"},\"line_width\":{\"value\":1},\"marker\":{\"value\":\"circle\"},\"size\":{\"value\":8.94427190999916},\"x\":{\"field\":\"production\"},\"y\":{\"field\":\"area\"}},\"id\":\"2011\",\"type\":\"Scatter\"},{\"attributes\":{\"below\":[{\"id\":\"1877\"}],\"center\":[{\"id\":\"1880\"},{\"id\":\"1884\"}],\"height\":500,\"left\":[{\"id\":\"1881\"}],\"margin\":[5,5,5,5],\"min_border_bottom\":10,\"min_border_left\":10,\"min_border_right\":10,\"min_border_top\":10,\"renderers\":[{\"id\":\"1910\"},{\"id\":\"1919\"},{\"id\":\"1928\"},{\"id\":\"1937\"},{\"id\":\"1946\"},{\"id\":\"1955\"},{\"id\":\"1964\"},{\"id\":\"1973\"},{\"id\":\"1982\"},{\"id\":\"1991\"},{\"id\":\"2000\"},{\"id\":\"2009\"},{\"id\":\"2018\"}],\"sizing_mode\":\"fixed\",\"title\":{\"id\":\"1869\"},\"toolbar\":{\"id\":\"1891\"},\"width\":500,\"x_range\":{\"id\":\"1853\"},\"x_scale\":{\"id\":\"1873\"},\"y_range\":{\"id\":\"1854\"},\"y_scale\":{\"id\":\"1875\"}},\"id\":\"1868\",\"subtype\":\"Figure\",\"type\":\"Plot\"},{\"attributes\":{},\"id\":\"1875\",\"type\":\"LinearScale\"},{\"attributes\":{\"source\":{\"id\":\"1976\"}},\"id\":\"1983\",\"type\":\"CDSView\"},{\"attributes\":{\"fill_alpha\":{\"value\":0.7},\"fill_color\":{\"value\":\"#1f77b4\"},\"hatch_alpha\":{\"value\":0.1},\"hatch_color\":{\"value\":\"#1f77b4\"},\"line_alpha\":{\"value\":0.7},\"line_color\":{\"value\":\"#1f77b4\"},\"size\":{\"value\":8.94427190999916},\"x\":{\"field\":\"production\"},\"y\":{\"field\":\"area\"}},\"id\":\"1980\",\"type\":\"Scatter\"},{\"attributes\":{},\"id\":\"2032\",\"type\":\"UnionRenderers\"},{\"attributes\":{},\"id\":\"1873\",\"type\":\"LinearScale\"},{\"attributes\":{\"coordinates\":null,\"group\":null,\"text_color\":\"black\",\"text_font_size\":\"12pt\"},\"id\":\"1869\",\"type\":\"Title\"},{\"attributes\":{\"data\":{\"area\":{\"__ndarray__\":\"AAAAAAAAMUA=\",\"dtype\":\"float64\",\"order\":\"little\",\"shape\":[1]},\"production\":{\"__ndarray__\":\"AAAAAAAAMUA=\",\"dtype\":\"float64\",\"order\":\"little\",\"shape\":[1]},\"state\":[\"rajasthan\"]},\"selected\":{\"id\":\"1986\"},\"selection_policy\":{\"id\":\"2046\"}},\"id\":\"1985\",\"type\":\"ColumnDataSource\"},{\"attributes\":{\"fill_alpha\":{\"value\":0.2},\"fill_color\":{\"value\":\"#1f77b4\"},\"hatch_alpha\":{\"value\":0.2},\"hatch_color\":{\"value\":\"#1f77b4\"},\"line_alpha\":{\"value\":0.2},\"line_color\":{\"value\":\"#1f77b4\"},\"size\":{\"value\":8.94427190999916},\"x\":{\"field\":\"production\"},\"y\":{\"field\":\"area\"}},\"id\":\"1981\",\"type\":\"Scatter\"},{\"attributes\":{\"angle\":{\"value\":0.0},\"fill_alpha\":{\"value\":0.7},\"fill_color\":{\"value\":\"#1f77b4\"},\"hatch_alpha\":{\"value\":0.7},\"hatch_color\":{\"value\":\"#1f77b4\"},\"hatch_scale\":{\"value\":12.0},\"hatch_weight\":{\"value\":1.0},\"line_alpha\":{\"value\":0.7},\"line_cap\":{\"value\":\"butt\"},\"line_color\":{\"value\":\"#1f77b4\"},\"line_dash\":{\"value\":[]},\"line_dash_offset\":{\"value\":0},\"line_join\":{\"value\":\"bevel\"},\"line_width\":{\"value\":1},\"marker\":{\"value\":\"circle\"},\"size\":{\"value\":8.94427190999916},\"x\":{\"field\":\"production\"},\"y\":{\"field\":\"area\"}},\"id\":\"1984\",\"type\":\"Scatter\"},{\"attributes\":{\"axis_label\":\"production\",\"coordinates\":null,\"formatter\":{\"id\":\"1899\"},\"group\":null,\"major_label_policy\":{\"id\":\"1900\"},\"ticker\":{\"id\":\"1878\"}},\"id\":\"1877\",\"type\":\"LinearAxis\"},{\"attributes\":{},\"id\":\"1886\",\"type\":\"PanTool\"},{\"attributes\":{\"coordinates\":null,\"data_source\":{\"id\":\"2003\"},\"glyph\":{\"id\":\"2006\"},\"group\":null,\"hover_glyph\":null,\"muted_glyph\":{\"id\":\"2008\"},\"nonselection_glyph\":{\"id\":\"2007\"},\"selection_glyph\":{\"id\":\"2011\"},\"view\":{\"id\":\"2010\"}},\"id\":\"2009\",\"type\":\"GlyphRenderer\"},{\"attributes\":{},\"id\":\"1878\",\"type\":\"BasicTicker\"},{\"attributes\":{\"axis\":{\"id\":\"1877\"},\"coordinates\":null,\"grid_line_color\":null,\"group\":null,\"ticker\":null},\"id\":\"1880\",\"type\":\"Grid\"},{\"attributes\":{\"fill_alpha\":{\"value\":0.7},\"fill_color\":{\"value\":\"#e377c2\"},\"hatch_alpha\":{\"value\":0.7},\"hatch_color\":{\"value\":\"#e377c2\"},\"line_alpha\":{\"value\":0.7},\"line_color\":{\"value\":\"#e377c2\"},\"size\":{\"value\":8.94427190999916},\"x\":{\"field\":\"production\"},\"y\":{\"field\":\"area\"}},\"id\":\"1988\",\"type\":\"Scatter\"},{\"attributes\":{\"axis_label\":\"area\",\"coordinates\":null,\"formatter\":{\"id\":\"1902\"},\"group\":null,\"major_label_policy\":{\"id\":\"1903\"},\"ticker\":{\"id\":\"1882\"}},\"id\":\"1881\",\"type\":\"LinearAxis\"},{\"attributes\":{},\"id\":\"1986\",\"type\":\"Selection\"},{\"attributes\":{\"axis\":{\"id\":\"1881\"},\"coordinates\":null,\"dimension\":1,\"grid_line_color\":null,\"group\":null,\"ticker\":null},\"id\":\"1884\",\"type\":\"Grid\"},{\"attributes\":{},\"id\":\"1882\",\"type\":\"BasicTicker\"},{\"attributes\":{},\"id\":\"1887\",\"type\":\"WheelZoomTool\"},{\"attributes\":{\"fill_alpha\":{\"value\":0.7},\"fill_color\":{\"value\":\"#bcbd22\"},\"hatch_alpha\":{\"value\":0.7},\"hatch_color\":{\"value\":\"#bcbd22\"},\"line_alpha\":{\"value\":0.7},\"line_color\":{\"value\":\"#bcbd22\"},\"size\":{\"value\":8.94427190999916},\"x\":{\"field\":\"production\"},\"y\":{\"field\":\"area\"}},\"id\":\"2006\",\"type\":\"Scatter\"},{\"attributes\":{},\"id\":\"2034\",\"type\":\"UnionRenderers\"},{\"attributes\":{},\"id\":\"1885\",\"type\":\"SaveTool\"},{\"attributes\":{\"end\":2021,\"margin\":[5,10,5,10],\"start\":1950,\"step\":2,\"title\":\"Year slider\",\"value\":1950},\"id\":\"1850\",\"type\":\"Slider\"},{\"attributes\":{\"overlay\":{\"id\":\"1890\"}},\"id\":\"1888\",\"type\":\"BoxZoomTool\"},{\"attributes\":{},\"id\":\"2004\",\"type\":\"Selection\"},{\"attributes\":{},\"id\":\"1889\",\"type\":\"ResetTool\"},{\"attributes\":{\"data\":{\"area\":{\"__ndarray__\":\"AAAAAACwj0A=\",\"dtype\":\"float64\",\"order\":\"little\",\"shape\":[1]},\"production\":{\"__ndarray__\":\"AAAAAACwj0A=\",\"dtype\":\"float64\",\"order\":\"little\",\"shape\":[1]},\"state\":[\"uttarPradesh\"]},\"selected\":{\"id\":\"2004\"},\"selection_policy\":{\"id\":\"2050\"}},\"id\":\"2003\",\"type\":\"ColumnDataSource\"},{\"attributes\":{\"bottom_units\":\"screen\",\"coordinates\":null,\"fill_alpha\":0.5,\"fill_color\":\"lightgrey\",\"group\":null,\"left_units\":\"screen\",\"level\":\"overlay\",\"line_alpha\":1.0,\"line_color\":\"black\",\"line_dash\":[4,4],\"line_width\":2,\"right_units\":\"screen\",\"syncable\":false,\"top_units\":\"screen\"},\"id\":\"1890\",\"type\":\"BoxAnnotation\"},{\"attributes\":{\"client_comm_id\":\"010b74869eca4c019a70879912b6542d\",\"comm_id\":\"28de8ef3ca0a4914ac6ef8a328c9fde2\",\"plot_id\":\"1846\"},\"id\":\"2157\",\"type\":\"panel.models.comm_manager.CommManager\"},{\"attributes\":{\"coordinates\":null,\"data_source\":{\"id\":\"1985\"},\"glyph\":{\"id\":\"1988\"},\"group\":null,\"hover_glyph\":null,\"muted_glyph\":{\"id\":\"1990\"},\"nonselection_glyph\":{\"id\":\"1989\"},\"selection_glyph\":{\"id\":\"1993\"},\"view\":{\"id\":\"1992\"}},\"id\":\"1991\",\"type\":\"GlyphRenderer\"},{\"attributes\":{\"tools\":[{\"id\":\"1855\"},{\"id\":\"1885\"},{\"id\":\"1886\"},{\"id\":\"1887\"},{\"id\":\"1888\"},{\"id\":\"1889\"}]},\"id\":\"1891\",\"type\":\"Toolbar\"},{\"attributes\":{\"fill_alpha\":{\"value\":0.7},\"fill_color\":{\"value\":\"#30a2da\"},\"hatch_alpha\":{\"value\":0.7},\"hatch_color\":{\"value\":\"#30a2da\"},\"line_alpha\":{\"value\":0.7},\"line_color\":{\"value\":\"#30a2da\"},\"size\":{\"value\":8.94427190999916},\"x\":{\"field\":\"production\"},\"y\":{\"field\":\"area\"}},\"id\":\"1907\",\"type\":\"Scatter\"},{\"attributes\":{},\"id\":\"2036\",\"type\":\"UnionRenderers\"},{\"attributes\":{},\"id\":\"2013\",\"type\":\"Selection\"},{\"attributes\":{\"fill_alpha\":{\"value\":0.7},\"fill_color\":{\"value\":\"#30a2da\"},\"hatch_alpha\":{\"value\":0.7},\"hatch_color\":{\"value\":\"#30a2da\"},\"line_alpha\":{\"value\":0.7},\"line_color\":{\"value\":\"#30a2da\"},\"size\":{\"value\":8.94427190999916},\"x\":{\"field\":\"production\"},\"y\":{\"field\":\"area\"}},\"id\":\"2015\",\"type\":\"Scatter\"},{\"attributes\":{\"source\":{\"id\":\"1985\"}},\"id\":\"1992\",\"type\":\"CDSView\"},{\"attributes\":{},\"id\":\"1905\",\"type\":\"Selection\"},{\"attributes\":{\"fill_alpha\":{\"value\":0.7},\"fill_color\":{\"value\":\"#e377c2\"},\"hatch_alpha\":{\"value\":0.1},\"hatch_color\":{\"value\":\"#e377c2\"},\"line_alpha\":{\"value\":0.7},\"line_color\":{\"value\":\"#e377c2\"},\"size\":{\"value\":8.94427190999916},\"x\":{\"field\":\"production\"},\"y\":{\"field\":\"area\"}},\"id\":\"1989\",\"type\":\"Scatter\"},{\"attributes\":{\"fill_alpha\":{\"value\":0.7},\"fill_color\":{\"value\":\"#30a2da\"},\"hatch_alpha\":{\"value\":0.1},\"hatch_color\":{\"value\":\"#30a2da\"},\"line_alpha\":{\"value\":0.7},\"line_color\":{\"value\":\"#30a2da\"},\"size\":{\"value\":8.94427190999916},\"x\":{\"field\":\"production\"},\"y\":{\"field\":\"area\"}},\"id\":\"2016\",\"type\":\"Scatter\"},{\"attributes\":{\"fill_alpha\":{\"value\":0.2},\"fill_color\":{\"value\":\"#e377c2\"},\"hatch_alpha\":{\"value\":0.2},\"hatch_color\":{\"value\":\"#e377c2\"},\"line_alpha\":{\"value\":0.2},\"line_color\":{\"value\":\"#e377c2\"},\"size\":{\"value\":8.94427190999916},\"x\":{\"field\":\"production\"},\"y\":{\"field\":\"area\"}},\"id\":\"1990\",\"type\":\"Scatter\"},{\"attributes\":{\"data\":{\"area\":{\"__ndarray__\":\"AAAAAAAAN0A=\",\"dtype\":\"float64\",\"order\":\"little\",\"shape\":[1]},\"production\":{\"__ndarray__\":\"AAAAAAAAN0A=\",\"dtype\":\"float64\",\"order\":\"little\",\"shape\":[1]},\"state\":[\"assam\"]},\"selected\":{\"id\":\"1914\"},\"selection_policy\":{\"id\":\"2030\"}},\"id\":\"1913\",\"type\":\"ColumnDataSource\"},{\"attributes\":{\"margin\":[5,5,5,5],\"name\":\"HSpacer03825\",\"sizing_mode\":\"stretch_width\"},\"id\":\"1851\",\"type\":\"Spacer\"},{\"attributes\":{\"angle\":{\"value\":0.0},\"fill_alpha\":{\"value\":0.7},\"fill_color\":{\"value\":\"#8b8b8b\"},\"hatch_alpha\":{\"value\":0.7},\"hatch_color\":{\"value\":\"#8b8b8b\"},\"hatch_scale\":{\"value\":12.0},\"hatch_weight\":{\"value\":1.0},\"line_alpha\":{\"value\":0.7},\"line_cap\":{\"value\":\"butt\"},\"line_color\":{\"value\":\"#8b8b8b\"},\"line_dash\":{\"value\":[]},\"line_dash_offset\":{\"value\":0},\"line_join\":{\"value\":\"bevel\"},\"line_width\":{\"value\":1},\"marker\":{\"value\":\"circle\"},\"size\":{\"value\":8.94427190999916},\"x\":{\"field\":\"production\"},\"y\":{\"field\":\"area\"}},\"id\":\"1948\",\"type\":\"Scatter\"},{\"attributes\":{\"children\":[{\"id\":\"1849\"},{\"id\":\"1851\"}],\"margin\":[0,0,0,0],\"name\":\"Row03826\"},\"id\":\"1848\",\"type\":\"Row\"},{\"attributes\":{\"source\":{\"id\":\"1967\"}},\"id\":\"1974\",\"type\":\"CDSView\"},{\"attributes\":{},\"id\":\"2038\",\"type\":\"UnionRenderers\"},{\"attributes\":{\"children\":[{\"id\":\"1850\"}],\"margin\":[0,0,0,0],\"name\":\"Column03473\"},\"id\":\"1849\",\"type\":\"Column\"},{\"attributes\":{\"children\":[{\"id\":\"1868\"}],\"margin\":[0,0,0,0],\"name\":\"Row03478\"},\"id\":\"1852\",\"type\":\"Row\"},{\"attributes\":{\"source\":{\"id\":\"2012\"}},\"id\":\"2019\",\"type\":\"CDSView\"},{\"attributes\":{\"fill_alpha\":{\"value\":0.7},\"fill_color\":{\"value\":\"#30a2da\"},\"hatch_alpha\":{\"value\":0.1},\"hatch_color\":{\"value\":\"#30a2da\"},\"line_alpha\":{\"value\":0.7},\"line_color\":{\"value\":\"#30a2da\"},\"size\":{\"value\":8.94427190999916},\"x\":{\"field\":\"production\"},\"y\":{\"field\":\"area\"}},\"id\":\"1908\",\"type\":\"Scatter\"},{\"attributes\":{\"fill_alpha\":{\"value\":0.7},\"fill_color\":{\"value\":\"#17becf\"},\"hatch_alpha\":{\"value\":0.7},\"hatch_color\":{\"value\":\"#17becf\"},\"line_alpha\":{\"value\":0.7},\"line_color\":{\"value\":\"#17becf\"},\"size\":{\"value\":8.94427190999916},\"x\":{\"field\":\"production\"},\"y\":{\"field\":\"area\"}},\"id\":\"1952\",\"type\":\"Scatter\"},{\"attributes\":{\"children\":[{\"id\":\"1848\"},{\"id\":\"1852\"}],\"margin\":[0,0,0,0],\"name\":\"Column03827\"},\"id\":\"1847\",\"type\":\"Column\"},{\"attributes\":{\"fill_alpha\":{\"value\":0.2},\"fill_color\":{\"value\":\"#30a2da\"},\"hatch_alpha\":{\"value\":0.2},\"hatch_color\":{\"value\":\"#30a2da\"},\"line_alpha\":{\"value\":0.2},\"line_color\":{\"value\":\"#30a2da\"},\"size\":{\"value\":8.94427190999916},\"x\":{\"field\":\"production\"},\"y\":{\"field\":\"area\"}},\"id\":\"2017\",\"type\":\"Scatter\"},{\"attributes\":{\"coordinates\":null,\"data_source\":{\"id\":\"1922\"},\"glyph\":{\"id\":\"1925\"},\"group\":null,\"hover_glyph\":null,\"muted_glyph\":{\"id\":\"1927\"},\"nonselection_glyph\":{\"id\":\"1926\"},\"selection_glyph\":{\"id\":\"1930\"},\"view\":{\"id\":\"1929\"}},\"id\":\"1928\",\"type\":\"GlyphRenderer\"},{\"attributes\":{\"coordinates\":null,\"data_source\":{\"id\":\"2012\"},\"glyph\":{\"id\":\"2015\"},\"group\":null,\"hover_glyph\":null,\"muted_glyph\":{\"id\":\"2017\"},\"nonselection_glyph\":{\"id\":\"2016\"},\"selection_glyph\":{\"id\":\"2020\"},\"view\":{\"id\":\"2019\"}},\"id\":\"2018\",\"type\":\"GlyphRenderer\"},{\"attributes\":{\"angle\":{\"value\":0.0},\"fill_alpha\":{\"value\":0.7},\"fill_color\":{\"value\":\"#30a2da\"},\"hatch_alpha\":{\"value\":0.7},\"hatch_color\":{\"value\":\"#30a2da\"},\"hatch_scale\":{\"value\":12.0},\"hatch_weight\":{\"value\":1.0},\"line_alpha\":{\"value\":0.7},\"line_cap\":{\"value\":\"butt\"},\"line_color\":{\"value\":\"#30a2da\"},\"line_dash\":{\"value\":[]},\"line_dash_offset\":{\"value\":0},\"line_join\":{\"value\":\"bevel\"},\"line_width\":{\"value\":1},\"marker\":{\"value\":\"circle\"},\"size\":{\"value\":8.94427190999916},\"x\":{\"field\":\"production\"},\"y\":{\"field\":\"area\"}},\"id\":\"2020\",\"type\":\"Scatter\"},{\"attributes\":{\"source\":{\"id\":\"1922\"}},\"id\":\"1929\",\"type\":\"CDSView\"},{\"attributes\":{},\"id\":\"1899\",\"type\":\"BasicTickFormatter\"},{\"attributes\":{\"data\":{\"area\":{\"__ndarray__\":\"AAAAAADAUkA=\",\"dtype\":\"float64\",\"order\":\"little\",\"shape\":[1]},\"production\":{\"__ndarray__\":\"AAAAAADAUkA=\",\"dtype\":\"float64\",\"order\":\"little\",\"shape\":[1]},\"state\":[\"maha\"]},\"selected\":{\"id\":\"1959\"},\"selection_policy\":{\"id\":\"2040\"}},\"id\":\"1958\",\"type\":\"ColumnDataSource\"},{\"attributes\":{},\"id\":\"1900\",\"type\":\"AllLabels\"},{\"attributes\":{\"fill_alpha\":{\"value\":0.2},\"fill_color\":{\"value\":\"#e5ae38\"},\"hatch_alpha\":{\"value\":0.2},\"hatch_color\":{\"value\":\"#e5ae38\"},\"line_alpha\":{\"value\":0.2},\"line_color\":{\"value\":\"#e5ae38\"},\"size\":{\"value\":8.94427190999916},\"x\":{\"field\":\"production\"},\"y\":{\"field\":\"area\"}},\"id\":\"1927\",\"type\":\"Scatter\"},{\"attributes\":{\"fill_alpha\":{\"value\":0.7},\"fill_color\":{\"value\":\"#e5ae38\"},\"hatch_alpha\":{\"value\":0.1},\"hatch_color\":{\"value\":\"#e5ae38\"},\"line_alpha\":{\"value\":0.7},\"line_color\":{\"value\":\"#e5ae38\"},\"size\":{\"value\":8.94427190999916},\"x\":{\"field\":\"production\"},\"y\":{\"field\":\"area\"}},\"id\":\"1926\",\"type\":\"Scatter\"},{\"attributes\":{\"angle\":{\"value\":0.0},\"fill_alpha\":{\"value\":0.7},\"fill_color\":{\"value\":\"#e5ae38\"},\"hatch_alpha\":{\"value\":0.7},\"hatch_color\":{\"value\":\"#e5ae38\"},\"hatch_scale\":{\"value\":12.0},\"hatch_weight\":{\"value\":1.0},\"line_alpha\":{\"value\":0.7},\"line_cap\":{\"value\":\"butt\"},\"line_color\":{\"value\":\"#e5ae38\"},\"line_dash\":{\"value\":[]},\"line_dash_offset\":{\"value\":0},\"line_join\":{\"value\":\"bevel\"},\"line_width\":{\"value\":1},\"marker\":{\"value\":\"circle\"},\"size\":{\"value\":8.94427190999916},\"x\":{\"field\":\"production\"},\"y\":{\"field\":\"area\"}},\"id\":\"1930\",\"type\":\"Scatter\"},{\"attributes\":{\"children\":[{\"id\":\"1847\"}],\"margin\":[0,0,0,0],\"name\":\"Row03828\"},\"id\":\"1846\",\"type\":\"Row\"},{\"attributes\":{},\"id\":\"1902\",\"type\":\"BasicTickFormatter\"},{\"attributes\":{},\"id\":\"1903\",\"type\":\"AllLabels\"},{\"attributes\":{},\"id\":\"2040\",\"type\":\"UnionRenderers\"},{\"attributes\":{\"source\":{\"id\":\"1904\"}},\"id\":\"1911\",\"type\":\"CDSView\"},{\"attributes\":{},\"id\":\"1932\",\"type\":\"Selection\"},{\"attributes\":{\"angle\":{\"value\":0.0},\"fill_alpha\":{\"value\":0.7},\"fill_color\":{\"value\":\"#30a2da\"},\"hatch_alpha\":{\"value\":0.7},\"hatch_color\":{\"value\":\"#30a2da\"},\"hatch_scale\":{\"value\":12.0},\"hatch_weight\":{\"value\":1.0},\"line_alpha\":{\"value\":0.7},\"line_cap\":{\"value\":\"butt\"},\"line_color\":{\"value\":\"#30a2da\"},\"line_dash\":{\"value\":[]},\"line_dash_offset\":{\"value\":0},\"line_join\":{\"value\":\"bevel\"},\"line_width\":{\"value\":1},\"marker\":{\"value\":\"circle\"},\"size\":{\"value\":8.94427190999916},\"x\":{\"field\":\"production\"},\"y\":{\"field\":\"area\"}},\"id\":\"1912\",\"type\":\"Scatter\"},{\"attributes\":{\"fill_alpha\":{\"value\":0.7},\"fill_color\":{\"value\":\"#17becf\"},\"hatch_alpha\":{\"value\":0.1},\"hatch_color\":{\"value\":\"#17becf\"},\"line_alpha\":{\"value\":0.7},\"line_color\":{\"value\":\"#17becf\"},\"size\":{\"value\":8.94427190999916},\"x\":{\"field\":\"production\"},\"y\":{\"field\":\"area\"}},\"id\":\"1953\",\"type\":\"Scatter\"},{\"attributes\":{\"data\":{\"area\":{\"__ndarray__\":\"AAAAAADAZEA=\",\"dtype\":\"float64\",\"order\":\"little\",\"shape\":[1]},\"production\":{\"__ndarray__\":\"AAAAAADAZEA=\",\"dtype\":\"float64\",\"order\":\"little\",\"shape\":[1]},\"state\":[\"bihar\"]},\"selected\":{\"id\":\"1923\"},\"selection_policy\":{\"id\":\"2032\"}},\"id\":\"1922\",\"type\":\"ColumnDataSource\"},{\"attributes\":{},\"id\":\"1950\",\"type\":\"Selection\"},{\"attributes\":{\"data\":{\"area\":{\"__ndarray__\":\"AAAAAAAARUA=\",\"dtype\":\"float64\",\"order\":\"little\",\"shape\":[1]},\"production\":{\"__ndarray__\":\"AAAAAAAARUA=\",\"dtype\":\"float64\",\"order\":\"little\",\"shape\":[1]},\"state\":[\"karnataka\"]},\"selected\":{\"id\":\"1950\"},\"selection_policy\":{\"id\":\"2038\"}},\"id\":\"1949\",\"type\":\"ColumnDataSource\"},{\"attributes\":{\"fill_alpha\":{\"value\":0.2},\"fill_color\":{\"value\":\"#30a2da\"},\"hatch_alpha\":{\"value\":0.2},\"hatch_color\":{\"value\":\"#30a2da\"},\"line_alpha\":{\"value\":0.2},\"line_color\":{\"value\":\"#30a2da\"},\"size\":{\"value\":8.94427190999916},\"x\":{\"field\":\"production\"},\"y\":{\"field\":\"area\"}},\"id\":\"1909\",\"type\":\"Scatter\"},{\"attributes\":{\"source\":{\"id\":\"1949\"}},\"id\":\"1956\",\"type\":\"CDSView\"},{\"attributes\":{\"coordinates\":null,\"data_source\":{\"id\":\"1949\"},\"glyph\":{\"id\":\"1952\"},\"group\":null,\"hover_glyph\":null,\"muted_glyph\":{\"id\":\"1954\"},\"nonselection_glyph\":{\"id\":\"1953\"},\"selection_glyph\":{\"id\":\"1957\"},\"view\":{\"id\":\"1956\"}},\"id\":\"1955\",\"type\":\"GlyphRenderer\"},{\"attributes\":{\"coordinates\":null,\"data_source\":{\"id\":\"1904\"},\"glyph\":{\"id\":\"1907\"},\"group\":null,\"hover_glyph\":null,\"muted_glyph\":{\"id\":\"1909\"},\"nonselection_glyph\":{\"id\":\"1908\"},\"selection_glyph\":{\"id\":\"1912\"},\"view\":{\"id\":\"1911\"}},\"id\":\"1910\",\"type\":\"GlyphRenderer\"},{\"attributes\":{\"fill_alpha\":{\"value\":0.2},\"fill_color\":{\"value\":\"#17becf\"},\"hatch_alpha\":{\"value\":0.2},\"hatch_color\":{\"value\":\"#17becf\"},\"line_alpha\":{\"value\":0.2},\"line_color\":{\"value\":\"#17becf\"},\"size\":{\"value\":8.94427190999916},\"x\":{\"field\":\"production\"},\"y\":{\"field\":\"area\"}},\"id\":\"1954\",\"type\":\"Scatter\"},{\"attributes\":{\"angle\":{\"value\":0.0},\"fill_alpha\":{\"value\":0.7},\"fill_color\":{\"value\":\"#17becf\"},\"hatch_alpha\":{\"value\":0.7},\"hatch_color\":{\"value\":\"#17becf\"},\"hatch_scale\":{\"value\":12.0},\"hatch_weight\":{\"value\":1.0},\"line_alpha\":{\"value\":0.7},\"line_cap\":{\"value\":\"butt\"},\"line_color\":{\"value\":\"#17becf\"},\"line_dash\":{\"value\":[]},\"line_dash_offset\":{\"value\":0},\"line_join\":{\"value\":\"bevel\"},\"line_width\":{\"value\":1},\"marker\":{\"value\":\"circle\"},\"size\":{\"value\":8.94427190999916},\"x\":{\"field\":\"production\"},\"y\":{\"field\":\"area\"}},\"id\":\"1957\",\"type\":\"Scatter\"},{\"attributes\":{},\"id\":\"2042\",\"type\":\"UnionRenderers\"},{\"attributes\":{\"coordinates\":null,\"data_source\":{\"id\":\"1931\"},\"glyph\":{\"id\":\"1934\"},\"group\":null,\"hover_glyph\":null,\"muted_glyph\":{\"id\":\"1936\"},\"nonselection_glyph\":{\"id\":\"1935\"},\"selection_glyph\":{\"id\":\"1939\"},\"view\":{\"id\":\"1938\"}},\"id\":\"1937\",\"type\":\"GlyphRenderer\"},{\"attributes\":{},\"id\":\"1914\",\"type\":\"Selection\"},{\"attributes\":{},\"id\":\"1959\",\"type\":\"Selection\"},{\"attributes\":{\"coordinates\":null,\"data_source\":{\"id\":\"1958\"},\"glyph\":{\"id\":\"1961\"},\"group\":null,\"hover_glyph\":null,\"muted_glyph\":{\"id\":\"1963\"},\"nonselection_glyph\":{\"id\":\"1962\"},\"selection_glyph\":{\"id\":\"1966\"},\"view\":{\"id\":\"1965\"}},\"id\":\"1964\",\"type\":\"GlyphRenderer\"},{\"attributes\":{\"source\":{\"id\":\"1931\"}},\"id\":\"1938\",\"type\":\"CDSView\"},{\"attributes\":{\"data\":{\"area\":{\"__ndarray__\":\"AAAAAAAAJEA=\",\"dtype\":\"float64\",\"order\":\"little\",\"shape\":[1]},\"production\":{\"__ndarray__\":\"AAAAAAAAJEA=\",\"dtype\":\"float64\",\"order\":\"little\",\"shape\":[1]},\"state\":[\"haryana\"]},\"selected\":{\"id\":\"1941\"},\"selection_policy\":{\"id\":\"2036\"}},\"id\":\"1940\",\"type\":\"ColumnDataSource\"},{\"attributes\":{\"fill_alpha\":{\"value\":0.7},\"fill_color\":{\"value\":\"#6d904f\"},\"hatch_alpha\":{\"value\":0.1},\"hatch_color\":{\"value\":\"#6d904f\"},\"line_alpha\":{\"value\":0.7},\"line_color\":{\"value\":\"#6d904f\"},\"size\":{\"value\":8.94427190999916},\"x\":{\"field\":\"production\"},\"y\":{\"field\":\"area\"}},\"id\":\"1935\",\"type\":\"Scatter\"},{\"attributes\":{\"fill_alpha\":{\"value\":0.7},\"fill_color\":{\"value\":\"#6d904f\"},\"hatch_alpha\":{\"value\":0.7},\"hatch_color\":{\"value\":\"#6d904f\"},\"line_alpha\":{\"value\":0.7},\"line_color\":{\"value\":\"#6d904f\"},\"size\":{\"value\":8.94427190999916},\"x\":{\"field\":\"production\"},\"y\":{\"field\":\"area\"}},\"id\":\"1934\",\"type\":\"Scatter\"},{\"attributes\":{\"data\":{\"area\":{\"__ndarray__\":\"AAAAAAAAOEA=\",\"dtype\":\"float64\",\"order\":\"little\",\"shape\":[1]},\"production\":{\"__ndarray__\":\"AAAAAAAAOEA=\",\"dtype\":\"float64\",\"order\":\"little\",\"shape\":[1]},\"state\":[\"orrisa\"]},\"selected\":{\"id\":\"1968\"},\"selection_policy\":{\"id\":\"2042\"}},\"id\":\"1967\",\"type\":\"ColumnDataSource\"},{\"attributes\":{\"coordinates\":null,\"data_source\":{\"id\":\"1913\"},\"glyph\":{\"id\":\"1916\"},\"group\":null,\"hover_glyph\":null,\"muted_glyph\":{\"id\":\"1918\"},\"nonselection_glyph\":{\"id\":\"1917\"},\"selection_glyph\":{\"id\":\"1921\"},\"view\":{\"id\":\"1920\"}},\"id\":\"1919\",\"type\":\"GlyphRenderer\"},{\"attributes\":{\"fill_alpha\":{\"value\":0.2},\"fill_color\":{\"value\":\"#6d904f\"},\"hatch_alpha\":{\"value\":0.2},\"hatch_color\":{\"value\":\"#6d904f\"},\"line_alpha\":{\"value\":0.2},\"line_color\":{\"value\":\"#6d904f\"},\"size\":{\"value\":8.94427190999916},\"x\":{\"field\":\"production\"},\"y\":{\"field\":\"area\"}},\"id\":\"1936\",\"type\":\"Scatter\"},{\"attributes\":{\"angle\":{\"value\":0.0},\"fill_alpha\":{\"value\":0.7},\"fill_color\":{\"value\":\"#6d904f\"},\"hatch_alpha\":{\"value\":0.7},\"hatch_color\":{\"value\":\"#6d904f\"},\"hatch_scale\":{\"value\":12.0},\"hatch_weight\":{\"value\":1.0},\"line_alpha\":{\"value\":0.7},\"line_cap\":{\"value\":\"butt\"},\"line_color\":{\"value\":\"#6d904f\"},\"line_dash\":{\"value\":[]},\"line_dash_offset\":{\"value\":0},\"line_join\":{\"value\":\"bevel\"},\"line_width\":{\"value\":1},\"marker\":{\"value\":\"circle\"},\"size\":{\"value\":8.94427190999916},\"x\":{\"field\":\"production\"},\"y\":{\"field\":\"area\"}},\"id\":\"1939\",\"type\":\"Scatter\"},{\"attributes\":{\"data\":{\"area\":{\"__ndarray__\":\"AAAAAAAAJEA=\",\"dtype\":\"float64\",\"order\":\"little\",\"shape\":[1]},\"production\":{\"__ndarray__\":\"AAAAAAAAJEA=\",\"dtype\":\"float64\",\"order\":\"little\",\"shape\":[1]},\"state\":[\"gujrat\"]},\"selected\":{\"id\":\"1932\"},\"selection_policy\":{\"id\":\"2034\"}},\"id\":\"1931\",\"type\":\"ColumnDataSource\"},{\"attributes\":{\"fill_alpha\":{\"value\":0.7},\"fill_color\":{\"value\":\"#fc4f30\"},\"hatch_alpha\":{\"value\":0.7},\"hatch_color\":{\"value\":\"#fc4f30\"},\"line_alpha\":{\"value\":0.7},\"line_color\":{\"value\":\"#fc4f30\"},\"size\":{\"value\":8.94427190999916},\"x\":{\"field\":\"production\"},\"y\":{\"field\":\"area\"}},\"id\":\"1916\",\"type\":\"Scatter\"},{\"attributes\":{},\"id\":\"2044\",\"type\":\"UnionRenderers\"},{\"attributes\":{\"fill_alpha\":{\"value\":0.7},\"fill_color\":{\"value\":\"#8b8b8b\"},\"hatch_alpha\":{\"value\":0.7},\"hatch_color\":{\"value\":\"#8b8b8b\"},\"line_alpha\":{\"value\":0.7},\"line_color\":{\"value\":\"#8b8b8b\"},\"size\":{\"value\":8.94427190999916},\"x\":{\"field\":\"production\"},\"y\":{\"field\":\"area\"}},\"id\":\"1943\",\"type\":\"Scatter\"},{\"attributes\":{\"fill_alpha\":{\"value\":0.7},\"fill_color\":{\"value\":\"#9467bd\"},\"hatch_alpha\":{\"value\":0.7},\"hatch_color\":{\"value\":\"#9467bd\"},\"line_alpha\":{\"value\":0.7},\"line_color\":{\"value\":\"#9467bd\"},\"size\":{\"value\":8.94427190999916},\"x\":{\"field\":\"production\"},\"y\":{\"field\":\"area\"}},\"id\":\"1961\",\"type\":\"Scatter\"},{\"attributes\":{\"source\":{\"id\":\"1913\"}},\"id\":\"1920\",\"type\":\"CDSView\"},{\"attributes\":{\"fill_alpha\":{\"value\":0.7},\"fill_color\":{\"value\":\"#fc4f30\"},\"hatch_alpha\":{\"value\":0.1},\"hatch_color\":{\"value\":\"#fc4f30\"},\"line_alpha\":{\"value\":0.7},\"line_color\":{\"value\":\"#fc4f30\"},\"size\":{\"value\":8.94427190999916},\"x\":{\"field\":\"production\"},\"y\":{\"field\":\"area\"}},\"id\":\"1917\",\"type\":\"Scatter\"},{\"attributes\":{\"source\":{\"id\":\"1958\"}},\"id\":\"1965\",\"type\":\"CDSView\"},{\"attributes\":{\"fill_alpha\":{\"value\":0.7},\"fill_color\":{\"value\":\"#9467bd\"},\"hatch_alpha\":{\"value\":0.1},\"hatch_color\":{\"value\":\"#9467bd\"},\"line_alpha\":{\"value\":0.7},\"line_color\":{\"value\":\"#9467bd\"},\"size\":{\"value\":8.94427190999916},\"x\":{\"field\":\"production\"},\"y\":{\"field\":\"area\"}},\"id\":\"1962\",\"type\":\"Scatter\"},{\"attributes\":{\"fill_alpha\":{\"value\":0.2},\"fill_color\":{\"value\":\"#fc4f30\"},\"hatch_alpha\":{\"value\":0.2},\"hatch_color\":{\"value\":\"#fc4f30\"},\"line_alpha\":{\"value\":0.2},\"line_color\":{\"value\":\"#fc4f30\"},\"size\":{\"value\":8.94427190999916},\"x\":{\"field\":\"production\"},\"y\":{\"field\":\"area\"}},\"id\":\"1918\",\"type\":\"Scatter\"},{\"attributes\":{\"coordinates\":null,\"data_source\":{\"id\":\"1940\"},\"glyph\":{\"id\":\"1943\"},\"group\":null,\"hover_glyph\":null,\"muted_glyph\":{\"id\":\"1945\"},\"nonselection_glyph\":{\"id\":\"1944\"},\"selection_glyph\":{\"id\":\"1948\"},\"view\":{\"id\":\"1947\"}},\"id\":\"1946\",\"type\":\"GlyphRenderer\"},{\"attributes\":{\"data\":{\"area\":{\"__ndarray__\":\"AAAAAADgYkA=\",\"dtype\":\"float64\",\"order\":\"little\",\"shape\":[1]},\"production\":{\"__ndarray__\":\"AAAAAADgYkA=\",\"dtype\":\"float64\",\"order\":\"little\",\"shape\":[1]},\"state\":[\"punjab\"]},\"selected\":{\"id\":\"1977\"},\"selection_policy\":{\"id\":\"2044\"}},\"id\":\"1976\",\"type\":\"ColumnDataSource\"},{\"attributes\":{\"angle\":{\"value\":0.0},\"fill_alpha\":{\"value\":0.7},\"fill_color\":{\"value\":\"#fc4f30\"},\"hatch_alpha\":{\"value\":0.7},\"hatch_color\":{\"value\":\"#fc4f30\"},\"hatch_scale\":{\"value\":12.0},\"hatch_weight\":{\"value\":1.0},\"line_alpha\":{\"value\":0.7},\"line_cap\":{\"value\":\"butt\"},\"line_color\":{\"value\":\"#fc4f30\"},\"line_dash\":{\"value\":[]},\"line_dash_offset\":{\"value\":0},\"line_join\":{\"value\":\"bevel\"},\"line_width\":{\"value\":1},\"marker\":{\"value\":\"circle\"},\"size\":{\"value\":8.94427190999916},\"x\":{\"field\":\"production\"},\"y\":{\"field\":\"area\"}},\"id\":\"1921\",\"type\":\"Scatter\"},{\"attributes\":{\"fill_alpha\":{\"value\":0.2},\"fill_color\":{\"value\":\"#9467bd\"},\"hatch_alpha\":{\"value\":0.2},\"hatch_color\":{\"value\":\"#9467bd\"},\"line_alpha\":{\"value\":0.2},\"line_color\":{\"value\":\"#9467bd\"},\"size\":{\"value\":8.94427190999916},\"x\":{\"field\":\"production\"},\"y\":{\"field\":\"area\"}},\"id\":\"1963\",\"type\":\"Scatter\"},{\"attributes\":{\"angle\":{\"value\":0.0},\"fill_alpha\":{\"value\":0.7},\"fill_color\":{\"value\":\"#9467bd\"},\"hatch_alpha\":{\"value\":0.7},\"hatch_color\":{\"value\":\"#9467bd\"},\"hatch_scale\":{\"value\":12.0},\"hatch_weight\":{\"value\":1.0},\"line_alpha\":{\"value\":0.7},\"line_cap\":{\"value\":\"butt\"},\"line_color\":{\"value\":\"#9467bd\"},\"line_dash\":{\"value\":[]},\"line_dash_offset\":{\"value\":0},\"line_join\":{\"value\":\"bevel\"},\"line_width\":{\"value\":1},\"marker\":{\"value\":\"circle\"},\"size\":{\"value\":8.94427190999916},\"x\":{\"field\":\"production\"},\"y\":{\"field\":\"area\"}},\"id\":\"1966\",\"type\":\"Scatter\"},{\"attributes\":{},\"id\":\"2046\",\"type\":\"UnionRenderers\"},{\"attributes\":{\"fill_alpha\":{\"value\":0.7},\"fill_color\":{\"value\":\"#e5ae38\"},\"hatch_alpha\":{\"value\":0.7},\"hatch_color\":{\"value\":\"#e5ae38\"},\"line_alpha\":{\"value\":0.7},\"line_color\":{\"value\":\"#e5ae38\"},\"size\":{\"value\":8.94427190999916},\"x\":{\"field\":\"production\"},\"y\":{\"field\":\"area\"}},\"id\":\"1925\",\"type\":\"Scatter\"},{\"attributes\":{\"source\":{\"id\":\"1940\"}},\"id\":\"1947\",\"type\":\"CDSView\"},{\"attributes\":{},\"id\":\"1968\",\"type\":\"Selection\"},{\"attributes\":{\"end\":1114.4,\"reset_end\":1114.4,\"reset_start\":-90.4,\"start\":-90.4,\"tags\":[[[\"production\",\"production\",null]]]},\"id\":\"1853\",\"type\":\"Range1d\"},{\"attributes\":{\"fill_alpha\":{\"value\":0.7},\"fill_color\":{\"value\":\"#8b8b8b\"},\"hatch_alpha\":{\"value\":0.1},\"hatch_color\":{\"value\":\"#8b8b8b\"},\"line_alpha\":{\"value\":0.7},\"line_color\":{\"value\":\"#8b8b8b\"},\"size\":{\"value\":8.94427190999916},\"x\":{\"field\":\"production\"},\"y\":{\"field\":\"area\"}},\"id\":\"1944\",\"type\":\"Scatter\"},{\"attributes\":{\"data\":{\"area\":{\"__ndarray__\":\"AAAAAAAAUkA=\",\"dtype\":\"float64\",\"order\":\"little\",\"shape\":[1]},\"production\":{\"__ndarray__\":\"AAAAAAAAUkA=\",\"dtype\":\"float64\",\"order\":\"little\",\"shape\":[1]},\"state\":[\"andhraPradesh\"]},\"selected\":{\"id\":\"1905\"},\"selection_policy\":{\"id\":\"2028\"}},\"id\":\"1904\",\"type\":\"ColumnDataSource\"},{\"attributes\":{},\"id\":\"1923\",\"type\":\"Selection\"},{\"attributes\":{},\"id\":\"1941\",\"type\":\"Selection\"},{\"attributes\":{\"fill_alpha\":{\"value\":0.2},\"fill_color\":{\"value\":\"#8b8b8b\"},\"hatch_alpha\":{\"value\":0.2},\"hatch_color\":{\"value\":\"#8b8b8b\"},\"line_alpha\":{\"value\":0.2},\"line_color\":{\"value\":\"#8b8b8b\"},\"size\":{\"value\":8.94427190999916},\"x\":{\"field\":\"production\"},\"y\":{\"field\":\"area\"}},\"id\":\"1945\",\"type\":\"Scatter\"},{\"attributes\":{\"fill_alpha\":{\"value\":0.7},\"fill_color\":{\"value\":\"#d62728\"},\"hatch_alpha\":{\"value\":0.7},\"hatch_color\":{\"value\":\"#d62728\"},\"line_alpha\":{\"value\":0.7},\"line_color\":{\"value\":\"#d62728\"},\"size\":{\"value\":8.94427190999916},\"x\":{\"field\":\"production\"},\"y\":{\"field\":\"area\"}},\"id\":\"1970\",\"type\":\"Scatter\"},{\"attributes\":{\"coordinates\":null,\"data_source\":{\"id\":\"1967\"},\"glyph\":{\"id\":\"1970\"},\"group\":null,\"hover_glyph\":null,\"muted_glyph\":{\"id\":\"1972\"},\"nonselection_glyph\":{\"id\":\"1971\"},\"selection_glyph\":{\"id\":\"1975\"},\"view\":{\"id\":\"1974\"}},\"id\":\"1973\",\"type\":\"GlyphRenderer\"},{\"attributes\":{\"end\":1114.4,\"reset_end\":1114.4,\"reset_start\":-90.4,\"start\":-90.4,\"tags\":[[[\"area\",\"area\",null]]]},\"id\":\"1854\",\"type\":\"Range1d\"}],\"root_ids\":[\"1846\",\"2157\"]},\"title\":\"Bokeh Application\",\"version\":\"2.4.3\"}};\n",
       "    var render_items = [{\"docid\":\"7fccd698-7e8e-48ef-83f9-0f8f092793cf\",\"root_ids\":[\"1846\"],\"roots\":{\"1846\":\"bace2c91-1902-444f-9242-ca947a379839\"}}];\n",
       "    root.Bokeh.embed.embed_items_notebook(docs_json, render_items);\n",
       "  }\n",
       "  if (root.Bokeh !== undefined && root.Bokeh.Panel !== undefined && ( root['Tabulator'] !== undefined)) {\n",
       "    embed_document(root);\n",
       "  } else {\n",
       "    var attempts = 0;\n",
       "    var timer = setInterval(function(root) {\n",
       "      if (root.Bokeh !== undefined && root.Bokeh.Panel !== undefined && (root['Tabulator'] !== undefined)) {\n",
       "        clearInterval(timer);\n",
       "        embed_document(root);\n",
       "      } else if (document.readyState == \"complete\") {\n",
       "        attempts++;\n",
       "        if (attempts > 200) {\n",
       "          clearInterval(timer);\n",
       "          console.log(\"Bokeh: ERROR: Unable to run BokehJS code because BokehJS library is missing\");\n",
       "        }\n",
       "      }\n",
       "    }, 25, root)\n",
       "  }\n",
       "})(window);</script>"
      ],
      "text/plain": [
       "<hvplot.interactive.Interactive at 0x1354b6340>"
      ]
     },
     "execution_count": 19,
     "metadata": {
      "application/vnd.holoviews_exec.v0+json": {
       "id": "1846"
      }
     },
     "output_type": "execute_result"
    }
   ],
   "source": [
    "area_vs_production_scatterplot"
   ]
  },
  {
   "cell_type": "markdown",
   "id": "5ffe9186",
   "metadata": {},
   "source": [
    "Plot 3 - Production and productivity over the years by states"
   ]
  },
  {
   "cell_type": "markdown",
   "id": "2a34288b",
   "metadata": {},
   "source": [
    "X axis - Year\n",
    "Y axis - The attribute which is being plot"
   ]
  },
  {
   "cell_type": "code",
   "execution_count": 20,
   "id": "a0021d12-6c6a-4e6e-85da-e4c569b28bd5",
   "metadata": {},
   "outputs": [],
   "source": [
    "yaxis_production = pn.widgets.RadioButtonGroup(name = 'Y axis',\n",
    "                                         options = ['production','productivity'],\n",
    "                                         button_type = 'success')"
   ]
  },
  {
   "cell_type": "markdown",
   "id": "5ecbf6a8",
   "metadata": {},
   "source": [
    "setting a stream or pipeline of data which only filters the sugar, sugarFactories and sugarRecovery attributes by year and state."
   ]
  },
  {
   "cell_type": "code",
   "execution_count": 21,
   "id": "19276ba7-2af3-4e80-b289-6a2efbfee86d",
   "metadata": {},
   "outputs": [],
   "source": [
    "productionPipeline = ( \n",
    "    idf[\n",
    "        (idf.year <= year_slider) & (idf.state.isin(states))\n",
    "    ]\n",
    "    .groupby(['state','year'])[yaxis_production].mean()\n",
    "    .to_frame()\n",
    "    .reset_index()\n",
    "    .sort_values(by = \"year\")\n",
    "    .reset_index(drop=True)\n",
    "\n",
    "\n",
    ")\n"
   ]
  },
  {
   "cell_type": "code",
   "execution_count": 22,
   "id": "c1178e60-e4ae-46c0-bc85-22f786b131d8",
   "metadata": {},
   "outputs": [
    {
     "data": {},
     "metadata": {},
     "output_type": "display_data"
    },
    {
     "data": {
      "application/vnd.holoviews_exec.v0+json": "",
      "text/html": [
       "<div id='2328'>\n",
       "  <div class=\"bk-root\" id=\"15fbf011-d982-4e8e-b2e1-0a5e358ed1a0\" data-root-id=\"2328\"></div>\n",
       "</div>\n",
       "<script type=\"application/javascript\">(function(root) {\n",
       "  function embed_document(root) {\n",
       "    var docs_json = {\"c7f52630-3322-4d3f-b2c0-0706100ce663\":{\"defs\":[{\"extends\":null,\"module\":null,\"name\":\"ReactiveHTML1\",\"overrides\":[],\"properties\":[]},{\"extends\":null,\"module\":null,\"name\":\"FlexBox1\",\"overrides\":[],\"properties\":[{\"default\":\"flex-start\",\"kind\":null,\"name\":\"align_content\"},{\"default\":\"flex-start\",\"kind\":null,\"name\":\"align_items\"},{\"default\":\"row\",\"kind\":null,\"name\":\"flex_direction\"},{\"default\":\"wrap\",\"kind\":null,\"name\":\"flex_wrap\"},{\"default\":\"flex-start\",\"kind\":null,\"name\":\"justify_content\"}]},{\"extends\":null,\"module\":null,\"name\":\"GridStack1\",\"overrides\":[],\"properties\":[{\"default\":\"warn\",\"kind\":null,\"name\":\"mode\"},{\"default\":null,\"kind\":null,\"name\":\"ncols\"},{\"default\":null,\"kind\":null,\"name\":\"nrows\"},{\"default\":true,\"kind\":null,\"name\":\"allow_resize\"},{\"default\":true,\"kind\":null,\"name\":\"allow_drag\"},{\"default\":[],\"kind\":null,\"name\":\"state\"}]},{\"extends\":null,\"module\":null,\"name\":\"click1\",\"overrides\":[],\"properties\":[{\"default\":\"\",\"kind\":null,\"name\":\"terminal_output\"},{\"default\":\"\",\"kind\":null,\"name\":\"debug_name\"},{\"default\":0,\"kind\":null,\"name\":\"clears\"}]},{\"extends\":null,\"module\":null,\"name\":\"NotificationAreaBase1\",\"overrides\":[],\"properties\":[{\"default\":\"bottom-right\",\"kind\":null,\"name\":\"position\"},{\"default\":0,\"kind\":null,\"name\":\"_clear\"}]},{\"extends\":null,\"module\":null,\"name\":\"NotificationArea1\",\"overrides\":[],\"properties\":[{\"default\":[],\"kind\":null,\"name\":\"notifications\"},{\"default\":\"bottom-right\",\"kind\":null,\"name\":\"position\"},{\"default\":0,\"kind\":null,\"name\":\"_clear\"},{\"default\":[{\"background\":\"#ffc107\",\"icon\":{\"className\":\"fas fa-exclamation-triangle\",\"color\":\"white\",\"tagName\":\"i\"},\"type\":\"warning\"},{\"background\":\"#007bff\",\"icon\":{\"className\":\"fas fa-info-circle\",\"color\":\"white\",\"tagName\":\"i\"},\"type\":\"info\"}],\"kind\":null,\"name\":\"types\"}]},{\"extends\":null,\"module\":null,\"name\":\"Notification\",\"overrides\":[],\"properties\":[{\"default\":null,\"kind\":null,\"name\":\"background\"},{\"default\":3000,\"kind\":null,\"name\":\"duration\"},{\"default\":null,\"kind\":null,\"name\":\"icon\"},{\"default\":\"\",\"kind\":null,\"name\":\"message\"},{\"default\":null,\"kind\":null,\"name\":\"notification_type\"},{\"default\":false,\"kind\":null,\"name\":\"_destroyed\"}]},{\"extends\":null,\"module\":null,\"name\":\"TemplateActions1\",\"overrides\":[],\"properties\":[{\"default\":0,\"kind\":null,\"name\":\"open_modal\"},{\"default\":0,\"kind\":null,\"name\":\"close_modal\"}]},{\"extends\":null,\"module\":null,\"name\":\"MaterialTemplateActions1\",\"overrides\":[],\"properties\":[{\"default\":0,\"kind\":null,\"name\":\"open_modal\"},{\"default\":0,\"kind\":null,\"name\":\"close_modal\"}]}],\"roots\":{\"references\":[{\"attributes\":{\"client_comm_id\":\"dfa6141a528d4945a67ad5964cb0cba5\",\"comm_id\":\"694e0f06025b4b0190d1c02033bee35e\",\"plot_id\":\"2328\"},\"id\":\"2337\",\"type\":\"panel.models.comm_manager.CommManager\"},{\"attributes\":{\"children\":[{\"id\":\"2332\"},{\"id\":\"2333\"}],\"margin\":[0,0,0,0],\"name\":\"Column04607\"},\"id\":\"2331\",\"type\":\"Column\"},{\"attributes\":{\"children\":[{\"id\":\"2336\"}],\"margin\":[0,0,0,0],\"name\":\"Row04612\"},\"id\":\"2335\",\"type\":\"Row\"},{\"attributes\":{\"children\":[{\"id\":\"2331\"},{\"id\":\"2334\"}],\"margin\":[0,0,0,0],\"name\":\"Row04638\"},\"id\":\"2330\",\"type\":\"Row\"},{\"attributes\":{\"end\":2021,\"margin\":[5,10,5,10],\"start\":1950,\"step\":2,\"title\":\"Year slider\",\"value\":1950},\"id\":\"2332\",\"type\":\"Slider\"},{\"attributes\":{\"children\":[{\"id\":\"2329\"}],\"margin\":[0,0,0,0],\"name\":\"Row04640\"},\"id\":\"2328\",\"type\":\"Row\"},{\"attributes\":{\"active\":0,\"button_type\":\"success\",\"labels\":[\"production\",\"productivity\"],\"margin\":[5,10,5,10]},\"id\":\"2333\",\"type\":\"RadioButtonGroup\"},{\"attributes\":{\"children\":[{\"id\":\"2330\"},{\"id\":\"2335\"}],\"margin\":[0,0,0,0],\"name\":\"Column04639\"},\"id\":\"2329\",\"type\":\"Column\"},{\"attributes\":{\"margin\":[5,5,5,5],\"name\":\"HSpacer04637\",\"sizing_mode\":\"stretch_width\"},\"id\":\"2334\",\"type\":\"Spacer\"},{\"attributes\":{\"margin\":[5,5,5,5],\"name\":\"DataFrame04635\",\"text\":\"&lt;table border=&quot;0&quot; class=&quot;dataframe panel-df&quot;&gt;\\n  &lt;thead&gt;\\n    &lt;tr style=&quot;text-align: right;&quot;&gt;\\n      &lt;th&gt;&lt;/th&gt;\\n      &lt;th&gt;state&lt;/th&gt;\\n      &lt;th&gt;year&lt;/th&gt;\\n      &lt;th&gt;production&lt;/th&gt;\\n    &lt;/tr&gt;\\n  &lt;/thead&gt;\\n  &lt;tbody&gt;\\n    &lt;tr&gt;\\n      &lt;th&gt;0&lt;/th&gt;\\n      &lt;td&gt;andhraPradesh&lt;/td&gt;\\n      &lt;td&gt;1950.0&lt;/td&gt;\\n      &lt;td&gt;72.0&lt;/td&gt;\\n    &lt;/tr&gt;\\n    &lt;tr&gt;\\n      &lt;th&gt;1&lt;/th&gt;\\n      &lt;td&gt;assam&lt;/td&gt;\\n      &lt;td&gt;1950.0&lt;/td&gt;\\n      &lt;td&gt;23.0&lt;/td&gt;\\n    &lt;/tr&gt;\\n    &lt;tr&gt;\\n      &lt;th&gt;2&lt;/th&gt;\\n      &lt;td&gt;bihar&lt;/td&gt;\\n      &lt;td&gt;1950.0&lt;/td&gt;\\n      &lt;td&gt;166.0&lt;/td&gt;\\n    &lt;/tr&gt;\\n    &lt;tr&gt;\\n      &lt;th&gt;3&lt;/th&gt;\\n      &lt;td&gt;gujrat&lt;/td&gt;\\n      &lt;td&gt;1950.0&lt;/td&gt;\\n      &lt;td&gt;10.0&lt;/td&gt;\\n    &lt;/tr&gt;\\n    &lt;tr&gt;\\n      &lt;th&gt;4&lt;/th&gt;\\n      &lt;td&gt;haryana&lt;/td&gt;\\n      &lt;td&gt;1950.0&lt;/td&gt;\\n      &lt;td&gt;10.0&lt;/td&gt;\\n    &lt;/tr&gt;\\n    &lt;tr&gt;\\n      &lt;th&gt;5&lt;/th&gt;\\n      &lt;td&gt;karnataka&lt;/td&gt;\\n      &lt;td&gt;1950.0&lt;/td&gt;\\n      &lt;td&gt;42.0&lt;/td&gt;\\n    &lt;/tr&gt;\\n    &lt;tr&gt;\\n      &lt;th&gt;6&lt;/th&gt;\\n      &lt;td&gt;maha&lt;/td&gt;\\n      &lt;td&gt;1950.0&lt;/td&gt;\\n      &lt;td&gt;75.0&lt;/td&gt;\\n    &lt;/tr&gt;\\n    &lt;tr&gt;\\n      &lt;th&gt;7&lt;/th&gt;\\n      &lt;td&gt;orrisa&lt;/td&gt;\\n      &lt;td&gt;1950.0&lt;/td&gt;\\n      &lt;td&gt;24.0&lt;/td&gt;\\n    &lt;/tr&gt;\\n    &lt;tr&gt;\\n      &lt;th&gt;8&lt;/th&gt;\\n      &lt;td&gt;punjab&lt;/td&gt;\\n      &lt;td&gt;1950.0&lt;/td&gt;\\n      &lt;td&gt;151.0&lt;/td&gt;\\n    &lt;/tr&gt;\\n    &lt;tr&gt;\\n      &lt;th&gt;9&lt;/th&gt;\\n      &lt;td&gt;rajasthan&lt;/td&gt;\\n      &lt;td&gt;1950.0&lt;/td&gt;\\n      &lt;td&gt;17.0&lt;/td&gt;\\n    &lt;/tr&gt;\\n    &lt;tr&gt;\\n      &lt;th&gt;10&lt;/th&gt;\\n      &lt;td&gt;tamilNadu&lt;/td&gt;\\n      &lt;td&gt;1950.0&lt;/td&gt;\\n      &lt;td&gt;50.0&lt;/td&gt;\\n    &lt;/tr&gt;\\n    &lt;tr&gt;\\n      &lt;th&gt;11&lt;/th&gt;\\n      &lt;td&gt;uttarPradesh&lt;/td&gt;\\n      &lt;td&gt;1950.0&lt;/td&gt;\\n      &lt;td&gt;1014.0&lt;/td&gt;\\n    &lt;/tr&gt;\\n    &lt;tr&gt;\\n      &lt;th&gt;12&lt;/th&gt;\\n      &lt;td&gt;westBengal&lt;/td&gt;\\n      &lt;td&gt;1950.0&lt;/td&gt;\\n      &lt;td&gt;18.0&lt;/td&gt;\\n    &lt;/tr&gt;\\n  &lt;/tbody&gt;\\n&lt;/table&gt;\"},\"id\":\"2336\",\"type\":\"panel.models.markup.HTML\"}],\"root_ids\":[\"2328\",\"2337\"]},\"title\":\"Bokeh Application\",\"version\":\"2.4.3\"}};\n",
       "    var render_items = [{\"docid\":\"c7f52630-3322-4d3f-b2c0-0706100ce663\",\"root_ids\":[\"2328\"],\"roots\":{\"2328\":\"15fbf011-d982-4e8e-b2e1-0a5e358ed1a0\"}}];\n",
       "    root.Bokeh.embed.embed_items_notebook(docs_json, render_items);\n",
       "  }\n",
       "  if (root.Bokeh !== undefined && root.Bokeh.Panel !== undefined && ( root['Tabulator'] !== undefined)) {\n",
       "    embed_document(root);\n",
       "  } else {\n",
       "    var attempts = 0;\n",
       "    var timer = setInterval(function(root) {\n",
       "      if (root.Bokeh !== undefined && root.Bokeh.Panel !== undefined && (root['Tabulator'] !== undefined)) {\n",
       "        clearInterval(timer);\n",
       "        embed_document(root);\n",
       "      } else if (document.readyState == \"complete\") {\n",
       "        attempts++;\n",
       "        if (attempts > 200) {\n",
       "          clearInterval(timer);\n",
       "          console.log(\"Bokeh: ERROR: Unable to run BokehJS code because BokehJS library is missing\");\n",
       "        }\n",
       "      }\n",
       "    }, 25, root)\n",
       "  }\n",
       "})(window);</script>"
      ],
      "text/plain": [
       "<hvplot.interactive.Interactive at 0x135668730>"
      ]
     },
     "execution_count": 22,
     "metadata": {
      "application/vnd.holoviews_exec.v0+json": {
       "id": "2328"
      }
     },
     "output_type": "execute_result"
    }
   ],
   "source": [
    "productionPipeline"
   ]
  },
  {
   "cell_type": "markdown",
   "id": "44a03ac7",
   "metadata": {},
   "source": [
    "connecting the pipeline and plot in notebook"
   ]
  },
  {
   "cell_type": "code",
   "execution_count": 23,
   "id": "08386fa9-8f59-44b5-8894-6701ccf52304",
   "metadata": {},
   "outputs": [],
   "source": [
    "production_plot = productionPipeline.hvplot(x = 'year',by = 'state', y = yaxis_production,line_width=2,title = \"Production by state\")"
   ]
  },
  {
   "cell_type": "code",
   "execution_count": 24,
   "id": "1bacbb2f-add5-4ebb-a773-5ae7638efcb3",
   "metadata": {},
   "outputs": [
    {
     "data": {},
     "metadata": {},
     "output_type": "display_data"
    },
    {
     "data": {},
     "metadata": {},
     "output_type": "display_data"
    },
    {
     "data": {
      "application/vnd.holoviews_exec.v0+json": "",
      "text/html": [
       "<div id='2338'>\n",
       "  <div class=\"bk-root\" id=\"95fed140-18c4-4b67-9ece-76144ab1e45e\" data-root-id=\"2338\"></div>\n",
       "</div>\n",
       "<script type=\"application/javascript\">(function(root) {\n",
       "  function embed_document(root) {\n",
       "    var docs_json = {\"182d3b3b-7df4-45bf-8145-216569bb0119\":{\"defs\":[{\"extends\":null,\"module\":null,\"name\":\"ReactiveHTML1\",\"overrides\":[],\"properties\":[]},{\"extends\":null,\"module\":null,\"name\":\"FlexBox1\",\"overrides\":[],\"properties\":[{\"default\":\"flex-start\",\"kind\":null,\"name\":\"align_content\"},{\"default\":\"flex-start\",\"kind\":null,\"name\":\"align_items\"},{\"default\":\"row\",\"kind\":null,\"name\":\"flex_direction\"},{\"default\":\"wrap\",\"kind\":null,\"name\":\"flex_wrap\"},{\"default\":\"flex-start\",\"kind\":null,\"name\":\"justify_content\"}]},{\"extends\":null,\"module\":null,\"name\":\"GridStack1\",\"overrides\":[],\"properties\":[{\"default\":\"warn\",\"kind\":null,\"name\":\"mode\"},{\"default\":null,\"kind\":null,\"name\":\"ncols\"},{\"default\":null,\"kind\":null,\"name\":\"nrows\"},{\"default\":true,\"kind\":null,\"name\":\"allow_resize\"},{\"default\":true,\"kind\":null,\"name\":\"allow_drag\"},{\"default\":[],\"kind\":null,\"name\":\"state\"}]},{\"extends\":null,\"module\":null,\"name\":\"click1\",\"overrides\":[],\"properties\":[{\"default\":\"\",\"kind\":null,\"name\":\"terminal_output\"},{\"default\":\"\",\"kind\":null,\"name\":\"debug_name\"},{\"default\":0,\"kind\":null,\"name\":\"clears\"}]},{\"extends\":null,\"module\":null,\"name\":\"NotificationAreaBase1\",\"overrides\":[],\"properties\":[{\"default\":\"bottom-right\",\"kind\":null,\"name\":\"position\"},{\"default\":0,\"kind\":null,\"name\":\"_clear\"}]},{\"extends\":null,\"module\":null,\"name\":\"NotificationArea1\",\"overrides\":[],\"properties\":[{\"default\":[],\"kind\":null,\"name\":\"notifications\"},{\"default\":\"bottom-right\",\"kind\":null,\"name\":\"position\"},{\"default\":0,\"kind\":null,\"name\":\"_clear\"},{\"default\":[{\"background\":\"#ffc107\",\"icon\":{\"className\":\"fas fa-exclamation-triangle\",\"color\":\"white\",\"tagName\":\"i\"},\"type\":\"warning\"},{\"background\":\"#007bff\",\"icon\":{\"className\":\"fas fa-info-circle\",\"color\":\"white\",\"tagName\":\"i\"},\"type\":\"info\"}],\"kind\":null,\"name\":\"types\"}]},{\"extends\":null,\"module\":null,\"name\":\"Notification\",\"overrides\":[],\"properties\":[{\"default\":null,\"kind\":null,\"name\":\"background\"},{\"default\":3000,\"kind\":null,\"name\":\"duration\"},{\"default\":null,\"kind\":null,\"name\":\"icon\"},{\"default\":\"\",\"kind\":null,\"name\":\"message\"},{\"default\":null,\"kind\":null,\"name\":\"notification_type\"},{\"default\":false,\"kind\":null,\"name\":\"_destroyed\"}]},{\"extends\":null,\"module\":null,\"name\":\"TemplateActions1\",\"overrides\":[],\"properties\":[{\"default\":0,\"kind\":null,\"name\":\"open_modal\"},{\"default\":0,\"kind\":null,\"name\":\"close_modal\"}]},{\"extends\":null,\"module\":null,\"name\":\"MaterialTemplateActions1\",\"overrides\":[],\"properties\":[{\"default\":0,\"kind\":null,\"name\":\"open_modal\"},{\"default\":0,\"kind\":null,\"name\":\"close_modal\"}]}],\"roots\":{\"references\":[{\"attributes\":{\"line_alpha\":0.2,\"line_color\":\"#fc4f30\",\"line_width\":2,\"x\":{\"field\":\"year\"},\"y\":{\"field\":\"production\"}},\"id\":\"2422\",\"type\":\"Line\"},{\"attributes\":{\"children\":[{\"id\":\"2342\"},{\"id\":\"2343\"}],\"margin\":[0,0,0,0],\"name\":\"Column05005\"},\"id\":\"2341\",\"type\":\"Column\"},{\"attributes\":{\"line_color\":\"#fc4f30\",\"line_width\":2,\"x\":{\"field\":\"year\"},\"y\":{\"field\":\"production\"}},\"id\":\"2420\",\"type\":\"Line\"},{\"attributes\":{\"label\":{\"value\":\"punjab\"},\"renderers\":[{\"id\":\"2619\"}]},\"id\":\"2647\",\"type\":\"LegendItem\"},{\"attributes\":{\"data\":{\"production\":{\"__ndarray__\":\"AAAAAAAAJEA=\",\"dtype\":\"float64\",\"order\":\"little\",\"shape\":[1]},\"state\":[\"gujrat\"],\"year\":{\"__ndarray__\":\"AAAAAAB4nkA=\",\"dtype\":\"float64\",\"order\":\"little\",\"shape\":[1]}},\"selected\":{\"id\":\"2464\"},\"selection_policy\":{\"id\":\"2484\"}},\"id\":\"2463\",\"type\":\"ColumnDataSource\"},{\"attributes\":{\"coordinates\":null,\"data_source\":{\"id\":\"2769\"},\"glyph\":{\"id\":\"2772\"},\"group\":null,\"hover_glyph\":null,\"muted_glyph\":{\"id\":\"2774\"},\"nonselection_glyph\":{\"id\":\"2773\"},\"selection_glyph\":{\"id\":\"2812\"},\"view\":{\"id\":\"2776\"}},\"id\":\"2775\",\"type\":\"GlyphRenderer\"},{\"attributes\":{\"coordinates\":null,\"data_source\":{\"id\":\"2417\"},\"glyph\":{\"id\":\"2420\"},\"group\":null,\"hover_glyph\":null,\"muted_glyph\":{\"id\":\"2422\"},\"nonselection_glyph\":{\"id\":\"2421\"},\"selection_glyph\":{\"id\":\"2438\"},\"view\":{\"id\":\"2424\"}},\"id\":\"2423\",\"type\":\"GlyphRenderer\"},{\"attributes\":{\"line_color\":\"#d62728\",\"line_width\":2,\"x\":{\"field\":\"year\"},\"y\":{\"field\":\"production\"}},\"id\":\"2612\",\"type\":\"Line\"},{\"attributes\":{\"source\":{\"id\":\"2613\"}},\"id\":\"2620\",\"type\":\"CDSView\"},{\"attributes\":{\"line_alpha\":0.1,\"line_color\":\"#fc4f30\",\"line_width\":2,\"x\":{\"field\":\"year\"},\"y\":{\"field\":\"production\"}},\"id\":\"2421\",\"type\":\"Line\"},{\"attributes\":{\"source\":{\"id\":\"2417\"}},\"id\":\"2424\",\"type\":\"CDSView\"},{\"attributes\":{\"line_color\":\"#e377c2\",\"line_width\":2,\"x\":{\"field\":\"year\"},\"y\":{\"field\":\"production\"}},\"id\":\"2652\",\"type\":\"Line\"},{\"attributes\":{\"line_color\":\"#bcbd22\",\"line_width\":2,\"x\":{\"field\":\"year\"},\"y\":{\"field\":\"production\"}},\"id\":\"2768\",\"type\":\"Line\"},{\"attributes\":{\"line_color\":\"#e5ae38\",\"line_width\":2,\"x\":{\"field\":\"year\"},\"y\":{\"field\":\"production\"}},\"id\":\"2442\",\"type\":\"Line\"},{\"attributes\":{\"line_alpha\":0.2,\"line_color\":\"#30a2da\",\"line_width\":2,\"x\":{\"field\":\"year\"},\"y\":{\"field\":\"production\"}},\"id\":\"2774\",\"type\":\"Line\"},{\"attributes\":{\"label\":{\"value\":\"assam\"},\"renderers\":[{\"id\":\"2423\"}]},\"id\":\"2437\",\"type\":\"LegendItem\"},{\"attributes\":{\"data\":{\"production\":{\"__ndarray__\":\"AAAAAAAASUA=\",\"dtype\":\"float64\",\"order\":\"little\",\"shape\":[1]},\"state\":[\"tamilNadu\"],\"year\":{\"__ndarray__\":\"AAAAAAB4nkA=\",\"dtype\":\"float64\",\"order\":\"little\",\"shape\":[1]}},\"selected\":{\"id\":\"2688\"},\"selection_policy\":{\"id\":\"2722\"}},\"id\":\"2687\",\"type\":\"ColumnDataSource\"},{\"attributes\":{\"line_alpha\":0.2,\"line_color\":\"#e377c2\",\"line_width\":2,\"x\":{\"field\":\"year\"},\"y\":{\"field\":\"production\"}},\"id\":\"2654\",\"type\":\"Line\"},{\"attributes\":{\"line_color\":\"#30a2da\",\"line_width\":2,\"x\":{\"field\":\"year\"},\"y\":{\"field\":\"production\"}},\"id\":\"2772\",\"type\":\"Line\"},{\"attributes\":{\"coordinates\":null,\"data_source\":{\"id\":\"2687\"},\"glyph\":{\"id\":\"2690\"},\"group\":null,\"hover_glyph\":null,\"muted_glyph\":{\"id\":\"2692\"},\"nonselection_glyph\":{\"id\":\"2691\"},\"selection_glyph\":{\"id\":\"2726\"},\"view\":{\"id\":\"2694\"}},\"id\":\"2693\",\"type\":\"GlyphRenderer\"},{\"attributes\":{},\"id\":\"2434\",\"type\":\"UnionRenderers\"},{\"attributes\":{\"line_alpha\":0.1,\"line_color\":\"#30a2da\",\"line_width\":2,\"x\":{\"field\":\"year\"},\"y\":{\"field\":\"production\"}},\"id\":\"2773\",\"type\":\"Line\"},{\"attributes\":{\"label\":{\"value\":\"uttarPradesh\"},\"renderers\":[{\"id\":\"2733\"}]},\"id\":\"2767\",\"type\":\"LegendItem\"},{\"attributes\":{\"line_color\":\"#e377c2\",\"line_width\":2,\"x\":{\"field\":\"year\"},\"y\":{\"field\":\"production\"}},\"id\":\"2686\",\"type\":\"Line\"},{\"attributes\":{},\"id\":\"2614\",\"type\":\"Selection\"},{\"attributes\":{\"line_alpha\":0.2,\"line_color\":\"#8c564b\",\"line_width\":2,\"x\":{\"field\":\"year\"},\"y\":{\"field\":\"production\"}},\"id\":\"2692\",\"type\":\"Line\"},{\"attributes\":{\"line_color\":\"#1f77b4\",\"line_width\":2,\"x\":{\"field\":\"year\"},\"y\":{\"field\":\"production\"}},\"id\":\"2616\",\"type\":\"Line\"},{\"attributes\":{},\"id\":\"2644\",\"type\":\"UnionRenderers\"},{\"attributes\":{\"line_color\":\"#8c564b\",\"line_width\":2,\"x\":{\"field\":\"year\"},\"y\":{\"field\":\"production\"}},\"id\":\"2690\",\"type\":\"Line\"},{\"attributes\":{},\"id\":\"2770\",\"type\":\"Selection\"},{\"attributes\":{\"line_alpha\":0.1,\"line_color\":\"#bcbd22\",\"line_width\":2,\"x\":{\"field\":\"year\"},\"y\":{\"field\":\"production\"}},\"id\":\"2731\",\"type\":\"Line\"},{\"attributes\":{\"source\":{\"id\":\"2769\"}},\"id\":\"2776\",\"type\":\"CDSView\"},{\"attributes\":{},\"id\":\"2411\",\"type\":\"UnionRenderers\"},{\"attributes\":{\"line_color\":\"#8b8b8b\",\"line_width\":2,\"x\":{\"field\":\"year\"},\"y\":{\"field\":\"production\"}},\"id\":\"2516\",\"type\":\"Line\"},{\"attributes\":{\"line_alpha\":0.1,\"line_color\":\"#8c564b\",\"line_width\":2,\"x\":{\"field\":\"year\"},\"y\":{\"field\":\"production\"}},\"id\":\"2691\",\"type\":\"Line\"},{\"attributes\":{\"label\":{\"value\":\"westBengal\"},\"renderers\":[{\"id\":\"2775\"}]},\"id\":\"2811\",\"type\":\"LegendItem\"},{\"attributes\":{\"children\":[{\"id\":\"2340\"},{\"id\":\"2360\"}],\"margin\":[0,0,0,0],\"name\":\"Column05016\"},\"id\":\"2339\",\"type\":\"Column\"},{\"attributes\":{\"line_color\":\"#17becf\",\"line_width\":2,\"x\":{\"field\":\"year\"},\"y\":{\"field\":\"production\"}},\"id\":\"2520\",\"type\":\"Line\"},{\"attributes\":{},\"id\":\"2808\",\"type\":\"UnionRenderers\"},{\"attributes\":{},\"id\":\"2365\",\"type\":\"LinearScale\"},{\"attributes\":{\"data\":{\"production\":{\"__ndarray__\":\"AAAAAAAAUkA=\",\"dtype\":\"float64\",\"order\":\"little\",\"shape\":[1]},\"state\":[\"andhraPradesh\"],\"year\":{\"__ndarray__\":\"AAAAAAB4nkA=\",\"dtype\":\"float64\",\"order\":\"little\",\"shape\":[1]}},\"selected\":{\"id\":\"2397\"},\"selection_policy\":{\"id\":\"2411\"}},\"id\":\"2396\",\"type\":\"ColumnDataSource\"},{\"attributes\":{\"source\":{\"id\":\"2727\"}},\"id\":\"2734\",\"type\":\"CDSView\"},{\"attributes\":{\"callback\":null,\"renderers\":[{\"id\":\"2402\"},{\"id\":\"2423\"},{\"id\":\"2445\"},{\"id\":\"2469\"},{\"id\":\"2495\"},{\"id\":\"2523\"},{\"id\":\"2553\"},{\"id\":\"2585\"},{\"id\":\"2619\"},{\"id\":\"2655\"},{\"id\":\"2693\"},{\"id\":\"2733\"},{\"id\":\"2775\"}],\"tags\":[\"hv_created\"],\"tooltips\":[[\"state\",\"@{state}\"],[\"year\",\"@{year}\"],[\"production\",\"@{production}\"]]},\"id\":\"2347\",\"type\":\"HoverTool\"},{\"attributes\":{},\"id\":\"2688\",\"type\":\"Selection\"},{\"attributes\":{\"end\":1951.0,\"reset_end\":1951.0,\"reset_start\":1949.0,\"start\":1949.0,\"tags\":[[[\"year\",\"year\",null]]]},\"id\":\"2345\",\"type\":\"Range1d\"},{\"attributes\":{\"end\":1114.4,\"reset_end\":1114.4,\"reset_start\":-90.4,\"start\":-90.4,\"tags\":[[[\"production\",\"production\",null]]]},\"id\":\"2346\",\"type\":\"Range1d\"},{\"attributes\":{\"source\":{\"id\":\"2687\"}},\"id\":\"2694\",\"type\":\"CDSView\"},{\"attributes\":{\"line_color\":\"#bcbd22\",\"line_width\":2,\"x\":{\"field\":\"year\"},\"y\":{\"field\":\"production\"}},\"id\":\"2730\",\"type\":\"Line\"},{\"attributes\":{\"label\":{\"value\":\"tamilNadu\"},\"renderers\":[{\"id\":\"2693\"}]},\"id\":\"2725\",\"type\":\"LegendItem\"},{\"attributes\":{},\"id\":\"2542\",\"type\":\"UnionRenderers\"},{\"attributes\":{\"line_alpha\":0.1,\"line_color\":\"#17becf\",\"line_width\":2,\"x\":{\"field\":\"year\"},\"y\":{\"field\":\"production\"}},\"id\":\"2521\",\"type\":\"Line\"},{\"attributes\":{},\"id\":\"2518\",\"type\":\"Selection\"},{\"attributes\":{},\"id\":\"2722\",\"type\":\"UnionRenderers\"},{\"attributes\":{\"below\":[{\"id\":\"2369\"}],\"center\":[{\"id\":\"2372\"},{\"id\":\"2376\"}],\"height\":300,\"left\":[{\"id\":\"2373\"}],\"margin\":[5,5,5,5],\"min_border_bottom\":10,\"min_border_left\":10,\"min_border_right\":10,\"min_border_top\":10,\"renderers\":[{\"id\":\"2402\"},{\"id\":\"2423\"},{\"id\":\"2445\"},{\"id\":\"2469\"},{\"id\":\"2495\"},{\"id\":\"2523\"},{\"id\":\"2553\"},{\"id\":\"2585\"},{\"id\":\"2619\"},{\"id\":\"2655\"},{\"id\":\"2693\"},{\"id\":\"2733\"},{\"id\":\"2775\"}],\"right\":[{\"id\":\"2414\"}],\"sizing_mode\":\"fixed\",\"title\":{\"id\":\"2361\"},\"toolbar\":{\"id\":\"2383\"},\"width\":700,\"x_range\":{\"id\":\"2345\"},\"x_scale\":{\"id\":\"2365\"},\"y_range\":{\"id\":\"2346\"},\"y_scale\":{\"id\":\"2367\"}},\"id\":\"2360\",\"subtype\":\"Figure\",\"type\":\"Plot\"},{\"attributes\":{\"coordinates\":null,\"data_source\":{\"id\":\"2439\"},\"glyph\":{\"id\":\"2442\"},\"group\":null,\"hover_glyph\":null,\"muted_glyph\":{\"id\":\"2444\"},\"nonselection_glyph\":{\"id\":\"2443\"},\"selection_glyph\":{\"id\":\"2462\"},\"view\":{\"id\":\"2446\"}},\"id\":\"2445\",\"type\":\"GlyphRenderer\"},{\"attributes\":{\"axis_label\":\"year\",\"coordinates\":null,\"formatter\":{\"id\":\"2391\"},\"group\":null,\"major_label_policy\":{\"id\":\"2392\"},\"ticker\":{\"id\":\"2370\"}},\"id\":\"2369\",\"type\":\"LinearAxis\"},{\"attributes\":{\"client_comm_id\":\"0db4608eb7ef47f29aa3983d02572f28\",\"comm_id\":\"5d68c94c8ca046a582d1b96670dec74d\",\"plot_id\":\"2338\"},\"id\":\"2949\",\"type\":\"panel.models.comm_manager.CommManager\"},{\"attributes\":{\"line_color\":\"#17becf\",\"line_width\":2,\"x\":{\"field\":\"year\"},\"y\":{\"field\":\"production\"}},\"id\":\"2546\",\"type\":\"Line\"},{\"attributes\":{\"line_color\":\"#fc4f30\",\"line_width\":2,\"x\":{\"field\":\"year\"},\"y\":{\"field\":\"production\"}},\"id\":\"2438\",\"type\":\"Line\"},{\"attributes\":{\"line_alpha\":0.1,\"line_color\":\"#e377c2\",\"line_width\":2,\"x\":{\"field\":\"year\"},\"y\":{\"field\":\"production\"}},\"id\":\"2653\",\"type\":\"Line\"},{\"attributes\":{\"line_color\":\"#1f77b4\",\"line_width\":2,\"x\":{\"field\":\"year\"},\"y\":{\"field\":\"production\"}},\"id\":\"2648\",\"type\":\"Line\"},{\"attributes\":{\"label\":{\"value\":\"bihar\"},\"renderers\":[{\"id\":\"2445\"}]},\"id\":\"2461\",\"type\":\"LegendItem\"},{\"attributes\":{\"data\":{\"production\":{\"__ndarray__\":\"AAAAAAAAMUA=\",\"dtype\":\"float64\",\"order\":\"little\",\"shape\":[1]},\"state\":[\"rajasthan\"],\"year\":{\"__ndarray__\":\"AAAAAAB4nkA=\",\"dtype\":\"float64\",\"order\":\"little\",\"shape\":[1]}},\"selected\":{\"id\":\"2650\"},\"selection_policy\":{\"id\":\"2682\"}},\"id\":\"2649\",\"type\":\"ColumnDataSource\"},{\"attributes\":{\"line_color\":\"#30a2da\",\"line_width\":2,\"x\":{\"field\":\"year\"},\"y\":{\"field\":\"production\"}},\"id\":\"2812\",\"type\":\"Line\"},{\"attributes\":{},\"id\":\"2440\",\"type\":\"Selection\"},{\"attributes\":{\"children\":[{\"id\":\"2341\"},{\"id\":\"2344\"}],\"margin\":[0,0,0,0],\"name\":\"Row05010\"},\"id\":\"2340\",\"type\":\"Row\"},{\"attributes\":{},\"id\":\"2458\",\"type\":\"UnionRenderers\"},{\"attributes\":{\"source\":{\"id\":\"2439\"}},\"id\":\"2446\",\"type\":\"CDSView\"},{\"attributes\":{\"coordinates\":null,\"data_source\":{\"id\":\"2727\"},\"glyph\":{\"id\":\"2730\"},\"group\":null,\"hover_glyph\":null,\"muted_glyph\":{\"id\":\"2732\"},\"nonselection_glyph\":{\"id\":\"2731\"},\"selection_glyph\":{\"id\":\"2768\"},\"view\":{\"id\":\"2734\"}},\"id\":\"2733\",\"type\":\"GlyphRenderer\"},{\"attributes\":{\"data\":{\"production\":{\"__ndarray__\":\"AAAAAAAAMkA=\",\"dtype\":\"float64\",\"order\":\"little\",\"shape\":[1]},\"state\":[\"westBengal\"],\"year\":{\"__ndarray__\":\"AAAAAAB4nkA=\",\"dtype\":\"float64\",\"order\":\"little\",\"shape\":[1]}},\"selected\":{\"id\":\"2770\"},\"selection_policy\":{\"id\":\"2808\"}},\"id\":\"2769\",\"type\":\"ColumnDataSource\"},{\"attributes\":{},\"id\":\"2650\",\"type\":\"Selection\"},{\"attributes\":{\"coordinates\":null,\"data_source\":{\"id\":\"2649\"},\"glyph\":{\"id\":\"2652\"},\"group\":null,\"hover_glyph\":null,\"muted_glyph\":{\"id\":\"2654\"},\"nonselection_glyph\":{\"id\":\"2653\"},\"selection_glyph\":{\"id\":\"2686\"},\"view\":{\"id\":\"2656\"}},\"id\":\"2655\",\"type\":\"GlyphRenderer\"},{\"attributes\":{\"source\":{\"id\":\"2649\"}},\"id\":\"2656\",\"type\":\"CDSView\"},{\"attributes\":{\"line_color\":\"#8c564b\",\"line_width\":2,\"x\":{\"field\":\"year\"},\"y\":{\"field\":\"production\"}},\"id\":\"2726\",\"type\":\"Line\"},{\"attributes\":{\"label\":{\"value\":\"rajasthan\"},\"renderers\":[{\"id\":\"2655\"}]},\"id\":\"2685\",\"type\":\"LegendItem\"},{\"attributes\":{\"data\":{\"production\":{\"__ndarray__\":\"AAAAAAAAOEA=\",\"dtype\":\"float64\",\"order\":\"little\",\"shape\":[1]},\"state\":[\"orrisa\"],\"year\":{\"__ndarray__\":\"AAAAAAB4nkA=\",\"dtype\":\"float64\",\"order\":\"little\",\"shape\":[1]}},\"selected\":{\"id\":\"2580\"},\"selection_policy\":{\"id\":\"2608\"}},\"id\":\"2579\",\"type\":\"ColumnDataSource\"},{\"attributes\":{},\"id\":\"2682\",\"type\":\"UnionRenderers\"},{\"attributes\":{\"data\":{\"production\":{\"__ndarray__\":\"AAAAAADAUkA=\",\"dtype\":\"float64\",\"order\":\"little\",\"shape\":[1]},\"state\":[\"maha\"],\"year\":{\"__ndarray__\":\"AAAAAAB4nkA=\",\"dtype\":\"float64\",\"order\":\"little\",\"shape\":[1]}},\"selected\":{\"id\":\"2548\"},\"selection_policy\":{\"id\":\"2574\"}},\"id\":\"2547\",\"type\":\"ColumnDataSource\"},{\"attributes\":{\"data\":{\"production\":{\"__ndarray__\":\"AAAAAACwj0A=\",\"dtype\":\"float64\",\"order\":\"little\",\"shape\":[1]},\"state\":[\"uttarPradesh\"],\"year\":{\"__ndarray__\":\"AAAAAAB4nkA=\",\"dtype\":\"float64\",\"order\":\"little\",\"shape\":[1]}},\"selected\":{\"id\":\"2728\"},\"selection_policy\":{\"id\":\"2764\"}},\"id\":\"2727\",\"type\":\"ColumnDataSource\"},{\"attributes\":{},\"id\":\"2418\",\"type\":\"Selection\"},{\"attributes\":{\"line_color\":\"#30a2da\",\"line_width\":2,\"x\":{\"field\":\"year\"},\"y\":{\"field\":\"production\"}},\"id\":\"2416\",\"type\":\"Line\"},{\"attributes\":{\"line_color\":\"#9467bd\",\"line_width\":2,\"x\":{\"field\":\"year\"},\"y\":{\"field\":\"production\"}},\"id\":\"2550\",\"type\":\"Line\"},{\"attributes\":{\"data\":{\"production\":{\"__ndarray__\":\"AAAAAADAZEA=\",\"dtype\":\"float64\",\"order\":\"little\",\"shape\":[1]},\"state\":[\"bihar\"],\"year\":{\"__ndarray__\":\"AAAAAAB4nkA=\",\"dtype\":\"float64\",\"order\":\"little\",\"shape\":[1]}},\"selected\":{\"id\":\"2440\"},\"selection_policy\":{\"id\":\"2458\"}},\"id\":\"2439\",\"type\":\"ColumnDataSource\"},{\"attributes\":{\"children\":[{\"id\":\"2339\"}],\"margin\":[0,0,0,0],\"name\":\"Row05017\"},\"id\":\"2338\",\"type\":\"Row\"},{\"attributes\":{},\"id\":\"2548\",\"type\":\"Selection\"},{\"attributes\":{},\"id\":\"2367\",\"type\":\"LinearScale\"},{\"attributes\":{},\"id\":\"2728\",\"type\":\"Selection\"},{\"attributes\":{\"line_alpha\":0.2,\"line_color\":\"#bcbd22\",\"line_width\":2,\"x\":{\"field\":\"year\"},\"y\":{\"field\":\"production\"}},\"id\":\"2732\",\"type\":\"Line\"},{\"attributes\":{\"coordinates\":null,\"group\":null,\"text\":\"Production by state\",\"text_color\":\"black\",\"text_font_size\":\"12pt\"},\"id\":\"2361\",\"type\":\"Title\"},{\"attributes\":{\"line_alpha\":0.1,\"line_color\":\"#9467bd\",\"line_width\":2,\"x\":{\"field\":\"year\"},\"y\":{\"field\":\"production\"}},\"id\":\"2551\",\"type\":\"Line\"},{\"attributes\":{\"line_alpha\":0.1,\"line_color\":\"#1f77b4\",\"line_width\":2,\"x\":{\"field\":\"year\"},\"y\":{\"field\":\"production\"}},\"id\":\"2617\",\"type\":\"Line\"},{\"attributes\":{\"coordinates\":null,\"data_source\":{\"id\":\"2547\"},\"glyph\":{\"id\":\"2550\"},\"group\":null,\"hover_glyph\":null,\"muted_glyph\":{\"id\":\"2552\"},\"nonselection_glyph\":{\"id\":\"2551\"},\"selection_glyph\":{\"id\":\"2578\"},\"view\":{\"id\":\"2554\"}},\"id\":\"2553\",\"type\":\"GlyphRenderer\"},{\"attributes\":{},\"id\":\"2378\",\"type\":\"PanTool\"},{\"attributes\":{\"line_alpha\":0.2,\"line_color\":\"#9467bd\",\"line_width\":2,\"x\":{\"field\":\"year\"},\"y\":{\"field\":\"production\"}},\"id\":\"2552\",\"type\":\"Line\"},{\"attributes\":{\"coordinates\":null,\"data_source\":{\"id\":\"2463\"},\"glyph\":{\"id\":\"2466\"},\"group\":null,\"hover_glyph\":null,\"muted_glyph\":{\"id\":\"2468\"},\"nonselection_glyph\":{\"id\":\"2467\"},\"selection_glyph\":{\"id\":\"2488\"},\"view\":{\"id\":\"2470\"}},\"id\":\"2469\",\"type\":\"GlyphRenderer\"},{\"attributes\":{\"label\":{\"value\":\"maha\"},\"renderers\":[{\"id\":\"2553\"}]},\"id\":\"2577\",\"type\":\"LegendItem\"},{\"attributes\":{},\"id\":\"2392\",\"type\":\"AllLabels\"},{\"attributes\":{\"axis\":{\"id\":\"2369\"},\"coordinates\":null,\"grid_line_color\":null,\"group\":null,\"ticker\":null},\"id\":\"2372\",\"type\":\"Grid\"},{\"attributes\":{\"source\":{\"id\":\"2547\"}},\"id\":\"2554\",\"type\":\"CDSView\"},{\"attributes\":{},\"id\":\"2370\",\"type\":\"BasicTicker\"},{\"attributes\":{\"axis_label\":\"production\",\"coordinates\":null,\"formatter\":{\"id\":\"2394\"},\"group\":null,\"major_label_policy\":{\"id\":\"2395\"},\"ticker\":{\"id\":\"2374\"}},\"id\":\"2373\",\"type\":\"LinearAxis\"},{\"attributes\":{\"line_color\":\"#9467bd\",\"line_width\":2,\"x\":{\"field\":\"year\"},\"y\":{\"field\":\"production\"}},\"id\":\"2578\",\"type\":\"Line\"},{\"attributes\":{\"axis\":{\"id\":\"2373\"},\"coordinates\":null,\"dimension\":1,\"grid_line_color\":null,\"group\":null,\"ticker\":null},\"id\":\"2376\",\"type\":\"Grid\"},{\"attributes\":{\"line_color\":\"#e5ae38\",\"line_width\":2,\"x\":{\"field\":\"year\"},\"y\":{\"field\":\"production\"}},\"id\":\"2462\",\"type\":\"Line\"},{\"attributes\":{\"data\":{\"production\":{\"__ndarray__\":\"AAAAAADgYkA=\",\"dtype\":\"float64\",\"order\":\"little\",\"shape\":[1]},\"state\":[\"punjab\"],\"year\":{\"__ndarray__\":\"AAAAAAB4nkA=\",\"dtype\":\"float64\",\"order\":\"little\",\"shape\":[1]}},\"selected\":{\"id\":\"2614\"},\"selection_policy\":{\"id\":\"2644\"}},\"id\":\"2613\",\"type\":\"ColumnDataSource\"},{\"attributes\":{},\"id\":\"2374\",\"type\":\"BasicTicker\"},{\"attributes\":{\"line_alpha\":0.2,\"line_color\":\"#6d904f\",\"line_width\":2,\"x\":{\"field\":\"year\"},\"y\":{\"field\":\"production\"}},\"id\":\"2468\",\"type\":\"Line\"},{\"attributes\":{},\"id\":\"2379\",\"type\":\"WheelZoomTool\"},{\"attributes\":{},\"id\":\"2574\",\"type\":\"UnionRenderers\"},{\"attributes\":{\"line_color\":\"#6d904f\",\"line_width\":2,\"x\":{\"field\":\"year\"},\"y\":{\"field\":\"production\"}},\"id\":\"2466\",\"type\":\"Line\"},{\"attributes\":{},\"id\":\"2377\",\"type\":\"SaveTool\"},{\"attributes\":{\"line_alpha\":0.2,\"line_color\":\"#17becf\",\"line_width\":2,\"x\":{\"field\":\"year\"},\"y\":{\"field\":\"production\"}},\"id\":\"2522\",\"type\":\"Line\"},{\"attributes\":{\"overlay\":{\"id\":\"2382\"}},\"id\":\"2380\",\"type\":\"BoxZoomTool\"},{\"attributes\":{\"data\":{\"production\":{\"__ndarray__\":\"AAAAAAAARUA=\",\"dtype\":\"float64\",\"order\":\"little\",\"shape\":[1]},\"state\":[\"karnataka\"],\"year\":{\"__ndarray__\":\"AAAAAAB4nkA=\",\"dtype\":\"float64\",\"order\":\"little\",\"shape\":[1]}},\"selected\":{\"id\":\"2518\"},\"selection_policy\":{\"id\":\"2542\"}},\"id\":\"2517\",\"type\":\"ColumnDataSource\"},{\"attributes\":{},\"id\":\"2381\",\"type\":\"ResetTool\"},{\"attributes\":{\"line_alpha\":0.1,\"line_color\":\"#6d904f\",\"line_width\":2,\"x\":{\"field\":\"year\"},\"y\":{\"field\":\"production\"}},\"id\":\"2467\",\"type\":\"Line\"},{\"attributes\":{\"bottom_units\":\"screen\",\"coordinates\":null,\"fill_alpha\":0.5,\"fill_color\":\"lightgrey\",\"group\":null,\"left_units\":\"screen\",\"level\":\"overlay\",\"line_alpha\":1.0,\"line_color\":\"black\",\"line_dash\":[4,4],\"line_width\":2,\"right_units\":\"screen\",\"syncable\":false,\"top_units\":\"screen\"},\"id\":\"2382\",\"type\":\"BoxAnnotation\"},{\"attributes\":{\"source\":{\"id\":\"2517\"}},\"id\":\"2524\",\"type\":\"CDSView\"},{\"attributes\":{\"line_alpha\":0.1,\"line_color\":\"#30a2da\",\"line_width\":2,\"x\":{\"field\":\"year\"},\"y\":{\"field\":\"production\"}},\"id\":\"2400\",\"type\":\"Line\"},{\"attributes\":{},\"id\":\"2464\",\"type\":\"Selection\"},{\"attributes\":{\"label\":{\"value\":\"karnataka\"},\"renderers\":[{\"id\":\"2523\"}]},\"id\":\"2545\",\"type\":\"LegendItem\"},{\"attributes\":{\"source\":{\"id\":\"2463\"}},\"id\":\"2470\",\"type\":\"CDSView\"},{\"attributes\":{\"line_color\":\"#8b8b8b\",\"line_width\":2,\"x\":{\"field\":\"year\"},\"y\":{\"field\":\"production\"}},\"id\":\"2492\",\"type\":\"Line\"},{\"attributes\":{\"label\":{\"value\":\"gujrat\"},\"renderers\":[{\"id\":\"2469\"}]},\"id\":\"2487\",\"type\":\"LegendItem\"},{\"attributes\":{\"line_alpha\":0.2,\"line_color\":\"#8b8b8b\",\"line_width\":2,\"x\":{\"field\":\"year\"},\"y\":{\"field\":\"production\"}},\"id\":\"2494\",\"type\":\"Line\"},{\"attributes\":{},\"id\":\"2484\",\"type\":\"UnionRenderers\"},{\"attributes\":{},\"id\":\"2764\",\"type\":\"UnionRenderers\"},{\"attributes\":{},\"id\":\"2397\",\"type\":\"Selection\"},{\"attributes\":{\"data\":{\"production\":{\"__ndarray__\":\"AAAAAAAAN0A=\",\"dtype\":\"float64\",\"order\":\"little\",\"shape\":[1]},\"state\":[\"assam\"],\"year\":{\"__ndarray__\":\"AAAAAAB4nkA=\",\"dtype\":\"float64\",\"order\":\"little\",\"shape\":[1]}},\"selected\":{\"id\":\"2418\"},\"selection_policy\":{\"id\":\"2434\"}},\"id\":\"2417\",\"type\":\"ColumnDataSource\"},{\"attributes\":{\"tools\":[{\"id\":\"2347\"},{\"id\":\"2377\"},{\"id\":\"2378\"},{\"id\":\"2379\"},{\"id\":\"2380\"},{\"id\":\"2381\"}]},\"id\":\"2383\",\"type\":\"Toolbar\"},{\"attributes\":{\"source\":{\"id\":\"2396\"}},\"id\":\"2403\",\"type\":\"CDSView\"},{\"attributes\":{\"line_alpha\":0.1,\"line_color\":\"#d62728\",\"line_width\":2,\"x\":{\"field\":\"year\"},\"y\":{\"field\":\"production\"}},\"id\":\"2583\",\"type\":\"Line\"},{\"attributes\":{\"label\":{\"value\":\"andhraPradesh\"},\"renderers\":[{\"id\":\"2402\"}]},\"id\":\"2415\",\"type\":\"LegendItem\"},{\"attributes\":{\"coordinates\":null,\"data_source\":{\"id\":\"2579\"},\"glyph\":{\"id\":\"2582\"},\"group\":null,\"hover_glyph\":null,\"muted_glyph\":{\"id\":\"2584\"},\"nonselection_glyph\":{\"id\":\"2583\"},\"selection_glyph\":{\"id\":\"2612\"},\"view\":{\"id\":\"2586\"}},\"id\":\"2585\",\"type\":\"GlyphRenderer\"},{\"attributes\":{\"click_policy\":\"mute\",\"coordinates\":null,\"group\":null,\"items\":[{\"id\":\"2415\"},{\"id\":\"2437\"},{\"id\":\"2461\"},{\"id\":\"2487\"},{\"id\":\"2515\"},{\"id\":\"2545\"},{\"id\":\"2577\"},{\"id\":\"2611\"},{\"id\":\"2647\"},{\"id\":\"2685\"},{\"id\":\"2725\"},{\"id\":\"2767\"},{\"id\":\"2811\"}],\"location\":[0,0],\"title\":\"state\"},\"id\":\"2414\",\"type\":\"Legend\"},{\"attributes\":{},\"id\":\"2580\",\"type\":\"Selection\"},{\"attributes\":{\"coordinates\":null,\"data_source\":{\"id\":\"2613\"},\"glyph\":{\"id\":\"2616\"},\"group\":null,\"hover_glyph\":null,\"muted_glyph\":{\"id\":\"2618\"},\"nonselection_glyph\":{\"id\":\"2617\"},\"selection_glyph\":{\"id\":\"2648\"},\"view\":{\"id\":\"2620\"}},\"id\":\"2619\",\"type\":\"GlyphRenderer\"},{\"attributes\":{\"line_alpha\":0.2,\"line_color\":\"#e5ae38\",\"line_width\":2,\"x\":{\"field\":\"year\"},\"y\":{\"field\":\"production\"}},\"id\":\"2444\",\"type\":\"Line\"},{\"attributes\":{\"line_color\":\"#30a2da\",\"line_width\":2,\"x\":{\"field\":\"year\"},\"y\":{\"field\":\"production\"}},\"id\":\"2399\",\"type\":\"Line\"},{\"attributes\":{\"line_alpha\":0.2,\"line_color\":\"#d62728\",\"line_width\":2,\"x\":{\"field\":\"year\"},\"y\":{\"field\":\"production\"}},\"id\":\"2584\",\"type\":\"Line\"},{\"attributes\":{\"source\":{\"id\":\"2579\"}},\"id\":\"2586\",\"type\":\"CDSView\"},{\"attributes\":{\"active\":0,\"button_type\":\"success\",\"labels\":[\"production\",\"productivity\"],\"margin\":[5,10,5,10]},\"id\":\"2343\",\"type\":\"RadioButtonGroup\"},{\"attributes\":{\"line_alpha\":0.2,\"line_color\":\"#1f77b4\",\"line_width\":2,\"x\":{\"field\":\"year\"},\"y\":{\"field\":\"production\"}},\"id\":\"2618\",\"type\":\"Line\"},{\"attributes\":{\"coordinates\":null,\"data_source\":{\"id\":\"2396\"},\"glyph\":{\"id\":\"2399\"},\"group\":null,\"hover_glyph\":null,\"muted_glyph\":{\"id\":\"2401\"},\"nonselection_glyph\":{\"id\":\"2400\"},\"selection_glyph\":{\"id\":\"2416\"},\"view\":{\"id\":\"2403\"}},\"id\":\"2402\",\"type\":\"GlyphRenderer\"},{\"attributes\":{\"line_alpha\":0.1,\"line_color\":\"#8b8b8b\",\"line_width\":2,\"x\":{\"field\":\"year\"},\"y\":{\"field\":\"production\"}},\"id\":\"2493\",\"type\":\"Line\"},{\"attributes\":{\"line_color\":\"#d62728\",\"line_width\":2,\"x\":{\"field\":\"year\"},\"y\":{\"field\":\"production\"}},\"id\":\"2582\",\"type\":\"Line\"},{\"attributes\":{\"label\":{\"value\":\"orrisa\"},\"renderers\":[{\"id\":\"2585\"}]},\"id\":\"2611\",\"type\":\"LegendItem\"},{\"attributes\":{\"line_color\":\"#6d904f\",\"line_width\":2,\"x\":{\"field\":\"year\"},\"y\":{\"field\":\"production\"}},\"id\":\"2488\",\"type\":\"Line\"},{\"attributes\":{},\"id\":\"2608\",\"type\":\"UnionRenderers\"},{\"attributes\":{\"data\":{\"production\":{\"__ndarray__\":\"AAAAAAAAJEA=\",\"dtype\":\"float64\",\"order\":\"little\",\"shape\":[1]},\"state\":[\"haryana\"],\"year\":{\"__ndarray__\":\"AAAAAAB4nkA=\",\"dtype\":\"float64\",\"order\":\"little\",\"shape\":[1]}},\"selected\":{\"id\":\"2490\"},\"selection_policy\":{\"id\":\"2512\"}},\"id\":\"2489\",\"type\":\"ColumnDataSource\"},{\"attributes\":{\"margin\":[5,5,5,5],\"name\":\"HSpacer05009\",\"sizing_mode\":\"stretch_width\"},\"id\":\"2344\",\"type\":\"Spacer\"},{\"attributes\":{\"line_alpha\":0.2,\"line_color\":\"#30a2da\",\"line_width\":2,\"x\":{\"field\":\"year\"},\"y\":{\"field\":\"production\"}},\"id\":\"2401\",\"type\":\"Line\"},{\"attributes\":{\"line_alpha\":0.1,\"line_color\":\"#e5ae38\",\"line_width\":2,\"x\":{\"field\":\"year\"},\"y\":{\"field\":\"production\"}},\"id\":\"2443\",\"type\":\"Line\"},{\"attributes\":{\"coordinates\":null,\"data_source\":{\"id\":\"2517\"},\"glyph\":{\"id\":\"2520\"},\"group\":null,\"hover_glyph\":null,\"muted_glyph\":{\"id\":\"2522\"},\"nonselection_glyph\":{\"id\":\"2521\"},\"selection_glyph\":{\"id\":\"2546\"},\"view\":{\"id\":\"2524\"}},\"id\":\"2523\",\"type\":\"GlyphRenderer\"},{\"attributes\":{\"end\":2021,\"margin\":[5,10,5,10],\"start\":1950,\"step\":2,\"title\":\"Year slider\",\"value\":1950},\"id\":\"2342\",\"type\":\"Slider\"},{\"attributes\":{},\"id\":\"2490\",\"type\":\"Selection\"},{\"attributes\":{\"coordinates\":null,\"data_source\":{\"id\":\"2489\"},\"glyph\":{\"id\":\"2492\"},\"group\":null,\"hover_glyph\":null,\"muted_glyph\":{\"id\":\"2494\"},\"nonselection_glyph\":{\"id\":\"2493\"},\"selection_glyph\":{\"id\":\"2516\"},\"view\":{\"id\":\"2496\"}},\"id\":\"2495\",\"type\":\"GlyphRenderer\"},{\"attributes\":{\"source\":{\"id\":\"2489\"}},\"id\":\"2496\",\"type\":\"CDSView\"},{\"attributes\":{\"label\":{\"value\":\"haryana\"},\"renderers\":[{\"id\":\"2495\"}]},\"id\":\"2515\",\"type\":\"LegendItem\"},{\"attributes\":{},\"id\":\"2394\",\"type\":\"BasicTickFormatter\"},{\"attributes\":{},\"id\":\"2391\",\"type\":\"BasicTickFormatter\"},{\"attributes\":{},\"id\":\"2512\",\"type\":\"UnionRenderers\"},{\"attributes\":{},\"id\":\"2395\",\"type\":\"AllLabels\"}],\"root_ids\":[\"2338\",\"2949\"]},\"title\":\"Bokeh Application\",\"version\":\"2.4.3\"}};\n",
       "    var render_items = [{\"docid\":\"182d3b3b-7df4-45bf-8145-216569bb0119\",\"root_ids\":[\"2338\"],\"roots\":{\"2338\":\"95fed140-18c4-4b67-9ece-76144ab1e45e\"}}];\n",
       "    root.Bokeh.embed.embed_items_notebook(docs_json, render_items);\n",
       "  }\n",
       "  if (root.Bokeh !== undefined && root.Bokeh.Panel !== undefined && ( root['Tabulator'] !== undefined)) {\n",
       "    embed_document(root);\n",
       "  } else {\n",
       "    var attempts = 0;\n",
       "    var timer = setInterval(function(root) {\n",
       "      if (root.Bokeh !== undefined && root.Bokeh.Panel !== undefined && (root['Tabulator'] !== undefined)) {\n",
       "        clearInterval(timer);\n",
       "        embed_document(root);\n",
       "      } else if (document.readyState == \"complete\") {\n",
       "        attempts++;\n",
       "        if (attempts > 200) {\n",
       "          clearInterval(timer);\n",
       "          console.log(\"Bokeh: ERROR: Unable to run BokehJS code because BokehJS library is missing\");\n",
       "        }\n",
       "      }\n",
       "    }, 25, root)\n",
       "  }\n",
       "})(window);</script>"
      ],
      "text/plain": [
       "<hvplot.interactive.Interactive at 0x13567e220>"
      ]
     },
     "execution_count": 24,
     "metadata": {
      "application/vnd.holoviews_exec.v0+json": {
       "id": "2338"
      }
     },
     "output_type": "execute_result"
    }
   ],
   "source": [
    "production_plot"
   ]
  },
  {
   "cell_type": "code",
   "execution_count": 25,
   "id": "1edad642-51ad-4739-a1f5-1ccc5930b044",
   "metadata": {},
   "outputs": [],
   "source": [
    "yaxis_caneCrushed = pn.widgets.RadioButtonGroup(\n",
    "    name = 'Y axis',\n",
    "    options = ['caneCrushed','area'],\n",
    "    button_type = 'success'\n",
    ")"
   ]
  },
  {
   "cell_type": "code",
   "execution_count": 26,
   "id": "e657c23d",
   "metadata": {},
   "outputs": [],
   "source": [
    "caneCrushed_bar_pipeline = (\n",
    "    idf[\n",
    "        (idf.year == year_slider) & (idf.state.isin(states))\n",
    "    ]\n",
    "    .groupby(['state','year'])[yaxis_caneCrushed].sum()\n",
    "    .to_frame()\n",
    "    .reset_index()\n",
    "    .sort_values(by = \"year\")\n",
    "    .reset_index(drop=True)\n",
    "    \n",
    ")"
   ]
  },
  {
   "cell_type": "code",
   "execution_count": 27,
   "id": "a393db79-e063-419b-b782-c26dfbf87613",
   "metadata": {},
   "outputs": [],
   "source": [
    "caneCrushed_bar_plot = caneCrushed_bar_pipeline.hvplot(kind=\"barh\",x = \"state\", y = yaxis_caneCrushed , title = \"caneCrushed and Area\")"
   ]
  },
  {
   "cell_type": "code",
   "execution_count": 28,
   "id": "efb109b3-b467-427b-8531-f38d19c1d1c3",
   "metadata": {},
   "outputs": [
    {
     "data": {},
     "metadata": {},
     "output_type": "display_data"
    },
    {
     "data": {},
     "metadata": {},
     "output_type": "display_data"
    },
    {
     "data": {
      "application/vnd.holoviews_exec.v0+json": "",
      "text/html": [
       "<div id='3120'>\n",
       "  <div class=\"bk-root\" id=\"52f87ef0-9d41-4f9e-b07e-1d332c215c17\" data-root-id=\"3120\"></div>\n",
       "</div>\n",
       "<script type=\"application/javascript\">(function(root) {\n",
       "  function embed_document(root) {\n",
       "    var docs_json = {\"8e66dfef-f940-4431-81dd-32d4e72a05cc\":{\"defs\":[{\"extends\":null,\"module\":null,\"name\":\"ReactiveHTML1\",\"overrides\":[],\"properties\":[]},{\"extends\":null,\"module\":null,\"name\":\"FlexBox1\",\"overrides\":[],\"properties\":[{\"default\":\"flex-start\",\"kind\":null,\"name\":\"align_content\"},{\"default\":\"flex-start\",\"kind\":null,\"name\":\"align_items\"},{\"default\":\"row\",\"kind\":null,\"name\":\"flex_direction\"},{\"default\":\"wrap\",\"kind\":null,\"name\":\"flex_wrap\"},{\"default\":\"flex-start\",\"kind\":null,\"name\":\"justify_content\"}]},{\"extends\":null,\"module\":null,\"name\":\"GridStack1\",\"overrides\":[],\"properties\":[{\"default\":\"warn\",\"kind\":null,\"name\":\"mode\"},{\"default\":null,\"kind\":null,\"name\":\"ncols\"},{\"default\":null,\"kind\":null,\"name\":\"nrows\"},{\"default\":true,\"kind\":null,\"name\":\"allow_resize\"},{\"default\":true,\"kind\":null,\"name\":\"allow_drag\"},{\"default\":[],\"kind\":null,\"name\":\"state\"}]},{\"extends\":null,\"module\":null,\"name\":\"click1\",\"overrides\":[],\"properties\":[{\"default\":\"\",\"kind\":null,\"name\":\"terminal_output\"},{\"default\":\"\",\"kind\":null,\"name\":\"debug_name\"},{\"default\":0,\"kind\":null,\"name\":\"clears\"}]},{\"extends\":null,\"module\":null,\"name\":\"NotificationAreaBase1\",\"overrides\":[],\"properties\":[{\"default\":\"bottom-right\",\"kind\":null,\"name\":\"position\"},{\"default\":0,\"kind\":null,\"name\":\"_clear\"}]},{\"extends\":null,\"module\":null,\"name\":\"NotificationArea1\",\"overrides\":[],\"properties\":[{\"default\":[],\"kind\":null,\"name\":\"notifications\"},{\"default\":\"bottom-right\",\"kind\":null,\"name\":\"position\"},{\"default\":0,\"kind\":null,\"name\":\"_clear\"},{\"default\":[{\"background\":\"#ffc107\",\"icon\":{\"className\":\"fas fa-exclamation-triangle\",\"color\":\"white\",\"tagName\":\"i\"},\"type\":\"warning\"},{\"background\":\"#007bff\",\"icon\":{\"className\":\"fas fa-info-circle\",\"color\":\"white\",\"tagName\":\"i\"},\"type\":\"info\"}],\"kind\":null,\"name\":\"types\"}]},{\"extends\":null,\"module\":null,\"name\":\"Notification\",\"overrides\":[],\"properties\":[{\"default\":null,\"kind\":null,\"name\":\"background\"},{\"default\":3000,\"kind\":null,\"name\":\"duration\"},{\"default\":null,\"kind\":null,\"name\":\"icon\"},{\"default\":\"\",\"kind\":null,\"name\":\"message\"},{\"default\":null,\"kind\":null,\"name\":\"notification_type\"},{\"default\":false,\"kind\":null,\"name\":\"_destroyed\"}]},{\"extends\":null,\"module\":null,\"name\":\"TemplateActions1\",\"overrides\":[],\"properties\":[{\"default\":0,\"kind\":null,\"name\":\"open_modal\"},{\"default\":0,\"kind\":null,\"name\":\"close_modal\"}]},{\"extends\":null,\"module\":null,\"name\":\"MaterialTemplateActions1\",\"overrides\":[],\"properties\":[{\"default\":0,\"kind\":null,\"name\":\"open_modal\"},{\"default\":0,\"kind\":null,\"name\":\"close_modal\"}]}],\"roots\":{\"references\":[{\"attributes\":{},\"id\":\"3171\",\"type\":\"AllLabels\"},{\"attributes\":{\"callback\":null,\"renderers\":[{\"id\":\"3166\"}],\"tags\":[\"hv_created\"],\"tooltips\":[[\"state\",\"@{state}\"],[\"caneCrushed\",\"@{caneCrushed}\"]]},\"id\":\"3130\",\"type\":\"HoverTool\"},{\"attributes\":{},\"id\":\"3173\",\"type\":\"CategoricalTickFormatter\"},{\"attributes\":{\"children\":[{\"id\":\"3121\"}],\"margin\":[0,0,0,0],\"name\":\"Row06457\"},\"id\":\"3120\",\"type\":\"Row\"},{\"attributes\":{\"fill_color\":{\"value\":\"#30a2da\"},\"hatch_color\":{\"value\":\"#30a2da\"},\"height\":{\"value\":0.8},\"right\":{\"field\":\"caneCrushed\"},\"y\":{\"field\":\"state\"}},\"id\":\"3163\",\"type\":\"HBar\"},{\"attributes\":{},\"id\":\"3174\",\"type\":\"AllLabels\"},{\"attributes\":{\"below\":[{\"id\":\"3140\"}],\"center\":[{\"id\":\"3143\"},{\"id\":\"3146\"}],\"height\":300,\"left\":[{\"id\":\"3144\"}],\"margin\":[5,5,5,5],\"min_border_bottom\":10,\"min_border_left\":10,\"min_border_right\":10,\"min_border_top\":10,\"renderers\":[{\"id\":\"3166\"}],\"sizing_mode\":\"fixed\",\"title\":{\"id\":\"3132\"},\"toolbar\":{\"id\":\"3153\"},\"width\":700,\"x_range\":{\"id\":\"3128\"},\"x_scale\":{\"id\":\"3136\"},\"y_range\":{\"id\":\"3129\"},\"y_scale\":{\"id\":\"3138\"}},\"id\":\"3131\",\"subtype\":\"Figure\",\"type\":\"Plot\"},{\"attributes\":{\"bottom_units\":\"screen\",\"coordinates\":null,\"fill_alpha\":0.5,\"fill_color\":\"lightgrey\",\"group\":null,\"left_units\":\"screen\",\"level\":\"overlay\",\"line_alpha\":1.0,\"line_color\":\"black\",\"line_dash\":[4,4],\"line_width\":2,\"right_units\":\"screen\",\"syncable\":false,\"top_units\":\"screen\"},\"id\":\"3152\",\"type\":\"BoxAnnotation\"},{\"attributes\":{},\"id\":\"3148\",\"type\":\"PanTool\"},{\"attributes\":{},\"id\":\"3138\",\"type\":\"CategoricalScale\"},{\"attributes\":{\"axis_label\":\"caneCrushed\",\"coordinates\":null,\"formatter\":{\"id\":\"3170\"},\"group\":null,\"major_label_policy\":{\"id\":\"3171\"},\"ticker\":{\"id\":\"3141\"}},\"id\":\"3140\",\"type\":\"LinearAxis\"},{\"attributes\":{\"axis\":{\"id\":\"3140\"},\"coordinates\":null,\"grid_line_color\":null,\"group\":null,\"ticker\":null},\"id\":\"3143\",\"type\":\"Grid\"},{\"attributes\":{\"tools\":[{\"id\":\"3130\"},{\"id\":\"3147\"},{\"id\":\"3148\"},{\"id\":\"3149\"},{\"id\":\"3150\"},{\"id\":\"3151\"}]},\"id\":\"3153\",\"type\":\"Toolbar\"},{\"attributes\":{},\"id\":\"3141\",\"type\":\"BasicTicker\"},{\"attributes\":{\"active\":0,\"button_type\":\"success\",\"labels\":[\"caneCrushed\",\"area\"],\"margin\":[5,10,5,10]},\"id\":\"3125\",\"type\":\"RadioButtonGroup\"},{\"attributes\":{},\"id\":\"3149\",\"type\":\"WheelZoomTool\"},{\"attributes\":{},\"id\":\"3161\",\"type\":\"Selection\"},{\"attributes\":{\"axis_label\":\"state\",\"coordinates\":null,\"formatter\":{\"id\":\"3173\"},\"group\":null,\"major_label_policy\":{\"id\":\"3174\"},\"ticker\":{\"id\":\"3145\"}},\"id\":\"3144\",\"type\":\"CategoricalAxis\"},{\"attributes\":{\"data\":{\"caneCrushed\":{\"__ndarray__\":\"AAAAAAAAUkAAAAAAAAA3QAAAAAAAwGRAAAAAAAAAJEAAAAAAAAAkQAAAAAAAAEVAAAAAAADAUkAAAAAAAAA4QAAAAAAA4GJAAAAAAAAAMUAAAAAAAABJQAAAAAAAsI9AAAAAAAAAMkA=\",\"dtype\":\"float64\",\"order\":\"little\",\"shape\":[13]},\"state\":[\"andhraPradesh\",\"assam\",\"bihar\",\"gujrat\",\"haryana\",\"karnataka\",\"maha\",\"orrisa\",\"punjab\",\"rajasthan\",\"tamilNadu\",\"uttarPradesh\",\"westBengal\"]},\"selected\":{\"id\":\"3161\"},\"selection_policy\":{\"id\":\"3182\"}},\"id\":\"3160\",\"type\":\"ColumnDataSource\"},{\"attributes\":{\"axis\":{\"id\":\"3144\"},\"coordinates\":null,\"dimension\":1,\"grid_line_color\":null,\"group\":null,\"ticker\":null},\"id\":\"3146\",\"type\":\"Grid\"},{\"attributes\":{\"fill_alpha\":{\"value\":1.0},\"fill_color\":{\"value\":\"#30a2da\"},\"hatch_alpha\":{\"value\":1.0},\"hatch_color\":{\"value\":\"#30a2da\"},\"hatch_scale\":{\"value\":12.0},\"hatch_weight\":{\"value\":1.0},\"height\":{\"value\":0.8},\"left\":{\"value\":0},\"line_alpha\":{\"value\":1.0},\"line_cap\":{\"value\":\"butt\"},\"line_color\":{\"value\":\"black\"},\"line_dash\":{\"value\":[]},\"line_dash_offset\":{\"value\":0},\"line_join\":{\"value\":\"bevel\"},\"line_width\":{\"value\":1},\"right\":{\"field\":\"caneCrushed\"},\"y\":{\"field\":\"state\"}},\"id\":\"3168\",\"type\":\"HBar\"},{\"attributes\":{},\"id\":\"3145\",\"type\":\"CategoricalTicker\"},{\"attributes\":{\"children\":[{\"id\":\"3123\"},{\"id\":\"3126\"}],\"margin\":[0,0,0,0],\"name\":\"Row06455\"},\"id\":\"3122\",\"type\":\"Row\"},{\"attributes\":{\"fill_alpha\":{\"value\":0.1},\"fill_color\":{\"value\":\"#30a2da\"},\"hatch_alpha\":{\"value\":0.1},\"hatch_color\":{\"value\":\"#30a2da\"},\"height\":{\"value\":0.8},\"line_alpha\":{\"value\":0.1},\"right\":{\"field\":\"caneCrushed\"},\"y\":{\"field\":\"state\"}},\"id\":\"3164\",\"type\":\"HBar\"},{\"attributes\":{\"coordinates\":null,\"data_source\":{\"id\":\"3160\"},\"glyph\":{\"id\":\"3163\"},\"group\":null,\"hover_glyph\":null,\"muted_glyph\":{\"id\":\"3165\"},\"nonselection_glyph\":{\"id\":\"3164\"},\"selection_glyph\":{\"id\":\"3168\"},\"view\":{\"id\":\"3167\"}},\"id\":\"3166\",\"type\":\"GlyphRenderer\"},{\"attributes\":{\"children\":[{\"id\":\"3124\"},{\"id\":\"3125\"}],\"margin\":[0,0,0,0],\"name\":\"Column06320\"},\"id\":\"3123\",\"type\":\"Column\"},{\"attributes\":{\"end\":2021,\"margin\":[5,10,5,10],\"start\":1950,\"step\":2,\"title\":\"Year slider\",\"value\":1950},\"id\":\"3124\",\"type\":\"Slider\"},{\"attributes\":{\"source\":{\"id\":\"3160\"}},\"id\":\"3167\",\"type\":\"CDSView\"},{\"attributes\":{},\"id\":\"3147\",\"type\":\"SaveTool\"},{\"attributes\":{\"children\":[{\"id\":\"3122\"},{\"id\":\"3127\"}],\"margin\":[0,0,0,0],\"name\":\"Column06456\"},\"id\":\"3121\",\"type\":\"Column\"},{\"attributes\":{\"overlay\":{\"id\":\"3152\"}},\"id\":\"3150\",\"type\":\"BoxZoomTool\"},{\"attributes\":{\"fill_alpha\":{\"value\":0.2},\"fill_color\":{\"value\":\"#30a2da\"},\"hatch_alpha\":{\"value\":0.2},\"hatch_color\":{\"value\":\"#30a2da\"},\"height\":{\"value\":0.8},\"line_alpha\":{\"value\":0.2},\"right\":{\"field\":\"caneCrushed\"},\"y\":{\"field\":\"state\"}},\"id\":\"3165\",\"type\":\"HBar\"},{\"attributes\":{},\"id\":\"3151\",\"type\":\"ResetTool\"},{\"attributes\":{\"end\":1114.4,\"reset_end\":1114.4,\"reset_start\":0.0,\"tags\":[[[\"caneCrushed\",\"caneCrushed\",null]]]},\"id\":\"3128\",\"type\":\"Range1d\"},{\"attributes\":{\"client_comm_id\":\"30ef5fac34fc41b0b95f0f021a9f4860\",\"comm_id\":\"ddc5481f9bf542bd96abe2b729f5f951\",\"plot_id\":\"3120\"},\"id\":\"3215\",\"type\":\"panel.models.comm_manager.CommManager\"},{\"attributes\":{\"margin\":[5,5,5,5],\"name\":\"HSpacer06454\",\"sizing_mode\":\"stretch_width\"},\"id\":\"3126\",\"type\":\"Spacer\"},{\"attributes\":{},\"id\":\"3136\",\"type\":\"LinearScale\"},{\"attributes\":{\"factors\":[\"andhraPradesh\",\"assam\",\"bihar\",\"gujrat\",\"haryana\",\"karnataka\",\"maha\",\"orrisa\",\"punjab\",\"rajasthan\",\"tamilNadu\",\"uttarPradesh\",\"westBengal\"],\"tags\":[[[\"state\",\"state\",null]]]},\"id\":\"3129\",\"type\":\"FactorRange\"},{\"attributes\":{\"children\":[{\"id\":\"3131\"}],\"margin\":[0,0,0,0],\"name\":\"Row06325\"},\"id\":\"3127\",\"type\":\"Row\"},{\"attributes\":{},\"id\":\"3170\",\"type\":\"BasicTickFormatter\"},{\"attributes\":{\"coordinates\":null,\"group\":null,\"text\":\"something\",\"text_color\":\"black\",\"text_font_size\":\"12pt\"},\"id\":\"3132\",\"type\":\"Title\"},{\"attributes\":{},\"id\":\"3182\",\"type\":\"UnionRenderers\"}],\"root_ids\":[\"3120\",\"3215\"]},\"title\":\"Bokeh Application\",\"version\":\"2.4.3\"}};\n",
       "    var render_items = [{\"docid\":\"8e66dfef-f940-4431-81dd-32d4e72a05cc\",\"root_ids\":[\"3120\"],\"roots\":{\"3120\":\"52f87ef0-9d41-4f9e-b07e-1d332c215c17\"}}];\n",
       "    root.Bokeh.embed.embed_items_notebook(docs_json, render_items);\n",
       "  }\n",
       "  if (root.Bokeh !== undefined && root.Bokeh.Panel !== undefined && ( root['Tabulator'] !== undefined)) {\n",
       "    embed_document(root);\n",
       "  } else {\n",
       "    var attempts = 0;\n",
       "    var timer = setInterval(function(root) {\n",
       "      if (root.Bokeh !== undefined && root.Bokeh.Panel !== undefined && (root['Tabulator'] !== undefined)) {\n",
       "        clearInterval(timer);\n",
       "        embed_document(root);\n",
       "      } else if (document.readyState == \"complete\") {\n",
       "        attempts++;\n",
       "        if (attempts > 200) {\n",
       "          clearInterval(timer);\n",
       "          console.log(\"Bokeh: ERROR: Unable to run BokehJS code because BokehJS library is missing\");\n",
       "        }\n",
       "      }\n",
       "    }, 25, root)\n",
       "  }\n",
       "})(window);</script>"
      ],
      "text/plain": [
       "<hvplot.interactive.Interactive at 0x135914df0>"
      ]
     },
     "execution_count": 28,
     "metadata": {
      "application/vnd.holoviews_exec.v0+json": {
       "id": "3120"
      }
     },
     "output_type": "execute_result"
    }
   ],
   "source": [
    "caneCrushed_bar_plot"
   ]
  },
  {
   "cell_type": "code",
   "execution_count": 30,
   "id": "4c30d706-645e-48d2-a45e-9221d13c9406",
   "metadata": {},
   "outputs": [],
   "source": [
    "#Layout using Template\n",
    "template = pn.template.FastListTemplate(\n",
    "    title='Sugarcane Statistics India', \n",
    "    sidebar=[pn.pane.Markdown(\"###India is the second-largest sugarcane producer globally after Brazil. In India, 21% of agricultural area is used for sugarcane production. The country produces about 22% of the total sugarcane in the world. The largest producer of sugarcane in India is the state of Uttar Pradesh.The second largest producer of sugarcane in India is Maharashtra. This state covers around 940,000 hectares of area with sugarcane production. This state produces around 61.32 million tonnes of sugarcane per year on average.\"), \n",
    "             pn.pane.PNG('sugarcane.png', sizing_mode='scale_both'),\n",
    "             pn.pane.Markdown(\"## Settings\"),   \n",
    "             year_slider],\n",
    "    main=[pn.Row(pn.Column(yaxis_sugar, \n",
    "                           sugar_plot.panel(width=700), margin=(0,25)), \n",
    "                 pn.Column(yaxis_caneCrushed, caneCrushed_bar_plot.panel(width=600))), \n",
    "          pn.Row(pn.Column(area_vs_production_scatterplot.panel(width=600,height=400), margin=(0,25)), \n",
    "                 pn.Column(yaxis_production,production_plot.panel(width=700), margin=(0,25)))],\n",
    "    accent_base_color=\"#219956\",\n",
    "    header_background=\"#219956\",\n",
    ")\n",
    "# template.show()\n",
    "template.servable();"
   ]
  }
 ],
 "metadata": {
  "kernelspec": {
   "display_name": "Python 3 (ipykernel)",
   "language": "python",
   "name": "python3"
  },
  "language_info": {
   "codemirror_mode": {
    "name": "ipython",
    "version": 3
   },
   "file_extension": ".py",
   "mimetype": "text/x-python",
   "name": "python",
   "nbconvert_exporter": "python",
   "pygments_lexer": "ipython3",
   "version": "3.9.13"
  }
 },
 "nbformat": 4,
 "nbformat_minor": 5
}
